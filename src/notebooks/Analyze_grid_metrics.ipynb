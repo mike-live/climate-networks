{
 "cells": [
  {
   "cell_type": "code",
   "execution_count": 7,
   "id": "sixth-journey",
   "metadata": {},
   "outputs": [],
   "source": [
    "%load_ext autoreload\n",
    "%autoreload 2\n",
    "import numpy as np\n",
    "import re\n",
    "import time\n",
    "import matplotlib\n",
    "import matplotlib.pyplot as plt\n",
    "import matplotlib.mlab as mlab\n",
    "import textwrap\n",
    "import scipy.stats as stats\n",
    "\n",
    "from scipy import stats\n",
    "import scipy\n",
    "from functools import partial\n",
    "\n",
    "import matplotlib.pylab as pylab\n",
    "import seaborn as sns\n",
    "sns.set_style('whitegrid', {'legend.frameon':True})\n",
    "sns.set_palette(sns.color_palette(\"Set1\", 12))\n",
    "#sns.set_context(\"paper\")\n",
    "fontsize = 12\n",
    "params = {'legend.fontsize': fontsize,\n",
    "  'figure.figsize': (18, 15),\n",
    "  'axes.labelsize': fontsize,\n",
    "  'axes.titlesize':fontsize,\n",
    "  'axes.edgecolor':\"0.3\",\n",
    "  'xtick.labelsize':fontsize,\n",
    "  'ytick.labelsize':fontsize,\n",
    "  'legend.fontsize':10,\n",
    "  'font.size':fontsize,\n",
    "  'font.family':'serif'}\n",
    "pylab.rcParams.update(params)\n",
    "plt.rc('axes', labelsize=fontsize) \n",
    "\n",
    "#plt.style.use('ggplot')\n",
    "%matplotlib inline\n",
    "\n",
    "from tqdm.notebook import tqdm\n",
    "import pandas as pd\n",
    "from pathlib2 import Path\n",
    "import os"
   ]
  },
  {
   "cell_type": "code",
   "execution_count": 1,
   "id": "warming-protest",
   "metadata": {},
   "outputs": [],
   "source": [
    "import sys\n",
    "sys.path.append('../')\n",
    "\n",
    "from metric_store import save_metrics, save_metric, load_metrics, get_metric_names, load_metric, add_metric\n",
    "from network_metrics import prepare_metric\n",
    "from pipeline.pipeline import load_config"
   ]
  },
  {
   "cell_type": "code",
   "execution_count": 2,
   "id": "anonymous-planning",
   "metadata": {},
   "outputs": [],
   "source": [
    "config_name = \"pipeline.config\"\n",
    "config = load_config(config_name)"
   ]
  },
  {
   "cell_type": "code",
   "execution_count": 13,
   "id": "occupational-dryer",
   "metadata": {},
   "outputs": [],
   "source": [
    "network_metric_names = ['LCC_0.9', 'GCC_0.9', 'degree_0.9', 'EVC_0.9', 'closeness_0.9',\n",
    "                        'LCC_0.95', 'GCC_0.95', 'degree_0.95', 'EVC_0.95', 'closeness_0.95']\n",
    "for network_metric_name in network_metric_names:\n",
    "    metric_name = 'network_metrics/' + network_metric_name\n",
    "    add_metric(config, metric_name, metric_name + '.npy')"
   ]
  },
  {
   "cell_type": "code",
   "execution_count": 3,
   "id": "sitting-fellow",
   "metadata": {},
   "outputs": [],
   "source": [
    "from corr_network import load_data, get_available_mask\n",
    "data = load_data(config)\n",
    "available_mask = get_available_mask(data)"
   ]
  },
  {
   "cell_type": "code",
   "execution_count": 6,
   "id": "female-annotation",
   "metadata": {},
   "outputs": [
    {
     "name": "stdout",
     "output_type": "stream",
     "text": [
      "local_grid_metrics_for_cyclones/network_metrics/LCC_w ()\n"
     ]
    }
   ],
   "source": [
    "metric_names = ['local_grid_metrics_for_cyclones/network_metrics/LCC_w']\n",
    "#metric_names = ['network_metrics/LCC_w']\n",
    "for metric_name in metric_names:\n",
    "    config.metrics_plot_options['metric_name'] = metric_name\n",
    "    metric = load_metric(config, metric_name)\n",
    "    metric = prepare_metric(metric_name, metric, available_mask)\n",
    "    print(metric_name, metric.shape)"
   ]
  },
  {
   "cell_type": "code",
   "execution_count": 4,
   "id": "passing-audit",
   "metadata": {},
   "outputs": [
    {
     "data": {
      "text/plain": [
       "{'network_metrics/LCC': 'network_metrics/LCC.npy',\n",
       " 'network_metrics/GCC': 'network_metrics/GCC.npy',\n",
       " 'network_metrics/LCC_w': 'network_metrics/LCC_w.npy',\n",
       " 'network_metrics/GCC_w': 'network_metrics/GCC_w.npy',\n",
       " 'network_metrics/degree': 'network_metrics/degree.npy',\n",
       " 'network_metrics/degree_w': 'network_metrics/degree_w.npy',\n",
       " 'network_metrics/EVC': 'network_metrics/EVC.npy',\n",
       " 'network_metrics/EVC_w': 'network_metrics/EVC_w.npy',\n",
       " 'network_metrics/closeness': 'network_metrics/closeness.npy',\n",
       " 'network_metrics/closeness_w': 'network_metrics/closeness_w.npy',\n",
       " 'input_data/MSLP': WindowsPath('../../../data/ERA5/ERA5_MSLP_1982_2019_3h_0.75/resulting_cube_land_masked_and_preproc.npz'),\n",
       " 'diff_metrics/network_metrics/LCC': 'diff_metrics/network_metrics/LCC.npy',\n",
       " 'diff_metrics/network_metrics/GCC': 'diff_metrics/network_metrics/GCC.npy',\n",
       " 'diff_metrics/network_metrics/LCC_w': 'diff_metrics/network_metrics/LCC_w.npy',\n",
       " 'diff_metrics/network_metrics/GCC_w': 'diff_metrics/network_metrics/GCC_w.npy',\n",
       " 'diff_metrics/network_metrics/degree': 'diff_metrics/network_metrics/degree.npy',\n",
       " 'diff_metrics/network_metrics/degree_w': 'diff_metrics/network_metrics/degree_w.npy',\n",
       " 'diff_metrics/network_metrics/EVC': 'diff_metrics/network_metrics/EVC.npy',\n",
       " 'diff_metrics/network_metrics/EVC_w': 'diff_metrics/network_metrics/EVC_w.npy',\n",
       " 'diff_metrics/network_metrics/closeness': 'diff_metrics/network_metrics/closeness.npy',\n",
       " 'diff_metrics/network_metrics/closeness_w': 'diff_metrics/network_metrics/closeness_w.npy',\n",
       " 'input_data/MSLP_preproc': 'input_data/MSLP_preproc',\n",
       " 'network_metrics/LCC_0.9': 'network_metrics/LCC_0.9.npy',\n",
       " 'network_metrics/GCC_0.9': 'network_metrics/GCC_0.9.npy',\n",
       " 'network_metrics/degree_0.9': 'network_metrics/degree_0.9.npy',\n",
       " 'network_metrics/EVC_0.9': 'network_metrics/EVC_0.9.npy',\n",
       " 'network_metrics/closeness_0.9': 'network_metrics/closeness_0.9.npy',\n",
       " 'local_grid_metrics_for_cyclones/network_metrics/LCC': 'local_grid_metrics_for_cyclones/network_metrics/LCC.npy',\n",
       " 'local_grid_metrics_for_cyclones/network_metrics/LCC_w': 'local_grid_metrics_for_cyclones/network_metrics/LCC_w.npy',\n",
       " 'local_grid_metrics_for_cyclones/network_metrics/degree': 'local_grid_metrics_for_cyclones/network_metrics/degree.npy',\n",
       " 'local_grid_metrics_for_cyclones/network_metrics/degree_w': 'local_grid_metrics_for_cyclones/network_metrics/degree_w.npy',\n",
       " 'local_grid_metrics_for_cyclones/network_metrics/EVC': 'local_grid_metrics_for_cyclones/network_metrics/EVC.npy',\n",
       " 'local_grid_metrics_for_cyclones/network_metrics/EVC_w': 'local_grid_metrics_for_cyclones/network_metrics/EVC_w.npy',\n",
       " 'local_grid_metrics_for_cyclones/network_metrics/closeness': 'local_grid_metrics_for_cyclones/network_metrics/closeness.npy',\n",
       " 'local_grid_metrics_for_cyclones/network_metrics/closeness_w': 'local_grid_metrics_for_cyclones/network_metrics/closeness_w.npy',\n",
       " 'local_grid_metrics_for_cyclones/input_data/MSLP': 'local_grid_metrics_for_cyclones/input_data/MSLP.npy',\n",
       " 'local_grid_metrics_for_cyclones/diff_metrics/network_metrics/LCC': 'local_grid_metrics_for_cyclones/diff_metrics/network_metrics/LCC.npy',\n",
       " 'local_grid_metrics_for_cyclones/diff_metrics/network_metrics/LCC_w': 'local_grid_metrics_for_cyclones/diff_metrics/network_metrics/LCC_w.npy',\n",
       " 'local_grid_metrics_for_cyclones/diff_metrics/network_metrics/degree': 'local_grid_metrics_for_cyclones/diff_metrics/network_metrics/degree.npy',\n",
       " 'local_grid_metrics_for_cyclones/diff_metrics/network_metrics/degree_w': 'local_grid_metrics_for_cyclones/diff_metrics/network_metrics/degree_w.npy',\n",
       " 'local_grid_metrics_for_cyclones/diff_metrics/network_metrics/EVC': 'local_grid_metrics_for_cyclones/diff_metrics/network_metrics/EVC.npy',\n",
       " 'local_grid_metrics_for_cyclones/diff_metrics/network_metrics/EVC_w': 'local_grid_metrics_for_cyclones/diff_metrics/network_metrics/EVC_w.npy',\n",
       " 'local_grid_metrics_for_cyclones/diff_metrics/network_metrics/closeness': 'local_grid_metrics_for_cyclones/diff_metrics/network_metrics/closeness.npy',\n",
       " 'local_grid_metrics_for_cyclones/diff_metrics/network_metrics/closeness_w': 'local_grid_metrics_for_cyclones/diff_metrics/network_metrics/closeness_w.npy',\n",
       " 'local_grid_metrics_for_cyclones/input_data/MSLP_preproc': 'local_grid_metrics_for_cyclones/input_data/MSLP_preproc.npy',\n",
       " 'network_metrics/LCC_0.95': 'network_metrics/LCC_0.95.npy',\n",
       " 'network_metrics/GCC_0.95': 'network_metrics/GCC_0.95.npy',\n",
       " 'network_metrics/degree_0.95': 'network_metrics/degree_0.95.npy',\n",
       " 'network_metrics/EVC_0.95': 'network_metrics/EVC_0.95.npy',\n",
       " 'network_metrics/closeness_0.95': 'network_metrics/closeness_0.95.npy',\n",
       " 'diff_metrics/input_data/MSLP': 'diff_metrics/input_data/MSLP.npy',\n",
       " 'diff_metrics/input_data/MSLP_preproc': 'diff_metrics/input_data/MSLP_preproc.npy',\n",
       " 'local_grid_metrics_for_cyclones/network_metrics/LCC_0.9': 'local_grid_metrics_for_cyclones/network_metrics/LCC_0.9.npy',\n",
       " 'local_grid_metrics_for_cyclones/network_metrics/degree_0.9': 'local_grid_metrics_for_cyclones/network_metrics/degree_0.9.npy',\n",
       " 'local_grid_metrics_for_cyclones/network_metrics/EVC_0.9': 'local_grid_metrics_for_cyclones/network_metrics/EVC_0.9.npy',\n",
       " 'local_grid_metrics_for_cyclones/network_metrics/closeness_0.9': 'local_grid_metrics_for_cyclones/network_metrics/closeness_0.9.npy',\n",
       " 'local_grid_metrics_for_cyclones/network_metrics/LCC_0.95': 'local_grid_metrics_for_cyclones/network_metrics/LCC_0.95.npy',\n",
       " 'local_grid_metrics_for_cyclones/network_metrics/degree_0.95': 'local_grid_metrics_for_cyclones/network_metrics/degree_0.95.npy',\n",
       " 'local_grid_metrics_for_cyclones/network_metrics/EVC_0.95': 'local_grid_metrics_for_cyclones/network_metrics/EVC_0.95.npy',\n",
       " 'local_grid_metrics_for_cyclones/network_metrics/closeness_0.95': 'local_grid_metrics_for_cyclones/network_metrics/closeness_0.95.npy',\n",
       " 'local_grid_metrics_for_cyclones/diff_metrics/input_data/MSLP': 'local_grid_metrics_for_cyclones/diff_metrics/input_data/MSLP.npy',\n",
       " 'local_grid_metrics_for_cyclones/diff_metrics/input_data/MSLP_preproc': 'local_grid_metrics_for_cyclones/diff_metrics/input_data/MSLP_preproc.npy'}"
      ]
     },
     "execution_count": 4,
     "metadata": {},
     "output_type": "execute_result"
    }
   ],
   "source": [
    "get_metric_names(config, prefix = '')"
   ]
  },
  {
   "cell_type": "code",
   "execution_count": 7,
   "id": "running-acquisition",
   "metadata": {},
   "outputs": [],
   "source": [
    "grid_metrics = metric.item()"
   ]
  },
  {
   "cell_type": "code",
   "execution_count": 8,
   "id": "brazilian-shape",
   "metadata": {},
   "outputs": [
    {
     "data": {
      "text/plain": [
       "25"
      ]
     },
     "execution_count": 8,
     "metadata": {},
     "output_type": "execute_result"
    }
   ],
   "source": [
    "cur_cyclone = grid_metrics['1982_cyclone_1__1982-05-01_1982-05-05']\n",
    "cur_cyclone = grid_metrics['1982_cyclone_2__1982-05-31_1982-06-05']\n",
    "len(cur_cyclone['times'])"
   ]
  },
  {
   "cell_type": "code",
   "execution_count": 8,
   "id": "comic-toronto",
   "metadata": {},
   "outputs": [],
   "source": [
    "import os\n",
    "os.chdir(r\"D:\\PC\\UNN\\Science\\Climate\\programs\\climate-networks\\src\")\n",
    "from plot_network_metrics.utils import get_times_lats_lots\n",
    "from cyclones_info.cyclones_info import get_cyclones_info, get_cyclones\n",
    "all_times, all_lats, all_lons = get_times_lats_lots(config)\n",
    "cyclones_frame = get_cyclones_info(config)\n",
    "cyclones_dict = get_cyclones(cyclones_frame, config.cyclone_metrics_options)"
   ]
  },
  {
   "cell_type": "code",
   "execution_count": 9,
   "id": "collected-voltage",
   "metadata": {},
   "outputs": [
    {
     "data": {
      "application/vnd.jupyter.widget-view+json": {
       "model_id": "ece7079c22a34239af10c641e3f426a3",
       "version_major": 2,
       "version_minor": 0
      },
      "text/plain": [
       "  0%|          | 0/28 [00:00<?, ?it/s]"
      ]
     },
     "metadata": {},
     "output_type": "display_data"
    },
    {
     "name": "stdout",
     "output_type": "stream",
     "text": [
      "local_grid_metrics_for_cyclones/network_metrics/LCC 353\n",
      "local_grid_metrics_for_cyclones/network_metrics/LCC_w 353\n",
      "local_grid_metrics_for_cyclones/network_metrics/degree 353\n",
      "local_grid_metrics_for_cyclones/network_metrics/degree_w 353\n",
      "local_grid_metrics_for_cyclones/network_metrics/EVC 353\n",
      "local_grid_metrics_for_cyclones/network_metrics/EVC_w 353\n",
      "local_grid_metrics_for_cyclones/network_metrics/closeness 353\n",
      "local_grid_metrics_for_cyclones/network_metrics/closeness_w 353\n",
      "local_grid_metrics_for_cyclones/input_data/MSLP 353\n",
      "local_grid_metrics_for_cyclones/diff_metrics/network_metrics/LCC 353\n",
      "local_grid_metrics_for_cyclones/diff_metrics/network_metrics/LCC_w 353\n",
      "local_grid_metrics_for_cyclones/diff_metrics/network_metrics/degree 353\n",
      "local_grid_metrics_for_cyclones/diff_metrics/network_metrics/degree_w 353\n",
      "local_grid_metrics_for_cyclones/diff_metrics/network_metrics/EVC 353\n",
      "local_grid_metrics_for_cyclones/diff_metrics/network_metrics/EVC_w 353\n",
      "local_grid_metrics_for_cyclones/diff_metrics/network_metrics/closeness 353\n",
      "local_grid_metrics_for_cyclones/diff_metrics/network_metrics/closeness_w 353\n",
      "local_grid_metrics_for_cyclones/input_data/MSLP_preproc 353\n",
      "local_grid_metrics_for_cyclones/network_metrics/LCC_0.9 353\n",
      "local_grid_metrics_for_cyclones/network_metrics/degree_0.9 353\n",
      "local_grid_metrics_for_cyclones/network_metrics/EVC_0.9 353\n",
      "local_grid_metrics_for_cyclones/network_metrics/closeness_0.9 353\n",
      "local_grid_metrics_for_cyclones/network_metrics/LCC_0.95 353\n",
      "local_grid_metrics_for_cyclones/network_metrics/degree_0.95 353\n",
      "local_grid_metrics_for_cyclones/network_metrics/EVC_0.95 353\n",
      "local_grid_metrics_for_cyclones/network_metrics/closeness_0.95 353\n",
      "local_grid_metrics_for_cyclones/diff_metrics/input_data/MSLP 353\n",
      "local_grid_metrics_for_cyclones/diff_metrics/input_data/MSLP_preproc 353\n"
     ]
    }
   ],
   "source": [
    "def plot_local_grid_metric(cur_cyclone, metric_name, image_path):\n",
    "    cur_times = pd.to_datetime(cur_cyclone['times']).values\n",
    "    cur_metric = np.array(cur_cyclone['metrics'])\n",
    "    cur_means = np.array(cur_cyclone['means'])\n",
    "    cur_stds = np.array(cur_cyclone['stds'])\n",
    "    \n",
    "    import matplotlib.dates as mdates\n",
    "    fig = plt.figure(figsize = (7, 4), dpi = 200)\n",
    "    ax = plt.gca()\n",
    "    plt.plot(cur_times, cur_metric, label = 'Metric')\n",
    "    plt.plot(cur_times, cur_means, label = 'Mean')\n",
    "    plt.fill_between(cur_times, cur_means + cur_stds, cur_means - cur_stds, color = 'b', alpha = 0.15)\n",
    "\n",
    "    ax.xaxis.set_major_formatter(mdates.DateFormatter('%b-%d %H:%M'))\n",
    "    \n",
    "    plt.title(metric_name)    \n",
    "    fig.autofmt_xdate()\n",
    "    plt.tight_layout()\n",
    "\n",
    "    file_name = image_path / (metric_name + '.png')\n",
    "    file_name.parent.mkdir(parents=True, exist_ok=True)\n",
    "    \n",
    "    plt.savefig(file_name)\n",
    "    plt.close()\n",
    "\n",
    "    \n",
    "from plot_network_metrics.utils import create_dir, create_cyclone_metric_dir, create_cyclone_dir\n",
    "cyclones_dir = create_dir(config)\n",
    "metric_names = list(get_metric_names(config, prefix = 'local_grid_metrics_for_cyclones').keys())\n",
    "for metric_name in tqdm(metric_names):\n",
    "    config.metrics_plot_options['metric_name'] = metric_name\n",
    "    metric = load_metric(config, metric_name)\n",
    "    metric = prepare_metric(metric_name, metric, available_mask).item()\n",
    "    print(metric_name, len(metric))\n",
    "    for cid, (cyclone, (cyclone_name, cur_cyclone_metric)) in enumerate(zip(cyclones_dict, metric.items())):\n",
    "        if np.sum(~np.isnan(cur_cyclone_metric['metrics'])) < 4:\n",
    "            continue\n",
    "        cyclone_metric_dir = create_cyclone_dir(config, cyclone, cyclones_dir)\n",
    "        plot_local_grid_metric(cur_cyclone_metric, metric_name, image_path = cyclone_metric_dir)\n",
    "    del metric"
   ]
  },
  {
   "cell_type": "code",
   "execution_count": 25,
   "id": "variable-interstate",
   "metadata": {},
   "outputs": [
    {
     "data": {
      "text/plain": [
       "['local_grid_metrics_for_cyclones/network_metrics/LCC',\n",
       " 'local_grid_metrics_for_cyclones/network_metrics/LCC_w',\n",
       " 'local_grid_metrics_for_cyclones/network_metrics/degree',\n",
       " 'local_grid_metrics_for_cyclones/network_metrics/degree_w',\n",
       " 'local_grid_metrics_for_cyclones/network_metrics/EVC',\n",
       " 'local_grid_metrics_for_cyclones/network_metrics/EVC_w',\n",
       " 'local_grid_metrics_for_cyclones/network_metrics/closeness',\n",
       " 'local_grid_metrics_for_cyclones/network_metrics/closeness_w',\n",
       " 'local_grid_metrics_for_cyclones/input_data/MSLP',\n",
       " 'local_grid_metrics_for_cyclones/diff_metrics/network_metrics/LCC',\n",
       " 'local_grid_metrics_for_cyclones/diff_metrics/network_metrics/LCC_w',\n",
       " 'local_grid_metrics_for_cyclones/diff_metrics/network_metrics/degree',\n",
       " 'local_grid_metrics_for_cyclones/diff_metrics/network_metrics/degree_w',\n",
       " 'local_grid_metrics_for_cyclones/diff_metrics/network_metrics/EVC',\n",
       " 'local_grid_metrics_for_cyclones/diff_metrics/network_metrics/EVC_w',\n",
       " 'local_grid_metrics_for_cyclones/diff_metrics/network_metrics/closeness',\n",
       " 'local_grid_metrics_for_cyclones/diff_metrics/network_metrics/closeness_w',\n",
       " 'local_grid_metrics_for_cyclones/input_data/MSLP_preproc']"
      ]
     },
     "execution_count": 25,
     "metadata": {},
     "output_type": "execute_result"
    }
   ],
   "source": []
  },
  {
   "cell_type": "code",
   "execution_count": 23,
   "id": "current-upset",
   "metadata": {},
   "outputs": [],
   "source": [
    "?get_metric_names"
   ]
  },
  {
   "cell_type": "code",
   "execution_count": 73,
   "id": "rocky-denmark",
   "metadata": {},
   "outputs": [
    {
     "data": {
      "text/plain": [
       "WindowsPath('D:/Work/data/ERA5/ERA5_MSLP_1982_2019_3h_0.75/cyclones/1982_cyclone_1_1982-05-01_1982-05-05/network_metrics/LCC_w')"
      ]
     },
     "execution_count": 73,
     "metadata": {},
     "output_type": "execute_result"
    }
   ],
   "source": [
    "cyclone_metric_dir"
   ]
  },
  {
   "cell_type": "code",
   "execution_count": 46,
   "id": "suspected-aluminum",
   "metadata": {},
   "outputs": [
    {
     "data": {
      "text/plain": [
       "3"
      ]
     },
     "execution_count": 46,
     "metadata": {},
     "output_type": "execute_result"
    }
   ],
   "source": [
    "cur_times = pd.to_datetime(cur_cyclone['times'])\n",
    "cur_times[0].hour"
   ]
  },
  {
   "cell_type": "code",
   "execution_count": 20,
   "id": "operational-tracker",
   "metadata": {},
   "outputs": [
    {
     "data": {
      "text/plain": [
       "['network_metrics/LCC',\n",
       " 'network_metrics/GCC',\n",
       " 'network_metrics/LCC_w',\n",
       " 'network_metrics/GCC_w',\n",
       " 'network_metrics/degree',\n",
       " 'network_metrics/degree_w',\n",
       " 'network_metrics/EVC',\n",
       " 'network_metrics/EVC_w',\n",
       " 'network_metrics/closeness',\n",
       " 'network_metrics/closeness_w',\n",
       " 'input_data/MSLP',\n",
       " 'diff_metrics/network_metrics/LCC',\n",
       " 'diff_metrics/network_metrics/GCC',\n",
       " 'diff_metrics/network_metrics/LCC_w',\n",
       " 'diff_metrics/network_metrics/GCC_w',\n",
       " 'diff_metrics/network_metrics/degree',\n",
       " 'diff_metrics/network_metrics/degree_w',\n",
       " 'diff_metrics/network_metrics/EVC',\n",
       " 'diff_metrics/network_metrics/EVC_w',\n",
       " 'diff_metrics/network_metrics/closeness',\n",
       " 'diff_metrics/network_metrics/closeness_w',\n",
       " 'input_data/MSLP_preproc',\n",
       " 'network_metrics/LCC_0.9',\n",
       " 'network_metrics/GCC_0.9',\n",
       " 'network_metrics/degree_0.9',\n",
       " 'network_metrics/EVC_0.9',\n",
       " 'network_metrics/closeness_0.9',\n",
       " 'local_grid_metrics_for_cyclones/network_metrics/LCC',\n",
       " 'local_grid_metrics_for_cyclones/network_metrics/LCC_w',\n",
       " 'local_grid_metrics_for_cyclones/network_metrics/degree',\n",
       " 'local_grid_metrics_for_cyclones/network_metrics/degree_w',\n",
       " 'local_grid_metrics_for_cyclones/network_metrics/EVC',\n",
       " 'local_grid_metrics_for_cyclones/network_metrics/EVC_w',\n",
       " 'local_grid_metrics_for_cyclones/network_metrics/closeness',\n",
       " 'local_grid_metrics_for_cyclones/network_metrics/closeness_w',\n",
       " 'local_grid_metrics_for_cyclones/input_data/MSLP',\n",
       " 'local_grid_metrics_for_cyclones/diff_metrics/network_metrics/LCC',\n",
       " 'local_grid_metrics_for_cyclones/diff_metrics/network_metrics/LCC_w',\n",
       " 'local_grid_metrics_for_cyclones/diff_metrics/network_metrics/degree',\n",
       " 'local_grid_metrics_for_cyclones/diff_metrics/network_metrics/degree_w',\n",
       " 'local_grid_metrics_for_cyclones/diff_metrics/network_metrics/EVC',\n",
       " 'local_grid_metrics_for_cyclones/diff_metrics/network_metrics/EVC_w',\n",
       " 'local_grid_metrics_for_cyclones/diff_metrics/network_metrics/closeness',\n",
       " 'local_grid_metrics_for_cyclones/diff_metrics/network_metrics/closeness_w',\n",
       " 'local_grid_metrics_for_cyclones/input_data/MSLP_preproc']"
      ]
     },
     "execution_count": 20,
     "metadata": {},
     "output_type": "execute_result"
    }
   ],
   "source": [
    "metric_names = list(get_metric_names(config).keys())\n",
    "metric_names"
   ]
  },
  {
   "cell_type": "code",
   "execution_count": 10,
   "id": "transsexual-employer",
   "metadata": {},
   "outputs": [],
   "source": [
    "from cyclones_info.cyclones_info import get_only_known_data, get_lat_lon_for_cyclone, \\\n",
    "    create_cyclone_info_string, get_datetimes_for_cyclone_points, get_cyclone_for_special_number\n",
    "\n",
    "\n",
    "def compute_mean_std(metric, cyclones, frame, all_times, all_lons, all_lats):\n",
    "    import warnings\n",
    "    with warnings.catch_warnings():\n",
    "        warnings.simplefilter(\"ignore\", category=RuntimeWarning)\n",
    "        means_array = np.nanmean(metric, axis=2)\n",
    "        stds_array = np.nanstd(metric, axis=2, ddof=1)\n",
    "\n",
    "    local_metric_means_stds = {}\n",
    "\n",
    "    for cyclone in cyclones:\n",
    "        cyclone_frame = get_cyclone_for_special_number(frame, cyclone['number'])\n",
    "        cyclone_frame = get_only_known_data(cyclone_frame)\n",
    "        c_lons, c_lats = get_lat_lon_for_cyclone(cyclone_frame)\n",
    "        c_times = get_datetimes_for_cyclone_points(cyclone_frame)\n",
    "\n",
    "        c_metric = []\n",
    "        means = []\n",
    "        stds = []\n",
    "        for current_lon, current_lat, current_date_time in zip(c_lons, c_lats, c_times):\n",
    "            ind_dt = np.where(all_times == current_date_time)[0][0]\n",
    "            ind_lon = np.argmin(np.abs(all_lons - current_lon))\n",
    "            ind_lat = np.argmin(np.abs(all_lats - current_lat))\n",
    "\n",
    "            c_metric.append(metric[ind_lat, ind_lon, ind_dt])\n",
    "            means.append(means_array[ind_lat, ind_lon])\n",
    "            stds.append(stds_array[ind_lat, ind_lon])\n",
    "        print(c_times)\n",
    "        print(c_lats)\n",
    "        print(c_lons)\n",
    "        print(c_metric)\n",
    "        sdf\n",
    "        local_metric_means_stds[create_cyclone_info_string(cyclone)] = {'times': c_times,\n",
    "                                                                        'metrics': c_metric,\n",
    "                                                                        'means': means,\n",
    "                                                                        'stds': stds}\n",
    "    return local_metric_means_stds"
   ]
  },
  {
   "cell_type": "code",
   "execution_count": 28,
   "id": "excellent-representative",
   "metadata": {},
   "outputs": [
    {
     "name": "stdout",
     "output_type": "stream",
     "text": [
      "['1982.05.01 03:00:00', '1982.05.01 06:00:00', '1982.05.01 12:00:00', '1982.05.01 18:00:00', '1982.05.02 00:00:00', '1982.05.02 03:00:00', '1982.05.02 06:00:00', '1982.05.02 12:00:00', '1982.05.02 18:00:00', '1982.05.03 00:00:00', '1982.05.03 03:00:00', '1982.05.03 06:00:00', '1982.05.03 12:00:00', '1982.05.03 18:00:00', '1982.05.04 00:00:00', '1982.05.04 03:00:00', '1982.05.04 06:00:00', '1982.05.04 12:00:00', '1982.05.04 18:00:00', '1982.05.05 03:00:00']\n",
      "[14.0, 14.5, 15.0, 15.5, 16.0, 16.5, 16.5, 16.5, 17.0, 17.0, 17.0, 17.5, 17.5, 17.5, 17.5, 17.5, 17.5, 17.5, 17.3, 17.2]\n",
      "[82.5, 82.5, 82.0, 82.5, 83.0, 83.5, 84.0, 84.5, 85.0, 86.0, 86.5, 87.5, 88.5, 90.0, 91.0, 91.5, 92.0, 93.5, 94.5, 98.5]\n",
      "[0.2817440927028656, 0.28558626770973206, 0.29499465227127075, 0.29902926087379456, 0.31387025117874146, 0.32767096161842346, 0.3433370888233185, 0.3656017780303955, 0.3561452329158783, 0.38406407833099365, 0.4089645743370056, 0.38848811388015747, 0.4161459803581238, 0.39044731855392456, 0.3929421305656433, 0.3824811279773712, 0.40440434217453003, 0.42554613947868347, nan, nan]\n"
     ]
    },
    {
     "ename": "NameError",
     "evalue": "name 'sdf' is not defined",
     "output_type": "error",
     "traceback": [
      "\u001b[1;31m---------------------------------------------------------------------------\u001b[0m",
      "\u001b[1;31mNameError\u001b[0m                                 Traceback (most recent call last)",
      "\u001b[1;32m<ipython-input-28-5720f0ce0eaf>\u001b[0m in \u001b[0;36m<module>\u001b[1;34m\u001b[0m\n\u001b[0;32m      1\u001b[0m local_metric_means_stds = compute_mean_std(metric, cyclones_dict, cyclones_frame,\\\n\u001b[1;32m----> 2\u001b[1;33m                                            all_times, all_lons, all_lats)\n\u001b[0m",
      "\u001b[1;32m<ipython-input-27-5255e612acc2>\u001b[0m in \u001b[0;36mcompute_mean_std\u001b[1;34m(metric, cyclones, frame, all_times, all_lons, all_lats)\u001b[0m\n\u001b[0;32m     33\u001b[0m         \u001b[0mprint\u001b[0m\u001b[1;33m(\u001b[0m\u001b[0mc_lons\u001b[0m\u001b[1;33m)\u001b[0m\u001b[1;33m\u001b[0m\u001b[1;33m\u001b[0m\u001b[0m\n\u001b[0;32m     34\u001b[0m         \u001b[0mprint\u001b[0m\u001b[1;33m(\u001b[0m\u001b[0mc_metric\u001b[0m\u001b[1;33m)\u001b[0m\u001b[1;33m\u001b[0m\u001b[1;33m\u001b[0m\u001b[0m\n\u001b[1;32m---> 35\u001b[1;33m         \u001b[0msdf\u001b[0m\u001b[1;33m\u001b[0m\u001b[1;33m\u001b[0m\u001b[0m\n\u001b[0m\u001b[0;32m     36\u001b[0m         local_metric_means_stds[create_cyclone_info_string(cyclone)] = {'times': c_times,\n\u001b[0;32m     37\u001b[0m                                                                         \u001b[1;34m'metrics'\u001b[0m\u001b[1;33m:\u001b[0m \u001b[0mc_metric\u001b[0m\u001b[1;33m,\u001b[0m\u001b[1;33m\u001b[0m\u001b[1;33m\u001b[0m\u001b[0m\n",
      "\u001b[1;31mNameError\u001b[0m: name 'sdf' is not defined"
     ]
    }
   ],
   "source": [
    "local_metric_means_stds = compute_mean_std(metric, cyclones_dict, cyclones_frame,\\\n",
    "                                           all_times, all_lons, all_lats)\n"
   ]
  },
  {
   "cell_type": "code",
   "execution_count": null,
   "id": "conservative-reunion",
   "metadata": {},
   "outputs": [],
   "source": []
  }
 ],
 "metadata": {
  "kernelspec": {
   "display_name": "Python 3",
   "language": "python",
   "name": "python3"
  },
  "language_info": {
   "codemirror_mode": {
    "name": "ipython",
    "version": 3
   },
   "file_extension": ".py",
   "mimetype": "text/x-python",
   "name": "python",
   "nbconvert_exporter": "python",
   "pygments_lexer": "ipython3",
   "version": "3.7.10"
  }
 },
 "nbformat": 4,
 "nbformat_minor": 5
}
