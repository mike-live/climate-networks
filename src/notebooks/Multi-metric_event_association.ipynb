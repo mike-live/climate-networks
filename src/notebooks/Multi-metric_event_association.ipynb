{
 "cells": [
  {
   "cell_type": "code",
   "execution_count": 1,
   "id": "narrow-graham",
   "metadata": {},
   "outputs": [
    {
     "name": "stdout",
     "output_type": "stream",
     "text": [
      "Using matplotlib backend: Qt5Agg\n"
     ]
    }
   ],
   "source": [
    "%load_ext autoreload\n",
    "%autoreload 2\n",
    "import numpy as np\n",
    "import re\n",
    "import time\n",
    "%matplotlib\n",
    "import matplotlib\n",
    "import matplotlib.pyplot as plt\n",
    "import matplotlib.mlab as mlab\n",
    "import textwrap\n",
    "import scipy.stats as stats\n",
    "\n",
    "from scipy import stats\n",
    "import scipy\n",
    "from functools import partial\n",
    "\n",
    "import matplotlib.pylab as pylab\n",
    "import seaborn as sns\n",
    "sns.set_style('whitegrid', {'legend.frameon':True})\n",
    "sns.set_palette(sns.color_palette(\"Set1\", 12))\n",
    "#sns.set_context(\"paper\")\n",
    "fontsize = 12\n",
    "params = {'legend.fontsize': fontsize,\n",
    "  'figure.figsize': (18, 15),\n",
    "  'axes.labelsize': fontsize,\n",
    "  'axes.titlesize':fontsize,\n",
    "  'axes.edgecolor':\"0.3\",\n",
    "  'xtick.labelsize':fontsize,\n",
    "  'ytick.labelsize':fontsize,\n",
    "  'legend.fontsize':10,\n",
    "  'font.size':fontsize,\n",
    "  'font.family':'serif'}\n",
    "pylab.rcParams.update(params)\n",
    "plt.rc('axes', labelsize=fontsize) \n",
    "\n",
    "#plt.style.use('ggplot')\n",
    "%matplotlib inline\n",
    "\n",
    "from tqdm.notebook import tqdm\n",
    "import pandas as pd\n",
    "from pathlib2 import Path\n",
    "import os"
   ]
  },
  {
   "cell_type": "code",
   "execution_count": 2,
   "id": "future-hamburg",
   "metadata": {},
   "outputs": [],
   "source": [
    "import sys\n",
    "sys.path.append('../')\n",
    "\n",
    "from metric_store import save_metrics, save_metric, load_metrics, get_metric_names, load_metric\n",
    "from network_metrics import prepare_metric\n",
    "from pipeline.pipeline import load_config"
   ]
  },
  {
   "cell_type": "code",
   "execution_count": 3,
   "id": "medieval-strike",
   "metadata": {},
   "outputs": [],
   "source": [
    "config_name = \"pipeline.config\"\n",
    "config = load_config(config_name)"
   ]
  },
  {
   "cell_type": "code",
   "execution_count": 4,
   "id": "everyday-worst",
   "metadata": {},
   "outputs": [],
   "source": [
    "from corr_network import load_data, get_available_mask\n",
    "data = load_data(config)\n",
    "available_mask = get_available_mask(data)"
   ]
  },
  {
   "cell_type": "code",
   "execution_count": 5,
   "id": "sized-diana",
   "metadata": {},
   "outputs": [
    {
     "name": "stdout",
     "output_type": "stream",
     "text": [
      "input_data/MSLP_preproc (36, 69, 113960) 2D\n"
     ]
    }
   ],
   "source": [
    "metric_names = ['input_data/MSLP_preproc']\n",
    "for metric_name in metric_names:\n",
    "    config.metrics_plot_options['metric_name'] = metric_name\n",
    "    metric = load_metric(config, metric_name)\n",
    "    metric = prepare_metric(metric_name, metric, available_mask)\n",
    "    print(metric_name, metric.shape, config.metric_dimension[metric_name])    "
   ]
  },
  {
   "cell_type": "code",
   "execution_count": 6,
   "id": "prime-canadian",
   "metadata": {},
   "outputs": [
    {
     "data": {
      "text/plain": [
       "['network_metrics/LCC_w',\n",
       " 'network_metrics/GCC_w',\n",
       " 'network_metrics/degree_w',\n",
       " 'network_metrics/EVC_w',\n",
       " 'network_metrics/closeness_w',\n",
       " 'network_metrics/LCC_0.9',\n",
       " 'network_metrics/GCC_0.9',\n",
       " 'network_metrics/degree_0.9',\n",
       " 'network_metrics/EVC_0.9',\n",
       " 'network_metrics/closeness_0.9',\n",
       " 'network_metrics/LCC_0.95',\n",
       " 'network_metrics/GCC_0.95',\n",
       " 'network_metrics/degree_0.95',\n",
       " 'network_metrics/EVC_0.95',\n",
       " 'network_metrics/closeness_0.95']"
      ]
     },
     "execution_count": 6,
     "metadata": {},
     "output_type": "execute_result"
    }
   ],
   "source": [
    "prefix = 'network_metrics'\n",
    "metric_names = list(get_metric_names(config, prefix = prefix).keys())\n",
    "metric_names"
   ]
  },
  {
   "cell_type": "code",
   "execution_count": 52,
   "id": "f935af5d",
   "metadata": {},
   "outputs": [
    {
     "name": "stdout",
     "output_type": "stream",
     "text": [
      "['probability_for_metrics/network_metrics/LCC_w', 'probability_for_metrics/network_metrics/degree_w', 'probability_for_metrics/network_metrics/EVC_w', 'probability_for_metrics/network_metrics/closeness_w', 'probability_for_metrics/input_data/MSLP']\n"
     ]
    }
   ],
   "source": [
    "metric_names = list(get_metric_names(config, prefix = 'probability_for_metrics').keys())\n",
    "main_metric_names = ['degree_w', 'closeness_w', 'LCC_w', 'EVC_w', 'MSLP'] #, 'MSLP_preproc' 'degree_0.9', \n",
    "#main_metric_names = ['degree_w', 'LCC_w', 'EVC_w', 'MSLP']\n",
    "selected_metric_names = []\n",
    "for metric_name in metric_names:\n",
    "    for subname in main_metric_names:\n",
    "        if metric_name.endswith(subname) and metric_name.find('diff_metrics') == -1:\n",
    "            selected_metric_names += [metric_name]\n",
    "            break\n",
    "print(selected_metric_names)"
   ]
  },
  {
   "cell_type": "code",
   "execution_count": 57,
   "id": "funny-division",
   "metadata": {},
   "outputs": [
    {
     "name": "stdout",
     "output_type": "stream",
     "text": [
      "probability_for_metrics/network_metrics/LCC_w (36, 69, 113960)\n",
      "probability_for_metrics/network_metrics/degree_w (36, 69, 113960)\n",
      "probability_for_metrics/network_metrics/EVC_w (36, 69, 113960)\n",
      "probability_for_metrics/network_metrics/closeness_w (36, 69, 113960)\n",
      "probability_for_metrics/input_data/MSLP (36, 69, 113960)\n"
     ]
    }
   ],
   "source": [
    "track_size = 8\n",
    "data = np.load('../cyclones_events.npz')\n",
    "cyclone_events = data[f'cyclone_events_{track_size}']\n",
    "\n",
    "metric_names = selected_metric_names.copy()\n",
    "metrics = []\n",
    "signs_metric = {\n",
    "    'probability_for_metrics/input_data/MSLP': False, \n",
    "    'probability_for_metrics/network_metrics/LCC_w': True, \n",
    "    'probability_for_metrics/network_metrics/degree_w': False, \n",
    "    'probability_for_metrics/network_metrics/EVC_w': False,\n",
    "    'probability_for_metrics/network_metrics/closeness_w': True,\n",
    "    #'probability_for_metrics/network_metrics/degree_0.9': False,\n",
    "}\n",
    "for metric_name in metric_names:\n",
    "    config.metrics_plot_options['metric_name'] = metric_name\n",
    "    metric = load_metric(config, metric_name).astype('float32')\n",
    "    metric = metric if signs_metric[metric_name] else 1 - metric\n",
    "    metric = -np.log10(metric + 1e-10)\n",
    "    metrics.append(metric)\n",
    "    print(metric_name, metric.shape) # , config.metric_dimension[metric_name]"
   ]
  },
  {
   "cell_type": "code",
   "execution_count": 54,
   "id": "0f420daf",
   "metadata": {},
   "outputs": [],
   "source": [
    "def compute_weighted_sum(weights, metrics):\n",
    "    weighted_metric = metrics[0] * weights[0]\n",
    "    for i in range(1, len(metrics)):\n",
    "        weighted_metric += metrics[i] * weights[i]\n",
    "    return weighted_metric\n",
    "\n",
    "def compute_contigency_table(metric, cyclone_events, metric_thr = 1):\n",
    "    predicted_events = (metric > metric_thr)\n",
    "\n",
    "    #d = np.sum(predicted_events & cyclone_events)\n",
    "    #b = cyclone_events.sum() - d\n",
    "    #c = predicted_events.sum() - d\n",
    "    #a = (cyclone_events.size - cyclone_events.sum()) - c\n",
    "    #return np.array([[a, b], [c, d]])\n",
    "    \n",
    "    not_nan_mask = ~np.isnan(metric)\n",
    "    tn = np.sum(~predicted_events & ~cyclone_events & not_nan_mask)\n",
    "    fn = np.sum(~predicted_events &  cyclone_events & not_nan_mask)\n",
    "    fp = np.sum( predicted_events & ~cyclone_events & not_nan_mask)\n",
    "    tp = np.sum( predicted_events &  cyclone_events & not_nan_mask)\n",
    "\n",
    "    return np.array([[tn, fn], [fp, tp]])\n",
    "\n",
    "from functools import partial\n",
    "\n",
    "def compute_g_stat(contigency_table):\n",
    "    from scipy.stats import chi2_contingency\n",
    "    a, b, c, d = contigency_table.flatten()\n",
    "    if ((a == 0) and (b == 0)) or ((c == 0) and (d == 0)):\n",
    "        g_stat = p_val = np.nan\n",
    "    else:\n",
    "        g_stat, p_val, dof, expctd = chi2_contingency(contigency_table, lambda_=\"log-likelihood\", correction=False)\n",
    "    return g_stat\n",
    "\n",
    "def compute_quality(weights, metrics):\n",
    "    weighted_metric = compute_weighted_sum(weights, metrics)\n",
    "    contigency_table = compute_contigency_table(weighted_metric, cyclone_events)\n",
    "    g_stat = compute_g_stat(contigency_table)\n",
    "    return -g_stat"
   ]
  },
  {
   "cell_type": "code",
   "execution_count": 55,
   "id": "d467e176",
   "metadata": {},
   "outputs": [],
   "source": [
    "def show_progress_pbar(x, pbar):\n",
    "    f = compute_quality_all(x)\n",
    "    pbar.set_description(f\"Current value: {f:.2f} x = {x}\")\n",
    "    pbar.update(1)"
   ]
  },
  {
   "cell_type": "code",
   "execution_count": 58,
   "id": "b28177b1",
   "metadata": {},
   "outputs": [
    {
     "data": {
      "application/vnd.jupyter.widget-view+json": {
       "model_id": "25afabdc2df54ca5bb1a0af20dba32a9",
       "version_major": 2,
       "version_minor": 0
      },
      "text/plain": [
       "  0%|          | 0/500 [00:00<?, ?it/s]"
      ]
     },
     "metadata": {},
     "output_type": "display_data"
    }
   ],
   "source": [
    "compute_quality_all = partial(compute_quality, metrics=metrics)\n",
    "max_iter = 500\n",
    "show_progress = partial(show_progress_pbar, pbar=tqdm(total=max_iter))\n",
    "from scipy.optimize import minimize\n",
    "pt = np.array([1, 1, 1, 1.0, 1])\n",
    "pt /= len(pt)\n",
    "#pt = np.array([0.3, 0.3, 0.3])\n",
    "#pt = np.array([0.38])\n",
    "result = minimize(compute_quality_all, pt, bounds=[(0, 1), (0, 1), (0, 1), (0, 1), (0, 1)], method='nelder-mead', options={'return_all': True, 'maxiter': max_iter}, callback=show_progress)"
   ]
  },
  {
   "cell_type": "code",
   "execution_count": 47,
   "id": "77afb968",
   "metadata": {},
   "outputs": [
    {
     "data": {
      "text/plain": [
       "       allvecs: [array([0.25, 0.25, 0.25, 0.25]), array([0.259375, 0.259375, 0.225   , 0.259375]), array([0.26640625, 0.23203125, 0.23125   , 0.26640625]), array([0.26640625, 0.23203125, 0.23125   , 0.26640625]), array([0.26962891, 0.24033203, 0.20078125, 0.29306641]), array([0.28435059, 0.23308105, 0.16386719, 0.29099121]), array([0.28435059, 0.23308105, 0.16386719, 0.29099121]), array([0.32151794, 0.19982605, 0.13093262, 0.32488708]), array([0.33082047, 0.2030159 , 0.04944458, 0.37421646]), array([0.37026882, 0.15842724, 0.        , 0.38175869]), array([0.37026882, 0.15842724, 0.        , 0.38175869]), array([0.37026882, 0.15842724, 0.        , 0.38175869]), array([0.37026882, 0.15842724, 0.        , 0.38175869]), array([0.37026882, 0.15842724, 0.        , 0.38175869]), array([0.340419  , 0.19906577, 0.        , 0.36470997]), array([0.291969  , 0.21210475, 0.05499516, 0.32921731]), array([0.31918852, 0.19460966, 0.00832586, 0.31800075]), array([0.31918852, 0.19460966, 0.00832586, 0.31800075]), array([0.31918852, 0.19460966, 0.00832586, 0.31800075]), array([0.31918852, 0.19460966, 0.00832586, 0.31800075]), array([0.31918852, 0.19460966, 0.00832586, 0.31800075]), array([0.31816055, 0.19069959, 0.        , 0.31816221]), array([0.31816055, 0.19069959, 0.        , 0.31816221]), array([0.31816055, 0.19069959, 0.        , 0.31816221]), array([0.31816055, 0.19069959, 0.        , 0.31816221]), array([0.31816055, 0.19069959, 0.        , 0.31816221]), array([0.28534226, 0.20998883, 0.02786805, 0.30428057]), array([0.30625592, 0.20456531, 0.        , 0.3086917 ]), array([0.30776542, 0.20100379, 0.01042738, 0.32897764]), array([0.30888003, 0.19411369, 0.        , 0.31050658]), array([0.28596127, 0.21413622, 0.01914772, 0.30806603]), array([0.28596127, 0.21413622, 0.01914772, 0.30806603]), array([0.29193691, 0.20342244, 0.02360301, 0.31966869]), array([0.29193691, 0.20342244, 0.02360301, 0.31966869]), array([0.29193691, 0.20342244, 0.02360301, 0.31966869]), array([0.28711258, 0.20519089, 0.01716807, 0.31263628]), array([0.28711258, 0.20519089, 0.01716807, 0.31263628]), array([0.28711258, 0.20519089, 0.01716807, 0.31263628]), array([0.28306282, 0.19648541, 0.03365771, 0.33390322]), array([0.29153928, 0.18622055, 0.01344549, 0.32579729]), array([0.29153928, 0.18622055, 0.01344549, 0.32579729]), array([0.25974769, 0.1987202 , 0.03644924, 0.32889228]), array([0.25974769, 0.1987202 , 0.03644924, 0.32889228]), array([0.26302091, 0.18236321, 0.01661193, 0.33522358]), array([0.24874993, 0.16824973, 0.02781918, 0.33590429]), array([0.24874993, 0.16824973, 0.02781918, 0.33590429]), array([0.24874993, 0.16824973, 0.02781918, 0.33590429]), array([0.23424974, 0.16758262, 0.02531085, 0.34003765]), array([0.23424974, 0.16758262, 0.02531085, 0.34003765]), array([0.23424974, 0.16758262, 0.02531085, 0.34003765]), array([0.23424974, 0.16758262, 0.02531085, 0.34003765]), array([0.22208301, 0.16680002, 0.03964883, 0.34130572]), array([0.2390788 , 0.16765861, 0.03214472, 0.34001878]), array([0.2390788 , 0.16765861, 0.03214472, 0.34001878]), array([0.2314212 , 0.16316977, 0.03798181, 0.34714169]), array([0.23255352, 0.16728974, 0.03095885, 0.34142697]), array([0.23255352, 0.16728974, 0.03095885, 0.34142697]), array([0.23255352, 0.16728974, 0.03095885, 0.34142697]), array([0.23255352, 0.16728974, 0.03095885, 0.34142697]), array([0.23255352, 0.16728974, 0.03095885, 0.34142697]), array([0.23255352, 0.16728974, 0.03095885, 0.34142697]), array([0.23022098, 0.16660851, 0.03381666, 0.34171086]), array([0.23022098, 0.16660851, 0.03381666, 0.34171086]), array([0.23022098, 0.16660851, 0.03381666, 0.34171086]), array([0.23022098, 0.16660851, 0.03381666, 0.34171086]), array([0.23005021, 0.16677768, 0.03301604, 0.34150002]), array([0.23005021, 0.16677768, 0.03301604, 0.34150002]), array([0.23005021, 0.16677768, 0.03301604, 0.34150002]), array([0.23005021, 0.16677768, 0.03301604, 0.34150002]), array([0.23005021, 0.16677768, 0.03301604, 0.34150002]), array([0.23005021, 0.16677768, 0.03301604, 0.34150002]), array([0.22965855, 0.16636642, 0.03395754, 0.34168462]), array([0.22965855, 0.16636642, 0.03395754, 0.34168462]), array([0.22965855, 0.16636642, 0.03395754, 0.34168462]), array([0.22975647, 0.16646923, 0.03372217, 0.34163847]), array([0.22975647, 0.16646923, 0.03372217, 0.34163847]), array([0.22954776, 0.16636805, 0.03407436, 0.34171615]), array([0.22954776, 0.16636805, 0.03407436, 0.34171615]), array([0.22954776, 0.16636805, 0.03407436, 0.34171615]), array([0.22958843, 0.16641851, 0.03387744, 0.34169419]), array([0.22958843, 0.16641851, 0.03387744, 0.34169419]), array([0.22958843, 0.16641851, 0.03387744, 0.34169419]), array([0.22958843, 0.16641851, 0.03387744, 0.34169419]), array([0.22958843, 0.16641851, 0.03387744, 0.34169419]), array([0.22958843, 0.16641851, 0.03387744, 0.34169419]), array([0.2295846 , 0.16640949, 0.03390207, 0.34168513]), array([0.2295846 , 0.16640949, 0.03390207, 0.34168513]), array([0.2295846 , 0.16640949, 0.03390207, 0.34168513]), array([0.2295846 , 0.16640949, 0.03390207, 0.34168513]), array([0.2295846 , 0.16640949, 0.03390207, 0.34168513]), array([0.2295846 , 0.16640949, 0.03390207, 0.34168513]), array([0.2295846 , 0.16640949, 0.03390207, 0.34168513]), array([0.22959303, 0.16640928, 0.03389093, 0.34168942]), array([0.22959303, 0.16640928, 0.03389093, 0.34168942]), array([0.22958977, 0.16641164, 0.03389034, 0.34168954]), array([0.22958977, 0.16641164, 0.03389034, 0.34168954]), array([0.22959159, 0.16641102, 0.03389582, 0.34168795]), array([0.22959068, 0.16641133, 0.03389308, 0.34168874]), array([0.2295882 , 0.16641031, 0.033899  , 0.34168849]), array([0.2295882 , 0.16641031, 0.033899  , 0.34168849]), array([0.2295882 , 0.16641031, 0.033899  , 0.34168849]), array([0.2295882 , 0.16641031, 0.033899  , 0.34168849]), array([0.2295882 , 0.16641031, 0.033899  , 0.34168849]), array([0.2295882 , 0.16641031, 0.033899  , 0.34168849]), array([0.2295882 , 0.16641031, 0.033899  , 0.34168849]), array([0.2295882 , 0.16641031, 0.033899  , 0.34168849]), array([0.2295882 , 0.16641031, 0.033899  , 0.34168849]), array([0.2295882 , 0.16641031, 0.033899  , 0.34168849]), array([0.2295882 , 0.16641031, 0.033899  , 0.34168849]), array([0.2295882 , 0.16641031, 0.033899  , 0.34168849]), array([0.2295882 , 0.16641031, 0.033899  , 0.34168849]), array([0.2295882 , 0.16641031, 0.033899  , 0.34168849]), array([0.2295882 , 0.16641031, 0.033899  , 0.34168849]), array([0.2295882 , 0.16641031, 0.033899  , 0.34168849]), array([0.2295882 , 0.16641031, 0.033899  , 0.34168849])]\n",
       " final_simplex: (array([[0.2295882 , 0.16641031, 0.033899  , 0.34168849],\n",
       "       [0.22958823, 0.16641031, 0.03389895, 0.34168849],\n",
       "       [0.22958822, 0.16641031, 0.03389895, 0.34168849],\n",
       "       [0.22958819, 0.1664103 , 0.03389902, 0.34168849],\n",
       "       [0.22958821, 0.1664103 , 0.03389899, 0.34168849]]), array([-1457453.64666162, -1457453.64666162, -1457453.64666162,\n",
       "       -1457453.64666162, -1457453.64666162]))\n",
       "           fun: -1457453.646661624\n",
       "       message: 'Optimization terminated successfully.'\n",
       "          nfev: 254\n",
       "           nit: 115\n",
       "        status: 0\n",
       "       success: True\n",
       "             x: array([0.2295882 , 0.16641031, 0.033899  , 0.34168849])"
      ]
     },
     "execution_count": 47,
     "metadata": {},
     "output_type": "execute_result"
    }
   ],
   "source": [
    "result"
   ]
  },
  {
   "cell_type": "code",
   "execution_count": 43,
   "id": "4421a2f5",
   "metadata": {},
   "outputs": [
    {
     "data": {
      "text/plain": [
       "       allvecs: [array([0.38, 0.38, 0.38]), array([0.399, 0.38 , 0.38 ]), array([0.399, 0.38 , 0.38 ]), array([0.43277778, 0.38211111, 0.34833333]), array([0.43277778, 0.38211111, 0.34833333]), array([0.43277778, 0.38211111, 0.34833333]), array([0.50361728, 0.36358025, 0.3222963 ]), array([0.50361728, 0.36358025, 0.3222963 ]), array([0.54529218, 0.37476132, 0.26224691]), array([0.67141152, 0.36272016, 0.20853086]), array([0.67141152, 0.36272016, 0.20853086]), array([0.67141152, 0.36272016, 0.20853086]), array([0.67141152, 0.36272016, 0.20853086]), array([0.67141152, 0.36272016, 0.20853086]), array([0.67141152, 0.36272016, 0.20853086]), array([0.67141152, 0.36272016, 0.20853086]), array([0.67141152, 0.36272016, 0.20853086]), array([0.66897981, 0.35662478, 0.19934181]), array([0.66897981, 0.35662478, 0.19934181]), array([0.66897981, 0.35662478, 0.19934181]), array([0.66897981, 0.35662478, 0.19934181]), array([0.66897981, 0.35662478, 0.19934181]), array([0.66897981, 0.35662478, 0.19934181]), array([0.66897981, 0.35662478, 0.19934181]), array([0.66897981, 0.35662478, 0.19934181]), array([0.66897981, 0.35662478, 0.19934181]), array([0.66897981, 0.35662478, 0.19934181]), array([0.66897981, 0.35662478, 0.19934181]), array([0.66897981, 0.35662478, 0.19934181])]\n",
       " final_simplex: (array([[0.66897981, 0.35662478, 0.19934181],\n",
       "       [0.66898136, 0.3565909 , 0.19935173],\n",
       "       [0.66899881, 0.3566724 , 0.1994136 ],\n",
       "       [0.66895897, 0.35662852, 0.19939953]]), array([-927583.97175365, -927583.97175365, -927583.97175365,\n",
       "       -927583.97175365]))\n",
       "           fun: -927583.9717536498\n",
       "       message: 'Optimization terminated successfully.'\n",
       "          nfev: 73\n",
       "           nit: 29\n",
       "        status: 0\n",
       "       success: True\n",
       "             x: array([0.66897981, 0.35662478, 0.19934181])"
      ]
     },
     "execution_count": 43,
     "metadata": {},
     "output_type": "execute_result"
    }
   ],
   "source": [
    "result"
   ]
  },
  {
   "cell_type": "code",
   "execution_count": 75,
   "id": "35dd1074",
   "metadata": {},
   "outputs": [],
   "source": [
    "result0 = result.copy()\n"
   ]
  },
  {
   "cell_type": "code",
   "execution_count": 48,
   "id": "79984412",
   "metadata": {},
   "outputs": [
    {
     "name": "stdout",
     "output_type": "stream",
     "text": [
      "[[148101962    192046]\n",
      " [  1765518    232604]] 1457444.6494694138\n"
     ]
    }
   ],
   "source": [
    "weighted_metric = compute_weighted_sum([0.2295882 , 0.16641031, 0.033899  , 0.34168849], metrics)\n",
    "contigency_table = compute_contigency_table(weighted_metric, cyclone_events, metric_thr = 1)\n",
    "g_stat = compute_g_stat(contigency_table)\n",
    "print(contigency_table, g_stat)"
   ]
  },
  {
   "cell_type": "code",
   "execution_count": null,
   "id": "b8c6c230",
   "metadata": {},
   "outputs": [],
   "source": [
    "result = minimize(compute_quality, pt, method='nelder-mead', options={'return_all': True, 'maxiter': 100})"
   ]
  },
  {
   "cell_type": "code",
   "execution_count": 73,
   "id": "b7b745fb",
   "metadata": {},
   "outputs": [
    {
     "data": {
      "image/png": "[encoded data removed]",
      "text/plain": [
       "<Figure size 432x288 with 1 Axes>"
      ]
     },
     "metadata": {
      "needs_background": "light"
     },
     "output_type": "display_data"
    },
    {
     "data": {
      "text/plain": [
       "<matplotlib.image.AxesImage at 0x240a1426520>"
      ]
     },
     "execution_count": 73,
     "metadata": {},
     "output_type": "execute_result"
    },
    {
     "data": {
      "image/png": "[encoded data removed]",
      "text/plain": [
       "<Figure size 432x288 with 1 Axes>"
      ]
     },
     "metadata": {
      "needs_background": "light"
     },
     "output_type": "display_data"
    }
   ],
   "source": [
    "predicted_events = weighted_metric > 1\n",
    "\n",
    "plt.imshow(predicted_events[:, :, 965])\n",
    "plt.show()\n",
    "plt.imshow(cyclone_events[:, :, 965])"
   ]
  },
  {
   "cell_type": "code",
   "execution_count": 70,
   "id": "5c88db06",
   "metadata": {},
   "outputs": [
    {
     "data": {
      "text/plain": [
       "array([   961,    962,    963, ..., 113744, 113745, 113746], dtype=int64)"
      ]
     },
     "execution_count": 70,
     "metadata": {},
     "output_type": "execute_result"
    }
   ],
   "source": [
    "np.flatnonzero(np.sum(cyclone_events, axis=(0, 1)))"
   ]
  },
  {
   "cell_type": "code",
   "execution_count": 35,
   "id": "24fb67dd",
   "metadata": {},
   "outputs": [
    {
     "data": {
      "text/plain": [
       "<matplotlib.image.AxesImage at 0x2409fe23be0>"
      ]
     },
     "execution_count": 35,
     "metadata": {},
     "output_type": "execute_result"
    },
    {
     "data": {
      "image/png": "[encoded data removed]",
      "text/plain": [
       "<Figure size 432x288 with 1 Axes>"
      ]
     },
     "metadata": {
      "needs_background": "light"
     },
     "output_type": "display_data"
    }
   ],
   "source": [
    "plt.imshow(available_mask)"
   ]
  }
 ],
 "metadata": {
  "kernelspec": {
   "display_name": "Python 3",
   "language": "python",
   "name": "python3"
  },
  "language_info": {
   "codemirror_mode": {
    "name": "ipython",
    "version": 3
   },
   "file_extension": ".py",
   "mimetype": "text/x-python",
   "name": "python",
   "nbconvert_exporter": "python",
   "pygments_lexer": "ipython3",
   "version": "3.9.7"
  }
 },
 "nbformat": 4,
 "nbformat_minor": 5
}
