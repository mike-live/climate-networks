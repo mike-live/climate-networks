{
 "cells": [
  {
   "cell_type": "code",
   "execution_count": 3,
   "id": "narrow-graham",
   "metadata": {},
   "outputs": [
    {
     "name": "stdout",
     "output_type": "stream",
     "text": [
      "The autoreload extension is already loaded. To reload it, use:\n",
      "  %reload_ext autoreload\n",
      "Using matplotlib backend: QtAgg\n"
     ]
    }
   ],
   "source": [
    "%load_ext autoreload\n",
    "%autoreload 2\n",
    "import numpy as np\n",
    "import re\n",
    "import time\n",
    "%matplotlib\n",
    "import matplotlib\n",
    "import matplotlib.pyplot as plt\n",
    "import matplotlib.mlab as mlab\n",
    "import textwrap\n",
    "import scipy.stats as stats\n",
    "\n",
    "from scipy import stats\n",
    "import scipy\n",
    "from functools import partial\n",
    "\n",
    "import matplotlib.pylab as pylab\n",
    "import seaborn as sns\n",
    "sns.set_style('whitegrid', {'legend.frameon':True})\n",
    "sns.set_palette(sns.color_palette(\"Set1\", 12))\n",
    "#sns.set_context(\"paper\")\n",
    "fontsize = 12\n",
    "params = {'legend.fontsize': fontsize,\n",
    "  'figure.figsize': (18, 15),\n",
    "  'axes.labelsize': fontsize,\n",
    "  'axes.titlesize':fontsize,\n",
    "  'axes.edgecolor':\"0.3\",\n",
    "  'xtick.labelsize':fontsize,\n",
    "  'ytick.labelsize':fontsize,\n",
    "  'legend.fontsize':10,\n",
    "  'font.size':fontsize,\n",
    "  'font.family':'serif'}\n",
    "pylab.rcParams.update(params)\n",
    "plt.rc('axes', labelsize=fontsize) \n",
    "\n",
    "#plt.style.use('ggplot')\n",
    "%matplotlib inline\n",
    "\n",
    "from tqdm.notebook import tqdm\n",
    "import pandas as pd\n",
    "from pathlib2 import Path\n",
    "import os"
   ]
  },
  {
   "cell_type": "code",
   "execution_count": 4,
   "id": "future-hamburg",
   "metadata": {},
   "outputs": [],
   "source": [
    "import sys\n",
    "sys.path.append('../')\n",
    "\n",
    "from metric_store import save_metrics, save_metric, load_metrics, get_metric_names, load_metric\n",
    "from network_metrics import prepare_metric\n",
    "from pipeline.pipeline import load_config"
   ]
  },
  {
   "cell_type": "code",
   "execution_count": 5,
   "id": "medieval-strike",
   "metadata": {},
   "outputs": [],
   "source": [
    "config_name = \"pipeline.config\"\n",
    "config = load_config(config_name)"
   ]
  },
  {
   "cell_type": "code",
   "execution_count": null,
   "id": "dbd997fd",
   "metadata": {},
   "outputs": [],
   "source": [
    "result_dir = config.metrics_plot_options['work_dir'] / 'results_histogram' / 'metric_per_month'\n",
    "result_dir.mkdir(parents=True, exist_ok=True)"
   ]
  },
  {
   "cell_type": "code",
   "execution_count": 6,
   "id": "everyday-worst",
   "metadata": {},
   "outputs": [],
   "source": [
    "from corr_network import load_data, get_available_mask\n",
    "data = load_data(config)\n",
    "available_mask = get_available_mask(data)"
   ]
  },
  {
   "cell_type": "code",
   "execution_count": 7,
   "id": "prime-canadian",
   "metadata": {},
   "outputs": [
    {
     "data": {
      "text/plain": [
       "['probability_for_metrics/network_metrics/LCC_w',\n",
       " 'probability_for_metrics/network_metrics/degree_w',\n",
       " 'probability_for_metrics/network_metrics/EVC_w',\n",
       " 'probability_for_metrics/network_metrics/closeness_w',\n",
       " 'probability_for_metrics/network_metrics/LCC_0.9',\n",
       " 'probability_for_metrics/network_metrics/degree_0.9',\n",
       " 'probability_for_metrics/network_metrics/EVC_0.9',\n",
       " 'probability_for_metrics/network_metrics/closeness_0.9',\n",
       " 'probability_for_metrics/network_metrics/LCC_0.95',\n",
       " 'probability_for_metrics/network_metrics/degree_0.95',\n",
       " 'probability_for_metrics/network_metrics/EVC_0.95',\n",
       " 'probability_for_metrics/network_metrics/closeness_0.95',\n",
       " 'probability_for_metrics/diff_metrics/network_metrics/LCC_w',\n",
       " 'probability_for_metrics/diff_metrics/network_metrics/degree_w',\n",
       " 'probability_for_metrics/diff_metrics/network_metrics/EVC_w',\n",
       " 'probability_for_metrics/diff_metrics/network_metrics/closeness_w',\n",
       " 'probability_for_metrics/diff_metrics/network_metrics/LCC_0.9',\n",
       " 'probability_for_metrics/diff_metrics/network_metrics/degree_0.9',\n",
       " 'probability_for_metrics/diff_metrics/network_metrics/EVC_0.9',\n",
       " 'probability_for_metrics/diff_metrics/network_metrics/closeness_0.9',\n",
       " 'probability_for_metrics/diff_metrics/network_metrics/LCC_0.95',\n",
       " 'probability_for_metrics/diff_metrics/network_metrics/degree_0.95',\n",
       " 'probability_for_metrics/diff_metrics/network_metrics/EVC_0.95',\n",
       " 'probability_for_metrics/diff_metrics/network_metrics/closeness_0.95']"
      ]
     },
     "execution_count": 7,
     "metadata": {},
     "output_type": "execute_result"
    }
   ],
   "source": [
    "prefix = 'probability_for_metrics'\n",
    "metric_names = list(get_metric_names(config, prefix = prefix).keys())\n",
    "metric_names"
   ]
  },
  {
   "cell_type": "code",
   "execution_count": 17,
   "id": "sized-diana",
   "metadata": {},
   "outputs": [
    {
     "name": "stdout",
     "output_type": "stream",
     "text": [
      "network_metrics/LCC_w (36, 69, 113960)\n",
      "network_metrics/LCC_0.9 (36, 69, 113960)\n",
      "network_metrics/LCC_0.95 (36, 69, 113960)\n"
     ]
    }
   ],
   "source": [
    "metric_names = [\n",
    "    'network_metrics/LCC_w',\n",
    "    'network_metrics/LCC_0.9',\n",
    "    'network_metrics/LCC_0.95',\n",
    "    #'probability_for_metrics/network_metrics/LCC_w', \n",
    "    #'probability_for_metrics/network_metrics/LCC_0.9',\n",
    "    #'probability_for_metrics/network_metrics/LCC_0.95',\n",
    "]\n",
    "metrics = []\n",
    "for metric_name in metric_names:\n",
    "    config.metrics_plot_options['metric_name'] = metric_name\n",
    "    metric = load_metric(config, metric_name)\n",
    "    metric = prepare_metric(metric_name, metric, available_mask)\n",
    "    print(metric_name, metric.shape)\n",
    "    metrics += [metric]"
   ]
  },
  {
   "cell_type": "code",
   "execution_count": 18,
   "id": "ead8c0ae",
   "metadata": {},
   "outputs": [],
   "source": [
    "def compute_greater(metric_array):\n",
    "    inds = np.argsort(-metric_array)\n",
    "    n_greater = np.zeros(len(metric_array), dtype='int32')\n",
    "    n_greater[inds] = np.arange(len(metric_array))\n",
    "    return n_greater\n",
    "\n",
    "def compute_probability_for_metrics(metric, dtype='float16'):\n",
    "    # metric - 3D np.ndarray (lat, lon, time)\n",
    "\n",
    "    n, m, k = metric.shape\n",
    "    prob = np.zeros((n, m, k), dtype=dtype)\n",
    "    nan_mask = np.isnan(metric)\n",
    "\n",
    "    for lat in range(n):\n",
    "        for lon in range(m):\n",
    "            metric_in_node = metric[lat, lon, :]\n",
    "            n_all = len(metric_in_node)\n",
    "            n_greater = compute_greater(metric_in_node)\n",
    "            prob[lat, lon, :] = n_greater / n_all\n",
    "    prob[nan_mask] = np.nan\n",
    "\n",
    "    return prob\n"
   ]
  },
  {
   "cell_type": "code",
   "execution_count": 19,
   "id": "50263706",
   "metadata": {},
   "outputs": [],
   "source": [
    "for i in range(3):\n",
    "    metrics += [compute_probability_for_metrics(metrics[i], dtype=np.float32)]\n",
    "metric_names += [\n",
    "    'probability_for_metrics/network_metrics/LCC_w', \n",
    "    'probability_for_metrics/network_metrics/LCC_0.9',\n",
    "    'probability_for_metrics/network_metrics/LCC_0.95'\n",
    "]"
   ]
  },
  {
   "cell_type": "code",
   "execution_count": 20,
   "id": "e88e02b3",
   "metadata": {},
   "outputs": [],
   "source": [
    "import os\n",
    "os.chdir(r\"D:\\PC\\UNN\\Science\\Climate\\programs\\climate-networks\\src\")\n",
    "from plot_network_metrics.utils import get_times_lats_lots\n",
    "from cyclones_info.cyclones_info import get_cyclones_info, get_cyclones\n",
    "all_times, all_lats, all_lons = get_times_lats_lots(config)"
   ]
  },
  {
   "cell_type": "code",
   "execution_count": 21,
   "id": "7dce7120",
   "metadata": {},
   "outputs": [],
   "source": [
    "from collections import defaultdict\n",
    "month_ids = defaultdict(list)\n",
    "for i, cur_time in enumerate(all_times):\n",
    "    month = cur_time[5:7]\n",
    "    month_ids[month] += [i]"
   ]
  },
  {
   "cell_type": "code",
   "execution_count": 38,
   "id": "ccbc4402",
   "metadata": {},
   "outputs": [
    {
     "data": {
      "text/plain": [
       "(113960, (36, 69, 113960))"
      ]
     },
     "execution_count": 38,
     "metadata": {},
     "output_type": "execute_result"
    }
   ],
   "source": [
    "len(all_times), metric.shape"
   ]
  },
  {
   "cell_type": "code",
   "execution_count": 80,
   "id": "3133b574",
   "metadata": {},
   "outputs": [],
   "source": [
    "y = metrics[3][:, :, month_ids[\"07\"]]"
   ]
  },
  {
   "cell_type": "code",
   "execution_count": 82,
   "id": "59c3d0ab",
   "metadata": {},
   "outputs": [
    {
     "data": {
      "text/plain": [
       "0.2109498307780215"
      ]
     },
     "execution_count": 82,
     "metadata": {},
     "output_type": "execute_result"
    }
   ],
   "source": [
    "z = (y < 0.5).flatten()\n",
    "z.mean()"
   ]
  },
  {
   "cell_type": "code",
   "execution_count": 71,
   "id": "310bd036",
   "metadata": {},
   "outputs": [
    {
     "data": {
      "text/plain": [
       "0.4690016103059581"
      ]
     },
     "execution_count": 71,
     "metadata": {},
     "output_type": "execute_result"
    }
   ],
   "source": [
    "np.isnan(y).mean()"
   ]
  },
  {
   "cell_type": "code",
   "execution_count": 64,
   "id": "1896c275",
   "metadata": {},
   "outputs": [
    {
     "data": {
      "text/plain": [
       "7689246"
      ]
     },
     "execution_count": 64,
     "metadata": {},
     "output_type": "execute_result"
    }
   ],
   "source": [
    "z.sum()"
   ]
  },
  {
   "cell_type": "code",
   "execution_count": 65,
   "id": "d2510cc2",
   "metadata": {},
   "outputs": [
    {
     "data": {
      "text/plain": [
       "7689246"
      ]
     },
     "execution_count": 65,
     "metadata": {},
     "output_type": "execute_result"
    }
   ],
   "source": [
    "df[\"07\"][50:].sum()"
   ]
  },
  {
   "cell_type": "code",
   "execution_count": 83,
   "id": "funny-division",
   "metadata": {},
   "outputs": [
    {
     "data": {
      "application/vnd.jupyter.widget-view+json": {
       "model_id": "638c3563ee8641789d7e0d12fbf28755",
       "version_major": 2,
       "version_minor": 0
      },
      "text/plain": [
       "0it [00:00, ?it/s]"
      ]
     },
     "metadata": {},
     "output_type": "display_data"
    },
    {
     "data": {
      "application/vnd.jupyter.widget-view+json": {
       "model_id": "38ca974eb0174b239495c81fd283e53c",
       "version_major": 2,
       "version_minor": 0
      },
      "text/plain": [
       "  0%|          | 0/12 [00:00<?, ?it/s]"
      ]
     },
     "metadata": {},
     "output_type": "display_data"
    },
    {
     "data": {
      "application/vnd.jupyter.widget-view+json": {
       "model_id": "63575296fcfd442f95de3bba36eb6450",
       "version_major": 2,
       "version_minor": 0
      },
      "text/plain": [
       "  0%|          | 0/12 [00:00<?, ?it/s]"
      ]
     },
     "metadata": {},
     "output_type": "display_data"
    },
    {
     "data": {
      "application/vnd.jupyter.widget-view+json": {
       "model_id": "69e8fcd37a5548e19441601682b0977a",
       "version_major": 2,
       "version_minor": 0
      },
      "text/plain": [
       "  0%|          | 0/12 [00:00<?, ?it/s]"
      ]
     },
     "metadata": {},
     "output_type": "display_data"
    }
   ],
   "source": [
    "bins = np.linspace(0, 1, 101)\n",
    "df_metrics = []\n",
    "for i, metric in tqdm(enumerate(metrics[3:])):\n",
    "    df = pd.DataFrame(columns=['bin_center'] + list(month_ids.keys()))\n",
    "    for month, ids in tqdm(month_ids.items()):\n",
    "        month_metric = metric[:, :, ids]\n",
    "        month_metric = month_metric[~np.isnan(month_metric)]\n",
    "        counts, edges = np.histogram(month_metric, bins)\n",
    "        bin_centers = (edges[1:] + edges[:-1]) * .5\n",
    "        df['bin_center'] = bin_centers\n",
    "        df[month] = counts\n",
    "        \n",
    "    df_metrics += [df]"
   ]
  },
  {
   "cell_type": "code",
   "execution_count": 153,
   "id": "b6a87ac2",
   "metadata": {},
   "outputs": [],
   "source": [
    "import plotly.express as px\n",
    "import plotly.graph_objects as go\n",
    "\n",
    "months = [\"Unknown\",\n",
    "          \"January\",\n",
    "          \"February\",\n",
    "          \"March\",\n",
    "          \"April\",\n",
    "          \"May\",\n",
    "          \"June\",\n",
    "          \"July\",\n",
    "          \"August\",\n",
    "          \"September\",\n",
    "          \"October\",\n",
    "          \"November\",\n",
    "          \"December\"]\n",
    "\n",
    "palette = sns.color_palette(\"husl\", 12)\n",
    "palette_str = [f'rgb{color}' for color in palette]\n",
    "for i, metric in enumerate(metrics[3:]):\n",
    "    df = df_metrics[i]\n",
    "    #plt.figure(figsize=(9, 5))\n",
    "    fig = go.Figure()\n",
    "    for j, (month, ids) in enumerate(month_ids.items()):\n",
    "        bin_centers = df['bin_center']\n",
    "        counts = df[month]\n",
    "        fig.add_trace(\n",
    "            go.Scatter(x=bin_centers, y=counts, name=f'Month: {month} = {months[int(month)]}', mode='lines', line={'color': palette_str[j]})\n",
    "        )\n",
    "        fig.update_layout(\n",
    "            title=f\"{metric_names[3 + i]}\", \n",
    "            autosize=True,\n",
    "            #width=1000,\n",
    "            #height=600\n",
    "            xaxis_range=[0,1],\n",
    "            font=dict(\n",
    "                family=\"Computer Modern\",\n",
    "                size=18,\n",
    "                color=\"RebeccaPurple\"\n",
    "            )\n",
    "        )\n",
    "        \n",
    "        #plt.plot(bin_centers, counts, label=f\"Month: {month}\")\n",
    "        #plt.legend(ncol=4, loc='upper center')\n",
    "        #plt.title(f\"{metric_names[3 + i]}\\nMonth: {month}\")\n",
    "        #plt.title(f\"{metric_names[3 + i]}\")\n",
    "    #fig.show()\n",
    "    file_name = result_dir / (\"metric_per_month_\" + metric_names[3 + i].replace('/', '$') + \".html\")\n",
    "    fig.write_html(str(file_name))"
   ]
  },
  {
   "cell_type": "code",
   "execution_count": 154,
   "id": "f660a189",
   "metadata": {},
   "outputs": [],
   "source": [
    "for i, metric in enumerate(metrics[3:]):\n",
    "    file_name = result_dir / (\"metric_per_month_\" + metric_names[3 + i].replace('/', '$') + \".csv\")\n",
    "    df = df_metrics[i]\n",
    "    df.to_csv(file_name)"
   ]
  },
  {
   "cell_type": "code",
   "execution_count": 140,
   "id": "27ded121",
   "metadata": {},
   "outputs": [
    {
     "data": {
      "text/plain": [
       "WindowsPath('Z:/Research/Climate/data/ERA5/ERA5_MSL_1982_2020_3h_0.75/results_histogram/metric_per_month/probability_for_metrics$network_metrics$LCC_0.95.html')"
      ]
     },
     "execution_count": 140,
     "metadata": {},
     "output_type": "execute_result"
    }
   ],
   "source": [
    "file_name"
   ]
  },
  {
   "cell_type": "code",
   "execution_count": null,
   "id": "a3378723",
   "metadata": {},
   "outputs": [],
   "source": []
  }
 ],
 "metadata": {
  "kernelspec": {
   "display_name": "py39",
   "language": "python",
   "name": "python3"
  },
  "language_info": {
   "codemirror_mode": {
    "name": "ipython",
    "version": 3
   },
   "file_extension": ".py",
   "mimetype": "text/x-python",
   "name": "python",
   "nbconvert_exporter": "python",
   "pygments_lexer": "ipython3",
   "version": "3.9.7"
  },
  "vscode": {
   "interpreter": {
    "hash": "8571e7f3e92f6e490cddd84ef78d4e4e0b96a1f565959148b10a39523fba88f5"
   }
  }
 },
 "nbformat": 4,
 "nbformat_minor": 5
}
