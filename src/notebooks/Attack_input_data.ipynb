{
 "cells": [
  {
   "cell_type": "code",
   "execution_count": 2,
   "id": "narrow-graham",
   "metadata": {},
   "outputs": [],
   "source": [
    "%load_ext autoreload\n",
    "%autoreload 2\n",
    "import numpy as np\n",
    "import re\n",
    "import time\n",
    "%matplotlib\n",
    "import matplotlib\n",
    "import matplotlib.pyplot as plt\n",
    "import matplotlib.mlab as mlab\n",
    "import textwrap\n",
    "import scipy.stats as stats\n",
    "\n",
    "from scipy import stats\n",
    "import scipy\n",
    "from functools import partial\n",
    "\n",
    "import matplotlib.pylab as pylab\n",
    "import seaborn as sns\n",
    "sns.set_style('whitegrid', {'legend.frameon':True})\n",
    "sns.set_palette(sns.color_palette(\"Set1\", 12))\n",
    "#sns.set_context(\"paper\")\n",
    "fontsize = 12\n",
    "params = {'legend.fontsize': fontsize,\n",
    "  'figure.figsize': (18, 15),\n",
    "  'axes.labelsize': fontsize,\n",
    "  'axes.titlesize':fontsize,\n",
    "  'axes.edgecolor':\"0.3\",\n",
    "  'xtick.labelsize':fontsize,\n",
    "  'ytick.labelsize':fontsize,\n",
    "  'legend.fontsize':10,\n",
    "  'font.size':fontsize,\n",
    "  'font.family':'serif'}\n",
    "pylab.rcParams.update(params)\n",
    "plt.rc('axes', labelsize=fontsize) \n",
    "\n",
    "#plt.style.use('ggplot')\n",
    "%matplotlib inline\n",
    "\n",
    "from tqdm.notebook import tqdm\n",
    "import pandas as pd\n",
    "from pathlib2 import Path\n",
    "import os"
   ]
  },
  {
   "cell_type": "code",
   "execution_count": 3,
   "id": "future-hamburg",
   "metadata": {},
   "outputs": [],
   "source": [
    "import sys\n",
    "sys.path.append('../')\n",
    "\n",
    "from metric_store import save_metrics, save_metric, load_metrics, get_metric_names, load_metric\n",
    "from network_metrics import prepare_metric\n",
    "from pipeline.pipeline import load_config"
   ]
  },
  {
   "cell_type": "code",
   "execution_count": 4,
   "id": "medieval-strike",
   "metadata": {},
   "outputs": [],
   "source": [
    "config_name = \"pipeline.config\"\n",
    "config = load_config(config_name)"
   ]
  },
  {
   "cell_type": "code",
   "execution_count": 13,
   "id": "everyday-worst",
   "metadata": {},
   "outputs": [],
   "source": [
    "from corr_network import load_data, get_available_mask\n",
    "data = load_data(config)\n",
    "available_mask = get_available_mask(data)"
   ]
  },
  {
   "cell_type": "code",
   "execution_count": 54,
   "id": "sized-diana",
   "metadata": {},
   "outputs": [
    {
     "name": "stdout",
     "output_type": "stream",
     "text": [
      "input_data/MSLP_preproc (36, 69, 111032) 2D\n"
     ]
    }
   ],
   "source": [
    "metric_names = ['input_data/MSLP_preproc']\n",
    "for metric_name in metric_names:\n",
    "    config.metrics_plot_options['metric_name'] = metric_name\n",
    "    metric = load_metric(config, metric_name)\n",
    "    metric = prepare_metric(metric_name, metric, available_mask)\n",
    "    print(metric_name, metric.shape, config.metric_dimension[metric_name])    "
   ]
  },
  {
   "cell_type": "code",
   "execution_count": 6,
   "id": "prime-canadian",
   "metadata": {},
   "outputs": [
    {
     "data": {
      "text/plain": [
       "['network_metrics/LCC',\n",
       " 'network_metrics/GCC',\n",
       " 'network_metrics/LCC_w',\n",
       " 'network_metrics/GCC_w',\n",
       " 'network_metrics/degree',\n",
       " 'network_metrics/degree_w',\n",
       " 'network_metrics/EVC',\n",
       " 'network_metrics/EVC_w',\n",
       " 'network_metrics/closeness',\n",
       " 'network_metrics/closeness_w',\n",
       " 'network_metrics/LCC_0.9',\n",
       " 'network_metrics/GCC_0.9',\n",
       " 'network_metrics/degree_0.9',\n",
       " 'network_metrics/EVC_0.9',\n",
       " 'network_metrics/closeness_0.9']"
      ]
     },
     "execution_count": 6,
     "metadata": {},
     "output_type": "execute_result"
    }
   ],
   "source": [
    "prefix = 'network_metrics'\n",
    "metric_names = list(get_metric_names(config, prefix = prefix).keys())\n",
    "metric_names"
   ]
  },
  {
   "cell_type": "code",
   "execution_count": null,
   "id": "funny-division",
   "metadata": {},
   "outputs": [],
   "source": []
  }
 ],
 "metadata": {
  "kernelspec": {
   "display_name": "py39",
   "language": "python",
   "name": "python3"
  },
  "language_info": {
   "codemirror_mode": {
    "name": "ipython",
    "version": 3
   },
   "file_extension": ".py",
   "mimetype": "text/x-python",
   "name": "python",
   "nbconvert_exporter": "python",
   "pygments_lexer": "ipython3",
   "version": "3.9.7"
  },
  "vscode": {
   "interpreter": {
    "hash": "8571e7f3e92f6e490cddd84ef78d4e4e0b96a1f565959148b10a39523fba88f5"
   }
  }
 },
 "nbformat": 4,
 "nbformat_minor": 5
}
