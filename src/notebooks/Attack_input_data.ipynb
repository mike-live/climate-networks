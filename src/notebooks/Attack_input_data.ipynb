{
 "cells": [
  {
   "cell_type": "code",
   "execution_count": 2,
   "id": "narrow-graham",
   "metadata": {},
   "outputs": [
    {
     "name": "stdout",
     "output_type": "stream",
     "text": [
      "Using matplotlib backend: <object object at 0x000001FCEC684440>\n"
     ]
    }
   ],
   "source": [
    "%load_ext autoreload\n",
    "%autoreload 2\n",
    "import numpy as np\n",
    "import re\n",
    "import time\n",
    "%matplotlib\n",
    "import matplotlib\n",
    "import matplotlib.pyplot as plt\n",
    "import matplotlib.mlab as mlab\n",
    "import textwrap\n",
    "import scipy.stats as stats\n",
    "\n",
    "from scipy import stats\n",
    "import scipy\n",
    "from functools import partial\n",
    "\n",
    "import matplotlib.pylab as pylab\n",
    "import seaborn as sns\n",
    "sns.set_style('whitegrid', {'legend.frameon':True})\n",
    "sns.set_palette(sns.color_palette(\"Set1\", 12))\n",
    "#sns.set_context(\"paper\")\n",
    "fontsize = 12\n",
    "params = {'legend.fontsize': fontsize,\n",
    "  'figure.figsize': (18, 15),\n",
    "  'axes.labelsize': fontsize,\n",
    "  'axes.titlesize':fontsize,\n",
    "  'axes.edgecolor':\"0.3\",\n",
    "  'xtick.labelsize':fontsize,\n",
    "  'ytick.labelsize':fontsize,\n",
    "  'legend.fontsize':10,\n",
    "  'font.size':fontsize,\n",
    "  'font.family':'serif'}\n",
    "pylab.rcParams.update(params)\n",
    "plt.rc('axes', labelsize=fontsize) \n",
    "\n",
    "#plt.style.use('ggplot')\n",
    "%matplotlib inline\n",
    "\n",
    "from tqdm.notebook import tqdm\n",
    "import pandas as pd\n",
    "from pathlib2 import Path\n",
    "import os"
   ]
  },
  {
   "cell_type": "code",
   "execution_count": 3,
   "id": "future-hamburg",
   "metadata": {},
   "outputs": [],
   "source": [
    "import sys\n",
    "sys.path.append('../')\n",
    "\n",
    "from metric_store import save_metrics, save_metric, load_metrics, get_metric_names, load_metric\n",
    "from network_metrics import prepare_metric\n",
    "from pipeline.pipeline import load_config"
   ]
  },
  {
   "cell_type": "code",
   "execution_count": 4,
   "id": "medieval-strike",
   "metadata": {},
   "outputs": [],
   "source": [
    "config_name = \"pipeline.config\"\n",
    "config = load_config(config_name)"
   ]
  },
  {
   "cell_type": "code",
   "execution_count": 5,
   "id": "everyday-worst",
   "metadata": {},
   "outputs": [],
   "source": [
    "from corr_network import load_data, get_available_mask\n",
    "data = load_data(config)\n",
    "available_mask = get_available_mask(data)"
   ]
  },
  {
   "cell_type": "code",
   "execution_count": 30,
   "id": "sized-diana",
   "metadata": {},
   "outputs": [
    {
     "name": "stdout",
     "output_type": "stream",
     "text": [
      "input_data/MSLP_preproc (36, 69, 113960) 2D\n"
     ]
    }
   ],
   "source": [
    "metric_name = 'input_data/MSLP_preproc'    \n",
    "config.metrics_plot_options['metric_name'] = metric_name\n",
    "input_data = load_metric(config, metric_name)\n",
    "input_data = prepare_metric(metric_name, input_data, available_mask)\n",
    "print(metric_name, input_data.shape, config.metric_dimension[metric_name])"
   ]
  },
  {
   "cell_type": "code",
   "execution_count": 8,
   "id": "c1d19fc7",
   "metadata": {},
   "outputs": [],
   "source": [
    "data = np.load('../cyclones_events.npz')\n",
    "list(data.keys())\n",
    "cyclone_events = data['cyclone_events_2']"
   ]
  },
  {
   "cell_type": "code",
   "execution_count": 46,
   "id": "funny-division",
   "metadata": {},
   "outputs": [],
   "source": [
    "nt = input_data.shape[2]\n",
    "start_lat, end_lat = 10, 30\n",
    "start_lon, end_lon = 30, 60\n",
    "start_frame = nt - 1000\n",
    "end_frame = nt\n",
    "input_data_sample = input_data[start_lat:end_lat, start_lon:end_lon, start_frame:end_frame]\n",
    "cyclone_events_sample = cyclone_events[start_lat:end_lat, start_lon:end_lon, start_frame:end_frame]\n",
    "available_mask_sample = available_mask[start_lat:end_lat, start_lon:end_lon]"
   ]
  },
  {
   "cell_type": "code",
   "execution_count": 47,
   "id": "3bababed",
   "metadata": {},
   "outputs": [],
   "source": [
    "from network_metrics.clustering_coef import compute_weighted_clustering_coefficient\n",
    "from helpers.parallel_maker import parallel_execute, make_args\n",
    "\n",
    "def compute_metric(result, corr_matricies, ids):\n",
    "    for tid in ids:\n",
    "        corr_matrix = corr_matricies[tid].copy()\n",
    "        LCC_w, _ = compute_weighted_clustering_coefficient(corr_matrix)\n",
    "        result['LCC_w'][tid]       = LCC_w\n",
    "\n",
    "def parallel_compute_metric(config, corr_matricies):\n",
    "    from functools import partial\n",
    "    num_threads = config.network_metrics['num_threads']\n",
    "    result = {}\n",
    "    corr_thrs = config.network_metrics['corr_thrs']\n",
    "    result.update({\n",
    "        'LCC_w':        np.zeros((corr_matricies.shape[0], corr_matricies.shape[1]), dtype = np.float32)\n",
    "    })\n",
    "    parallel_execute(num_threads, compute_metric, make_args(num_threads, result, corr_matricies))\n",
    "    return result\n"
   ]
  },
  {
   "cell_type": "code",
   "execution_count": 54,
   "id": "d98975a2",
   "metadata": {},
   "outputs": [],
   "source": [
    "from tqdm import tqdm\n",
    "from network_metrics import combine_metric_parts\n",
    "from corr_network.corr_network \\\n",
    "    import make_correlation_matricies, \\\n",
    "        get_available_data, \\\n",
    "        calc_parallel_online_optimized, \\\n",
    "        get_parts\n",
    "\n",
    "\n",
    "config.correlations['num_threads'] = 4\n",
    "config.correlations['num_parts'] = 10\n",
    "config.network_metrics['corr_thrs'] = [None]\n",
    "config.network_metrics['selected_metrics'] = ['LCC']\n",
    "\n",
    "def make_correlation_matricies(config, data):\n",
    "    delay_time = config.correlations['delay_time']\n",
    "    window_size = config.correlations['window_size']\n",
    "    num_threads = config.correlations['num_threads']\n",
    "    \n",
    "    if 'num_parts' in config.correlations:\n",
    "        num_parts = config.correlations['num_parts']\n",
    "        id_part = config.correlations['id_part']\n",
    "        pos_part, len_part = get_parts(id_part, num_parts, data.shape[1])\n",
    "        shifted_pos = max(0, pos_part - window_size - delay_time)\n",
    "        data = data[:, shifted_pos:pos_part + len_part]\n",
    "    result = calc_parallel_online_optimized(\n",
    "        data, delay_time, window_size, num_threads, output_level=config.correlations['output_level']\n",
    "    )\n",
    "    if 'num_parts' in config.correlations:\n",
    "        if id_part != 0:\n",
    "           result = result[:, :, window_size + delay_time:]\n",
    "\n",
    "    return result\n",
    "\n",
    "def make_network_metric(config, input_data_sample, available_mask_sample):\n",
    "    metrics = []\n",
    "    data = get_available_data(input_data_sample, available_mask_sample)\n",
    "\n",
    "    for id_part in tqdm(range(config.correlations['num_parts'])):\n",
    "        config.correlations['id_part'] = id_part\n",
    "        corr_networks = make_correlation_matricies(config, data)\n",
    "        corr_networks = np.moveaxis(corr_networks, -1, 0)\n",
    "        res = parallel_compute_metric(config, corr_networks)\n",
    "        metrics += [res]\n",
    "\n",
    "    metrics = combine_metric_parts(config, metrics)\n",
    "    metric_name = 'network_metrics\\\\LCC_w'\n",
    "    metric = metrics[metric_name]\n",
    "    metric = prepare_metric(metric_name, metric, available_mask_sample)\n",
    "    return metric\n"
   ]
  },
  {
   "cell_type": "code",
   "execution_count": 93,
   "id": "63b27d93",
   "metadata": {},
   "outputs": [
    {
     "name": "stderr",
     "output_type": "stream",
     "text": [
      "100%|██████████| 10/10 [00:12<00:00,  1.27s/it]\n"
     ]
    }
   ],
   "source": [
    "from metrics_probability.metrics_probability import compute_probability_for_metrics\n",
    "\n",
    "train_metric = make_network_metric(config, input_data_sample, available_mask_sample)\n",
    "prob = compute_probability_for_metrics(train_metric, train_metric)"
   ]
  },
  {
   "cell_type": "code",
   "execution_count": null,
   "id": "ebf4d49e",
   "metadata": {},
   "outputs": [],
   "source": []
  },
  {
   "cell_type": "code",
   "execution_count": 91,
   "id": "e12ec98a",
   "metadata": {},
   "outputs": [],
   "source": [
    "prob = compute_probability_for_metrics(metric, metric)"
   ]
  },
  {
   "cell_type": "code",
   "execution_count": 92,
   "id": "888d14e9",
   "metadata": {},
   "outputs": [
    {
     "data": {
      "text/plain": [
       "<matplotlib.image.AxesImage at 0x1fd0b32e8b0>"
      ]
     },
     "execution_count": 92,
     "metadata": {},
     "output_type": "execute_result"
    },
    {
     "data": {
      "image/png": "[encoded data removed]",
      "text/plain": [
       "<Figure size 1800x1500 with 1 Axes>"
      ]
     },
     "metadata": {},
     "output_type": "display_data"
    }
   ],
   "source": [
    "plt.imshow(prob[:, :, 201])"
   ]
  },
  {
   "cell_type": "code",
   "execution_count": null,
   "id": "f693b777",
   "metadata": {},
   "outputs": [],
   "source": []
  }
 ],
 "metadata": {
  "kernelspec": {
   "display_name": "py39",
   "language": "python",
   "name": "python3"
  },
  "language_info": {
   "codemirror_mode": {
    "name": "ipython",
    "version": 3
   },
   "file_extension": ".py",
   "mimetype": "text/x-python",
   "name": "python",
   "nbconvert_exporter": "python",
   "pygments_lexer": "ipython3",
   "version": "3.9.7"
  },
  "vscode": {
   "interpreter": {
    "hash": "8571e7f3e92f6e490cddd84ef78d4e4e0b96a1f565959148b10a39523fba88f5"
   }
  }
 },
 "nbformat": 4,
 "nbformat_minor": 5
}
