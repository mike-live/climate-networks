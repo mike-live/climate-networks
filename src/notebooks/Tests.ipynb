{
 "cells": [
  {
   "cell_type": "code",
   "execution_count": 1,
   "id": "narrow-graham",
   "metadata": {},
   "outputs": [
    {
     "name": "stdout",
     "output_type": "stream",
     "text": [
      "Using matplotlib backend: <object object at 0x000001543F30A490>\n"
     ]
    }
   ],
   "source": [
    "%load_ext autoreload\n",
    "%autoreload 2\n",
    "import numpy as np\n",
    "import re\n",
    "import time\n",
    "%matplotlib\n",
    "import matplotlib\n",
    "import matplotlib.pyplot as plt\n",
    "import matplotlib.mlab as mlab\n",
    "import textwrap\n",
    "import scipy.stats as stats\n",
    "\n",
    "from scipy import stats\n",
    "import scipy\n",
    "from functools import partial\n",
    "\n",
    "import matplotlib.pylab as pylab\n",
    "import seaborn as sns\n",
    "sns.set_style('whitegrid', {'legend.frameon':True})\n",
    "sns.set_palette(sns.color_palette(\"Set1\", 12))\n",
    "#sns.set_context(\"paper\")\n",
    "fontsize = 12\n",
    "params = {'legend.fontsize': fontsize,\n",
    "  'figure.figsize': (18, 15),\n",
    "  'axes.labelsize': fontsize,\n",
    "  'axes.titlesize':fontsize,\n",
    "  'axes.edgecolor':\"0.3\",\n",
    "  'xtick.labelsize':fontsize,\n",
    "  'ytick.labelsize':fontsize,\n",
    "  'legend.fontsize':10,\n",
    "  'font.size':fontsize,\n",
    "  'font.family':'serif'}\n",
    "pylab.rcParams.update(params)\n",
    "plt.rc('axes', labelsize=fontsize) \n",
    "\n",
    "#plt.style.use('ggplot')\n",
    "%matplotlib inline\n",
    "\n",
    "from tqdm.notebook import tqdm\n",
    "import pandas as pd\n",
    "from pathlib2 import Path\n",
    "import os"
   ]
  },
  {
   "cell_type": "code",
   "execution_count": null,
   "id": "7bd17be3",
   "metadata": {},
   "outputs": [],
   "source": []
  },
  {
   "cell_type": "code",
   "execution_count": 2,
   "id": "future-hamburg",
   "metadata": {},
   "outputs": [],
   "source": [
    "import sys\n",
    "sys.path.append('../')\n",
    "\n",
    "from metric_store import save_metrics, save_metric, load_metrics, get_metric_names, load_metric\n",
    "from network_metrics import prepare_metric\n",
    "from pipeline.pipeline import load_config"
   ]
  },
  {
   "cell_type": "code",
   "execution_count": 3,
   "id": "medieval-strike",
   "metadata": {},
   "outputs": [],
   "source": [
    "config_name = \"pipeline.config\"\n",
    "config = load_config(config_name)"
   ]
  },
  {
   "cell_type": "code",
   "execution_count": 4,
   "id": "everyday-worst",
   "metadata": {},
   "outputs": [],
   "source": [
    "from corr_network import load_data, get_available_mask\n",
    "data = load_data(config)\n",
    "available_mask = get_available_mask(data)"
   ]
  },
  {
   "cell_type": "code",
   "execution_count": null,
   "id": "1f47ca9b",
   "metadata": {},
   "outputs": [],
   "source": []
  },
  {
   "cell_type": "code",
   "execution_count": 45,
   "id": "sized-diana",
   "metadata": {},
   "outputs": [
    {
     "name": "stdout",
     "output_type": "stream",
     "text": [
      "input_data/MSLP (113960, 36, 69) 2D\n"
     ]
    }
   ],
   "source": [
    "metric_names = ['input_data/MSLP']\n",
    "for metric_name in metric_names:\n",
    "    config.metrics_plot_options['metric_name'] = metric_name\n",
    "    metric = load_metric(config, metric_name)\n",
    "    #metric = prepare_metric(metric_name, metric, available_mask)\n",
    "    print(metric_name, metric.shape, config.metric_dimension[metric_name])    "
   ]
  },
  {
   "cell_type": "code",
   "execution_count": 6,
   "id": "prime-canadian",
   "metadata": {},
   "outputs": [
    {
     "data": {
      "text/plain": [
       "['network_metrics/LCC',\n",
       " 'network_metrics/GCC',\n",
       " 'network_metrics/LCC_w',\n",
       " 'network_metrics/GCC_w',\n",
       " 'network_metrics/degree',\n",
       " 'network_metrics/degree_w',\n",
       " 'network_metrics/EVC',\n",
       " 'network_metrics/EVC_w',\n",
       " 'network_metrics/closeness',\n",
       " 'network_metrics/closeness_w',\n",
       " 'network_metrics/LCC_0.9',\n",
       " 'network_metrics/GCC_0.9',\n",
       " 'network_metrics/degree_0.9',\n",
       " 'network_metrics/EVC_0.9',\n",
       " 'network_metrics/closeness_0.9']"
      ]
     },
     "execution_count": 6,
     "metadata": {},
     "output_type": "execute_result"
    }
   ],
   "source": [
    "prefix = 'network_metrics'\n",
    "metric_names = list(get_metric_names(config, prefix = prefix).keys())\n",
    "metric_names"
   ]
  },
  {
   "cell_type": "markdown",
   "id": "f79fe1e1",
   "metadata": {},
   "source": [
    "# Cyclone events"
   ]
  },
  {
   "cell_type": "code",
   "execution_count": 5,
   "id": "funny-division",
   "metadata": {},
   "outputs": [],
   "source": [
    "data = np.load('../cyclones_events.npz')\n",
    "list(data.keys())\n",
    "cyclone_events = data['cyclone_events_4']"
   ]
  },
  {
   "cell_type": "code",
   "execution_count": 6,
   "id": "faee6220",
   "metadata": {},
   "outputs": [],
   "source": [
    "cyclone_events = data['cyclone_events_2']"
   ]
  },
  {
   "cell_type": "code",
   "execution_count": 42,
   "id": "49eae77a",
   "metadata": {},
   "outputs": [],
   "source": [
    "cyclone_events = data['cyclone_events_6']"
   ]
  },
  {
   "cell_type": "code",
   "execution_count": 8,
   "id": "8bf6f535",
   "metadata": {},
   "outputs": [
    {
     "data": {
      "text/plain": [
       "(36, 69, 113960)"
      ]
     },
     "execution_count": 8,
     "metadata": {},
     "output_type": "execute_result"
    }
   ],
   "source": [
    "cyclone_events.shape"
   ]
  },
  {
   "cell_type": "markdown",
   "id": "fe0121f3",
   "metadata": {},
   "source": [
    "# Cyclone events 1D make"
   ]
  },
  {
   "cell_type": "code",
   "execution_count": 16,
   "id": "fa8d4c65",
   "metadata": {},
   "outputs": [],
   "source": [
    "df_times = pd.read_csv(config.download_ERA5_options['work_dir'] / 'times.txt', header=None)\n",
    "cyclone_events_1d = np.sum(cyclone_events, axis=(0, 1))\n",
    "df = pd.DataFrame({\n",
    "        'datetime': df_times[0],\n",
    "        'cyclone_events_1d': cyclone_events_1d\n",
    "    }\n",
    ")\n",
    "df.to_excel(config.download_ERA5_options['work_dir'] / 'cyclone_events_1d.xlsx')"
   ]
  },
  {
   "cell_type": "code",
   "execution_count": 15,
   "id": "c5a1fcf6",
   "metadata": {},
   "outputs": [
    {
     "data": {
      "text/html": [
       "<div>\n",
       "<style scoped>\n",
       "    .dataframe tbody tr th:only-of-type {\n",
       "        vertical-align: middle;\n",
       "    }\n",
       "\n",
       "    .dataframe tbody tr th {\n",
       "        vertical-align: top;\n",
       "    }\n",
       "\n",
       "    .dataframe thead th {\n",
       "        text-align: right;\n",
       "    }\n",
       "</style>\n",
       "<table border=\"1\" class=\"dataframe\">\n",
       "  <thead>\n",
       "    <tr style=\"text-align: right;\">\n",
       "      <th></th>\n",
       "      <th>1982.01.01 00:00:00</th>\n",
       "    </tr>\n",
       "  </thead>\n",
       "  <tbody>\n",
       "    <tr>\n",
       "      <th>0</th>\n",
       "      <td>1982.01.01 03:00:00</td>\n",
       "    </tr>\n",
       "    <tr>\n",
       "      <th>1</th>\n",
       "      <td>1982.01.01 06:00:00</td>\n",
       "    </tr>\n",
       "    <tr>\n",
       "      <th>2</th>\n",
       "      <td>1982.01.01 09:00:00</td>\n",
       "    </tr>\n",
       "    <tr>\n",
       "      <th>3</th>\n",
       "      <td>1982.01.01 12:00:00</td>\n",
       "    </tr>\n",
       "    <tr>\n",
       "      <th>4</th>\n",
       "      <td>1982.01.01 15:00:00</td>\n",
       "    </tr>\n",
       "    <tr>\n",
       "      <th>...</th>\n",
       "      <td>...</td>\n",
       "    </tr>\n",
       "    <tr>\n",
       "      <th>113954</th>\n",
       "      <td>2020.12.31 09:00:00</td>\n",
       "    </tr>\n",
       "    <tr>\n",
       "      <th>113955</th>\n",
       "      <td>2020.12.31 12:00:00</td>\n",
       "    </tr>\n",
       "    <tr>\n",
       "      <th>113956</th>\n",
       "      <td>2020.12.31 15:00:00</td>\n",
       "    </tr>\n",
       "    <tr>\n",
       "      <th>113957</th>\n",
       "      <td>2020.12.31 18:00:00</td>\n",
       "    </tr>\n",
       "    <tr>\n",
       "      <th>113958</th>\n",
       "      <td>2020.12.31 21:00:00</td>\n",
       "    </tr>\n",
       "  </tbody>\n",
       "</table>\n",
       "<p>113959 rows × 1 columns</p>\n",
       "</div>"
      ],
      "text/plain": [
       "        1982.01.01 00:00:00\n",
       "0       1982.01.01 03:00:00\n",
       "1       1982.01.01 06:00:00\n",
       "2       1982.01.01 09:00:00\n",
       "3       1982.01.01 12:00:00\n",
       "4       1982.01.01 15:00:00\n",
       "...                     ...\n",
       "113954  2020.12.31 09:00:00\n",
       "113955  2020.12.31 12:00:00\n",
       "113956  2020.12.31 15:00:00\n",
       "113957  2020.12.31 18:00:00\n",
       "113958  2020.12.31 21:00:00\n",
       "\n",
       "[113959 rows x 1 columns]"
      ]
     },
     "execution_count": 15,
     "metadata": {},
     "output_type": "execute_result"
    }
   ],
   "source": [
    "df_times"
   ]
  },
  {
   "cell_type": "code",
   "execution_count": 20,
   "id": "34571427",
   "metadata": {},
   "outputs": [
    {
     "name": "stdout",
     "output_type": "stream",
     "text": [
      "961\n"
     ]
    }
   ],
   "source": [
    "for i in range(100000):\n",
    "    if np.sum(cyclone_events[:, :, i]) > 0:\n",
    "        print(i)\n",
    "        break"
   ]
  },
  {
   "cell_type": "code",
   "execution_count": 39,
   "id": "22fe9691",
   "metadata": {},
   "outputs": [
    {
     "data": {
      "image/png": "[encoded data removed]",
      "text/plain": [
       "<Figure size 720x720 with 1 Axes>"
      ]
     },
     "metadata": {
      "needs_background": "light"
     },
     "output_type": "display_data"
    }
   ],
   "source": [
    "plt.figure(figsize=(10, 10))\n",
    "plt.imshow(cyclone_events[:, :, 974])\n",
    "plt.grid(0)"
   ]
  },
  {
   "cell_type": "code",
   "execution_count": 11,
   "id": "9a7db7fe",
   "metadata": {},
   "outputs": [],
   "source": []
  },
  {
   "cell_type": "code",
   "execution_count": 37,
   "id": "a03de9c4",
   "metadata": {},
   "outputs": [
    {
     "name": "stdout",
     "output_type": "stream",
     "text": [
      "1\n",
      "2\n",
      "3\n"
     ]
    },
    {
     "data": {
      "text/plain": [
       "3"
      ]
     },
     "execution_count": 37,
     "metadata": {},
     "output_type": "execute_result"
    }
   ],
   "source": [
    "d = {'a': 1}\n",
    "\n",
    "for d['a'] in [1, 2, 3]:\n",
    "    print(d['a'])\n",
    "d['a']    "
   ]
  },
  {
   "cell_type": "code",
   "execution_count": 46,
   "id": "f0d120cb",
   "metadata": {},
   "outputs": [],
   "source": [
    "from pathlib2 import Path"
   ]
  },
  {
   "cell_type": "code",
   "execution_count": 57,
   "id": "f1b926f3",
   "metadata": {},
   "outputs": [
    {
     "ename": "KeyError",
     "evalue": "'config'",
     "output_type": "error",
     "traceback": [
      "\u001b[1;31m---------------------------------------------------------------------------\u001b[0m",
      "\u001b[1;31mKeyError\u001b[0m                                  Traceback (most recent call last)",
      "\u001b[1;32mC:\\Users\\MIKE_L~1\\AppData\\Local\\Temp/ipykernel_9376/1371846770.py\u001b[0m in \u001b[0;36m<module>\u001b[1;34m\u001b[0m\n\u001b[0;32m      1\u001b[0m \u001b[0mp\u001b[0m \u001b[1;33m=\u001b[0m \u001b[0mPath\u001b[0m\u001b[1;33m(\u001b[0m\u001b[1;34m\"a{config.g_test_options['track_size']}\"\u001b[0m\u001b[1;33m)\u001b[0m \u001b[1;33m/\u001b[0m \u001b[1;34m'b'\u001b[0m\u001b[1;33m\u001b[0m\u001b[1;33m\u001b[0m\u001b[0m\n\u001b[0;32m      2\u001b[0m \u001b[0mstr\u001b[0m\u001b[1;33m(\u001b[0m\u001b[0mp\u001b[0m\u001b[1;33m)\u001b[0m\u001b[1;33m\u001b[0m\u001b[1;33m\u001b[0m\u001b[0m\n\u001b[1;32m----> 3\u001b[1;33m \u001b[0mPath\u001b[0m\u001b[1;33m(\u001b[0m\u001b[0mstr\u001b[0m\u001b[1;33m(\u001b[0m\u001b[0mp\u001b[0m\u001b[1;33m)\u001b[0m\u001b[1;33m.\u001b[0m\u001b[0mformat\u001b[0m\u001b[1;33m(\u001b[0m\u001b[1;33m**\u001b[0m\u001b[1;33m{\u001b[0m\u001b[1;34m\"config.g_test_options['track_size']\"\u001b[0m\u001b[1;33m:\u001b[0m \u001b[1;34m'xx'\u001b[0m\u001b[1;33m}\u001b[0m\u001b[1;33m)\u001b[0m\u001b[1;33m)\u001b[0m\u001b[1;33m\u001b[0m\u001b[1;33m\u001b[0m\u001b[0m\n\u001b[0m",
      "\u001b[1;31mKeyError\u001b[0m: 'config'"
     ]
    }
   ],
   "source": [
    "p = Path(\"a{config.g_test_options['track_size']}\") / 'b'\n",
    "str(p)\n",
    "Path(str(p).format(**{\"config.g_test_options['track_size']\": 'xx'}))"
   ]
  },
  {
   "cell_type": "code",
   "execution_count": 6,
   "id": "759a94c3",
   "metadata": {},
   "outputs": [],
   "source": [
    "import os\n",
    "os.chdir('..')"
   ]
  },
  {
   "cell_type": "code",
   "execution_count": 7,
   "id": "12688c26",
   "metadata": {},
   "outputs": [],
   "source": [
    "from cyclone_metrics import get_cyclone_events\n",
    "import numpy as np\n",
    "#from cyclone_metrics import get_cyclone_events\n",
    "from plot_network_metrics.utils import get_times_lats_lots\n",
    "from cyclones_info.cyclones_info import get_cyclones_info, get_cyclones\n",
    "from tqdm import tqdm\n",
    "\n",
    "all_times, all_lats, all_lons = get_times_lats_lots(config)\n",
    "cyclones_frame = get_cyclones_info(config)\n",
    "cyclones_dict = get_cyclones(cyclones_frame, config.cyclone_metrics_options)\n",
    "\n",
    "track_size = config.g_test_options['track_size']\n"
   ]
  },
  {
   "cell_type": "code",
   "execution_count": 4,
   "id": "54148bbe",
   "metadata": {},
   "outputs": [],
   "source": [
    "import cyclones_info\n",
    "#from cyclones_info import get_cyclone_for_special_number, extension_df_for_cyclone, full_extended_df_for_cyclone, get_cyclone_area\n",
    "from datetime import datetime\n",
    "\n",
    "def get_cyclone_area(cur_lat, cur_lon, lats, lons, track_size=2):\n",
    "    indexes_lat = np.where(lats >= cur_lat)[0]  # lats sorted as >=\n",
    "    indexes_lon = np.where(lons <= cur_lon)[0]\n",
    "\n",
    "    message = ''\n",
    "\n",
    "    if len(indexes_lat) == 0:\n",
    "        ind_lat = 0\n",
    "    else:\n",
    "        ind_lat = indexes_lat[-1]\n",
    "\n",
    "    if len(indexes_lon) == 0:\n",
    "        ind_lon = 0\n",
    "    else:\n",
    "        ind_lon = indexes_lon[-1]\n",
    "\n",
    "    if ((ind_lat == 0) or (ind_lat == len(lats)-1)) and (np.abs(cur_lat - lats[ind_lat]) > 0.75):\n",
    "        message = 'Cyclone outside the grid'\n",
    "    if ((ind_lon == 0) or (ind_lon == len(lons)-1)) and (np.abs(cur_lon - lons[ind_lon]) > 0.75):\n",
    "        message = 'Cyclone outside the grid'\n",
    "\n",
    "    # область = 4 клеток (2 по широте и 2 по долготе)\n",
    "    window_half = (track_size - 2) // 2\n",
    "    start_ind_lat = max(0, ind_lat - window_half)\n",
    "    end_ind_lat = min(ind_lat + 2 + window_half, len(lats))\n",
    "    start_ind_lon = max(0, ind_lon - window_half)\n",
    "    end_ind_lon = min(ind_lon + 2 + window_half, len(lons))\n",
    "\n",
    "    return message, start_ind_lat, end_ind_lat, start_ind_lon, end_ind_lon\n",
    "\n",
    "def get_cyclone_events(cyclones_frame, cyclones_dict, times, lats, lons, track_size=2, need_shift=False, shift_lo=20 * 8, shift_hi=50 * 8):\n",
    "    shapes = (len(lats), len(lons), len(times))\n",
    "    cyclones_events = np.zeros(shapes, dtype='bool')\n",
    "    from tqdm import tqdm\n",
    "\n",
    "    for cyclone in tqdm(cyclones_dict):\n",
    "        curr_cyc_df = cyclones_info.get_cyclone_for_special_number(cyclones_frame, cyclone['number'])\n",
    "        # дополняем циклон точками каждые три часа (если в таблице нет данных за какое-то время,\n",
    "        # то берём lon lat как в предыдущей известной временной точке)\n",
    "        \n",
    "        curr_cyc_df = cyclones_info.extension_df_for_cyclone(curr_cyc_df)\n",
    "        \n",
    "        curr_cyc_df = cyclones_info.full_extended_df_for_cyclone(curr_cyc_df)\n",
    "        \n",
    "        if need_shift:\n",
    "            shift = np.random.randint(shift_lo, shift_hi)\n",
    "        else:\n",
    "            shift = 0\n",
    "        if not curr_cyc_df.empty:\n",
    "            for k in range(len(curr_cyc_df)):\n",
    "                d = datetime.strptime(curr_cyc_df['Date (DD/MM/YYYY)'][k] + ' ' + curr_cyc_df['Time (UTC)'][k],\n",
    "                                      '%d/%m/%Y %H%M')\n",
    "                ind_time = np.searchsorted(times, d.strftime('%Y.%m.%d %H:%M:%S'))\n",
    "                #ind_time = 0\n",
    "                ind_time = (ind_time + shift) % shapes[2]\n",
    "                message, start_ind_lat, end_ind_lat, \\\n",
    "                start_ind_lon, end_ind_lon = get_cyclone_area(float(curr_cyc_df['Latitude (lat.)'][k]),\n",
    "                                                              float(curr_cyc_df['Longitude (lon.)'][k]),\n",
    "                                                              lats, lons, track_size)\n",
    "                if message == '':\n",
    "                    cyclones_events[start_ind_lat:end_ind_lat, start_ind_lon:end_ind_lon, ind_time] = True\n",
    "\n",
    "    return cyclones_events"
   ]
  },
  {
   "cell_type": "code",
   "execution_count": 19,
   "id": "e30770eb",
   "metadata": {},
   "outputs": [
    {
     "name": "stderr",
     "output_type": "stream",
     "text": [
      "100%|██████████| 362/362 [00:31<00:00, 11.65it/s]\n"
     ]
    }
   ],
   "source": [
    "cyclones_events = get_cyclone_events(cyclones_frame, cyclones_dict, all_times, all_lats, all_lons, track_size, need_shift=True)\n"
   ]
  },
  {
   "cell_type": "code",
   "execution_count": 14,
   "id": "42b789e3",
   "metadata": {},
   "outputs": [
    {
     "data": {
      "text/plain": [
       "29218"
      ]
     },
     "execution_count": 14,
     "metadata": {},
     "output_type": "execute_result"
    }
   ],
   "source": [
    "np.searchsorted(all_times, '1992.01.01 04:00:00')"
   ]
  },
  {
   "cell_type": "markdown",
   "id": "2092bac2",
   "metadata": {},
   "source": [
    "# Check metric shapes"
   ]
  },
  {
   "cell_type": "code",
   "execution_count": 21,
   "id": "919549e6",
   "metadata": {},
   "outputs": [
    {
     "name": "stdout",
     "output_type": "stream",
     "text": [
      "(36, 69, 2920) D:\\PC\\UNN\\Science\\Climate\\data\\ERA5\\tmp\\probability_for_metrics\\diff_metrics\\network_metrics\\closeness_0.9.npy\n",
      "(36, 69, 2920) D:\\PC\\UNN\\Science\\Climate\\data\\ERA5\\tmp\\probability_for_metrics\\diff_metrics\\network_metrics\\closeness_0.95.npy\n",
      "(36, 69, 2920) D:\\PC\\UNN\\Science\\Climate\\data\\ERA5\\tmp\\probability_for_metrics\\diff_metrics\\network_metrics\\closeness_w.npy\n",
      "(36, 69, 2920) D:\\PC\\UNN\\Science\\Climate\\data\\ERA5\\tmp\\probability_for_metrics\\diff_metrics\\network_metrics\\degree_0.9.npy\n",
      "(36, 69, 2920) D:\\PC\\UNN\\Science\\Climate\\data\\ERA5\\tmp\\probability_for_metrics\\diff_metrics\\network_metrics\\degree_0.95.npy\n",
      "(36, 69, 2920) D:\\PC\\UNN\\Science\\Climate\\data\\ERA5\\tmp\\probability_for_metrics\\diff_metrics\\network_metrics\\degree_w.npy\n",
      "(36, 69, 2920) D:\\PC\\UNN\\Science\\Climate\\data\\ERA5\\tmp\\probability_for_metrics\\diff_metrics\\network_metrics\\EVC_0.9.npy\n",
      "(36, 69, 2920) D:\\PC\\UNN\\Science\\Climate\\data\\ERA5\\tmp\\probability_for_metrics\\diff_metrics\\network_metrics\\EVC_0.95.npy\n",
      "(36, 69, 2920) D:\\PC\\UNN\\Science\\Climate\\data\\ERA5\\tmp\\probability_for_metrics\\diff_metrics\\network_metrics\\EVC_w.npy\n",
      "(36, 69, 2920) D:\\PC\\UNN\\Science\\Climate\\data\\ERA5\\tmp\\probability_for_metrics\\diff_metrics\\network_metrics\\LCC_0.9.npy\n",
      "(36, 69, 2920) D:\\PC\\UNN\\Science\\Climate\\data\\ERA5\\tmp\\probability_for_metrics\\diff_metrics\\network_metrics\\LCC_0.95.npy\n",
      "(36, 69, 2920) D:\\PC\\UNN\\Science\\Climate\\data\\ERA5\\tmp\\probability_for_metrics\\diff_metrics\\network_metrics\\LCC_w.npy\n"
     ]
    }
   ],
   "source": [
    "tmp_dir = Path(r'D:\\PC\\UNN\\Science\\Climate\\data\\ERA5\\tmp\\probability_for_metrics\\diff_metrics\\network_metrics')\n",
    "import glob\n",
    "file_names = glob.glob(str(tmp_dir) + '\\*')\n",
    "for file_name in file_names:\n",
    "    data = np.load(file_name)\n",
    "    print(data.shape, file_name)"
   ]
  },
  {
   "cell_type": "code",
   "execution_count": 7,
   "id": "3e30009a",
   "metadata": {},
   "outputs": [
    {
     "data": {
      "text/plain": [
       "['D:\\\\PC\\\\UNN\\\\Science\\\\Climate\\\\data\\\\ERA5\\\\tmp\\\\network_metrics\\\\closeness_0.9.npy',\n",
       " 'D:\\\\PC\\\\UNN\\\\Science\\\\Climate\\\\data\\\\ERA5\\\\tmp\\\\network_metrics\\\\closeness_0.95.npy',\n",
       " 'D:\\\\PC\\\\UNN\\\\Science\\\\Climate\\\\data\\\\ERA5\\\\tmp\\\\network_metrics\\\\closeness_w.npy',\n",
       " 'D:\\\\PC\\\\UNN\\\\Science\\\\Climate\\\\data\\\\ERA5\\\\tmp\\\\network_metrics\\\\degree_0.9.npy',\n",
       " 'D:\\\\PC\\\\UNN\\\\Science\\\\Climate\\\\data\\\\ERA5\\\\tmp\\\\network_metrics\\\\degree_0.95.npy',\n",
       " 'D:\\\\PC\\\\UNN\\\\Science\\\\Climate\\\\data\\\\ERA5\\\\tmp\\\\network_metrics\\\\degree_w.npy',\n",
       " 'D:\\\\PC\\\\UNN\\\\Science\\\\Climate\\\\data\\\\ERA5\\\\tmp\\\\network_metrics\\\\EVC_0.9.npy',\n",
       " 'D:\\\\PC\\\\UNN\\\\Science\\\\Climate\\\\data\\\\ERA5\\\\tmp\\\\network_metrics\\\\EVC_0.95.npy',\n",
       " 'D:\\\\PC\\\\UNN\\\\Science\\\\Climate\\\\data\\\\ERA5\\\\tmp\\\\network_metrics\\\\EVC_w.npy',\n",
       " 'D:\\\\PC\\\\UNN\\\\Science\\\\Climate\\\\data\\\\ERA5\\\\tmp\\\\network_metrics\\\\GCC_0.9.npy',\n",
       " 'D:\\\\PC\\\\UNN\\\\Science\\\\Climate\\\\data\\\\ERA5\\\\tmp\\\\network_metrics\\\\GCC_0.95.npy',\n",
       " 'D:\\\\PC\\\\UNN\\\\Science\\\\Climate\\\\data\\\\ERA5\\\\tmp\\\\network_metrics\\\\GCC_w.npy',\n",
       " 'D:\\\\PC\\\\UNN\\\\Science\\\\Climate\\\\data\\\\ERA5\\\\tmp\\\\network_metrics\\\\LCC_0.9.npy',\n",
       " 'D:\\\\PC\\\\UNN\\\\Science\\\\Climate\\\\data\\\\ERA5\\\\tmp\\\\network_metrics\\\\LCC_0.95.npy',\n",
       " 'D:\\\\PC\\\\UNN\\\\Science\\\\Climate\\\\data\\\\ERA5\\\\tmp\\\\network_metrics\\\\LCC_w.npy']"
      ]
     },
     "execution_count": 7,
     "metadata": {},
     "output_type": "execute_result"
    }
   ],
   "source": [
    "file_names"
   ]
  },
  {
   "cell_type": "markdown",
   "id": "84b9d212",
   "metadata": {},
   "source": [
    "# Cut 2018 year only from cyclone_events.npz"
   ]
  },
  {
   "cell_type": "code",
   "execution_count": 26,
   "id": "d632cf4c",
   "metadata": {},
   "outputs": [
    {
     "data": {
      "text/plain": [
       "['cyclone_events_2',\n",
       " 'cyclone_events_4',\n",
       " 'cyclone_events_6',\n",
       " 'cyclone_events_8',\n",
       " 'cyclone_events_10',\n",
       " 'cyclone_events_12']"
      ]
     },
     "execution_count": 26,
     "metadata": {},
     "output_type": "execute_result"
    }
   ],
   "source": [
    "tmp_dir = Path(r'D:\\PC\\UNN\\Science\\Climate\\data\\ERA5\\tmp')\n",
    "cyclones_events = np.load(tmp_dir / 'cyclones_events.npz')\n",
    "list(cyclones_events.keys())"
   ]
  },
  {
   "cell_type": "code",
   "execution_count": 30,
   "id": "bf38133f",
   "metadata": {},
   "outputs": [],
   "source": [
    "times = pd.read_csv(tmp_dir / 'times.txt', header=None)\n",
    "times_full = pd.read_csv(tmp_dir / 'times_full.txt', header=None)"
   ]
  },
  {
   "cell_type": "code",
   "execution_count": 46,
   "id": "d6d6d35f",
   "metadata": {},
   "outputs": [],
   "source": [
    "pos = times_full[0].tolist().index(times[0].tolist()[0])\n",
    "start = pos\n",
    "finish = pos + len(times)"
   ]
  },
  {
   "cell_type": "code",
   "execution_count": 48,
   "id": "7ef595a3",
   "metadata": {},
   "outputs": [],
   "source": [
    "cyclones_events_small = {}\n",
    "for name in cyclones_events:\n",
    "    cur = cyclones_events[name]\n",
    "    cur = cur[:, :, start:finish]\n",
    "    cyclones_events_small[name] = cur"
   ]
  },
  {
   "cell_type": "code",
   "execution_count": 49,
   "id": "d860e903",
   "metadata": {},
   "outputs": [],
   "source": [
    "np.savez_compressed(tmp_dir / 'cyclones_events_small.npz', **cyclones_events_small)"
   ]
  },
  {
   "cell_type": "code",
   "execution_count": 7,
   "id": "c1255b87",
   "metadata": {},
   "outputs": [],
   "source": [
    "from plot_network_metrics.utils import get_times_lats_lots\n",
    "from cyclones_info.cyclones_info import get_cyclones_info, get_cyclones\n",
    "\n",
    "all_times, all_lats, all_lons = get_times_lats_lots(config)\n",
    "#cyclones_frame = get_cyclones_info(config)\n",
    "#cyclones_dict = get_cyclones(cyclones_frame, config.cyclone_metrics_options)"
   ]
  },
  {
   "cell_type": "code",
   "execution_count": 16,
   "id": "1a7b24e3",
   "metadata": {},
   "outputs": [
    {
     "data": {
      "text/plain": [
       "38064"
      ]
     },
     "execution_count": 16,
     "metadata": {},
     "output_type": "execute_result"
    }
   ],
   "source": [
    "from plot_network_metrics.utils import get_sond_times\n",
    "len(get_sond_times(config, all_times))\n"
   ]
  },
  {
   "cell_type": "code",
   "execution_count": 14,
   "id": "47eb5b00",
   "metadata": {},
   "outputs": [
    {
     "data": {
      "text/plain": [
       "'01'"
      ]
     },
     "execution_count": 14,
     "metadata": {},
     "output_type": "execute_result"
    }
   ],
   "source": [
    "all_times[0][5:7]"
   ]
  },
  {
   "cell_type": "code",
   "execution_count": 18,
   "id": "56c4f663",
   "metadata": {},
   "outputs": [
    {
     "data": {
      "text/plain": [
       "1319"
      ]
     },
     "execution_count": 18,
     "metadata": {},
     "output_type": "execute_result"
    }
   ],
   "source": [
    "available_mask.sum()"
   ]
  },
  {
   "cell_type": "code",
   "execution_count": 21,
   "id": "e00f92d4",
   "metadata": {},
   "outputs": [
    {
     "data": {
      "image/png": "[encoded data removed]",
      "text/plain": [
       "<Figure size 1800x1500 with 1 Axes>"
      ]
     },
     "metadata": {},
     "output_type": "display_data"
    }
   ],
   "source": [
    "res = sns.kdeplot(np.random.rand(1000));"
   ]
  },
  {
   "cell_type": "code",
   "execution_count": 5,
   "id": "91640fe3",
   "metadata": {},
   "outputs": [],
   "source": [
    "config.cyclones_info['cyclones_file_name'] = '../' + config.cyclones_info['cyclones_file_name']"
   ]
  },
  {
   "cell_type": "code",
   "execution_count": 14,
   "id": "9bc82b42",
   "metadata": {},
   "outputs": [],
   "source": [
    "from cyclones_info.cyclones_info import filter_cyclones_by_time\n",
    "from plot_network_metrics.utils import get_times_lats_lots\n",
    "from cyclones_info.cyclones_info import get_cyclones_info, get_cyclones\n",
    "from plot_network_metrics.utils import get_sond_times\n",
    "all_times, all_lats, all_lons = get_times_lats_lots(config)\n",
    "cyclones_frame = get_cyclones_info(config)\n",
    "cyclones_dict = get_cyclones(cyclones_frame, config.cyclone_metrics_options)\n",
    "\n",
    "sond_time_inds = get_sond_times(config, all_times)\n",
    "sond_times = all_times[sond_time_inds]\n",
    "cyclones_dict_sond = filter_cyclones_by_time(cyclones_dict, sond_times)"
   ]
  },
  {
   "cell_type": "code",
   "execution_count": 15,
   "id": "82e655d5",
   "metadata": {},
   "outputs": [
    {
     "data": {
      "text/plain": [
       "38064"
      ]
     },
     "execution_count": 15,
     "metadata": {},
     "output_type": "execute_result"
    }
   ],
   "source": [
    "len(sond_time_inds)"
   ]
  },
  {
   "cell_type": "code",
   "execution_count": 17,
   "id": "16d388a2",
   "metadata": {},
   "outputs": [
    {
     "data": {
      "text/plain": [
       "197"
      ]
     },
     "execution_count": 17,
     "metadata": {},
     "output_type": "execute_result"
    }
   ],
   "source": [
    "len(cyclones_dict_sond)"
   ]
  },
  {
   "cell_type": "code",
   "execution_count": 20,
   "id": "45e81de1",
   "metadata": {},
   "outputs": [
    {
     "data": {
      "text/plain": [
       "{'start': '1982.09.09 03:00:00',\n",
       " 'end': '1982.09.10 12:00:00',\n",
       " 'number': '11_1982',\n",
       " 'name': ''}"
      ]
     },
     "execution_count": 20,
     "metadata": {},
     "output_type": "execute_result"
    }
   ],
   "source": [
    "cyclones_dict_sond[0]"
   ]
  }
 ],
 "metadata": {
  "kernelspec": {
   "display_name": "Python 3.9.7 ('py39')",
   "language": "python",
   "name": "python3"
  },
  "language_info": {
   "codemirror_mode": {
    "name": "ipython",
    "version": 3
   },
   "file_extension": ".py",
   "mimetype": "text/x-python",
   "name": "python",
   "nbconvert_exporter": "python",
   "pygments_lexer": "ipython3",
   "version": "3.9.7"
  },
  "vscode": {
   "interpreter": {
    "hash": "8571e7f3e92f6e490cddd84ef78d4e4e0b96a1f565959148b10a39523fba88f5"
   }
  }
 },
 "nbformat": 4,
 "nbformat_minor": 5
}
