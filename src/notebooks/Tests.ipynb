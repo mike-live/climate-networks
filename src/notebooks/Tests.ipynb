{
 "cells": [
  {
   "cell_type": "code",
   "execution_count": 1,
   "id": "narrow-graham",
   "metadata": {},
   "outputs": [
    {
     "name": "stdout",
     "output_type": "stream",
     "text": [
      "Using matplotlib backend: Qt5Agg\n"
     ]
    }
   ],
   "source": [
    "%load_ext autoreload\n",
    "%autoreload 2\n",
    "import numpy as np\n",
    "import re\n",
    "import time\n",
    "%matplotlib\n",
    "import matplotlib\n",
    "import matplotlib.pyplot as plt\n",
    "import matplotlib.mlab as mlab\n",
    "import textwrap\n",
    "import scipy.stats as stats\n",
    "\n",
    "from scipy import stats\n",
    "import scipy\n",
    "from functools import partial\n",
    "\n",
    "import matplotlib.pylab as pylab\n",
    "import seaborn as sns\n",
    "sns.set_style('whitegrid', {'legend.frameon':True})\n",
    "sns.set_palette(sns.color_palette(\"Set1\", 12))\n",
    "#sns.set_context(\"paper\")\n",
    "fontsize = 12\n",
    "params = {'legend.fontsize': fontsize,\n",
    "  'figure.figsize': (18, 15),\n",
    "  'axes.labelsize': fontsize,\n",
    "  'axes.titlesize':fontsize,\n",
    "  'axes.edgecolor':\"0.3\",\n",
    "  'xtick.labelsize':fontsize,\n",
    "  'ytick.labelsize':fontsize,\n",
    "  'legend.fontsize':10,\n",
    "  'font.size':fontsize,\n",
    "  'font.family':'serif'}\n",
    "pylab.rcParams.update(params)\n",
    "plt.rc('axes', labelsize=fontsize) \n",
    "\n",
    "#plt.style.use('ggplot')\n",
    "%matplotlib inline\n",
    "\n",
    "from tqdm.notebook import tqdm\n",
    "import pandas as pd\n",
    "from pathlib2 import Path\n",
    "import os"
   ]
  },
  {
   "cell_type": "code",
   "execution_count": 2,
   "id": "future-hamburg",
   "metadata": {},
   "outputs": [],
   "source": [
    "import sys\n",
    "sys.path.append('../')\n",
    "\n",
    "from metric_store import save_metrics, save_metric, load_metrics, get_metric_names, load_metric\n",
    "from network_metrics import prepare_metric\n",
    "from pipeline.pipeline import load_config"
   ]
  },
  {
   "cell_type": "code",
   "execution_count": 3,
   "id": "medieval-strike",
   "metadata": {},
   "outputs": [],
   "source": [
    "config_name = \"pipeline.config\"\n",
    "config = load_config(config_name)"
   ]
  },
  {
   "cell_type": "code",
   "execution_count": 4,
   "id": "everyday-worst",
   "metadata": {},
   "outputs": [],
   "source": [
    "from corr_network import load_data, get_available_mask\n",
    "data = load_data(config)\n",
    "available_mask = get_available_mask(data)"
   ]
  },
  {
   "cell_type": "code",
   "execution_count": null,
   "id": "1f47ca9b",
   "metadata": {},
   "outputs": [],
   "source": []
  },
  {
   "cell_type": "code",
   "execution_count": 45,
   "id": "sized-diana",
   "metadata": {},
   "outputs": [
    {
     "name": "stdout",
     "output_type": "stream",
     "text": [
      "input_data/MSLP (113960, 36, 69) 2D\n"
     ]
    }
   ],
   "source": [
    "metric_names = ['input_data/MSLP']\n",
    "for metric_name in metric_names:\n",
    "    config.metrics_plot_options['metric_name'] = metric_name\n",
    "    metric = load_metric(config, metric_name)\n",
    "    #metric = prepare_metric(metric_name, metric, available_mask)\n",
    "    print(metric_name, metric.shape, config.metric_dimension[metric_name])    "
   ]
  },
  {
   "cell_type": "code",
   "execution_count": 6,
   "id": "prime-canadian",
   "metadata": {},
   "outputs": [
    {
     "data": {
      "text/plain": [
       "['network_metrics/LCC',\n",
       " 'network_metrics/GCC',\n",
       " 'network_metrics/LCC_w',\n",
       " 'network_metrics/GCC_w',\n",
       " 'network_metrics/degree',\n",
       " 'network_metrics/degree_w',\n",
       " 'network_metrics/EVC',\n",
       " 'network_metrics/EVC_w',\n",
       " 'network_metrics/closeness',\n",
       " 'network_metrics/closeness_w',\n",
       " 'network_metrics/LCC_0.9',\n",
       " 'network_metrics/GCC_0.9',\n",
       " 'network_metrics/degree_0.9',\n",
       " 'network_metrics/EVC_0.9',\n",
       " 'network_metrics/closeness_0.9']"
      ]
     },
     "execution_count": 6,
     "metadata": {},
     "output_type": "execute_result"
    }
   ],
   "source": [
    "prefix = 'network_metrics'\n",
    "metric_names = list(get_metric_names(config, prefix = prefix).keys())\n",
    "metric_names"
   ]
  },
  {
   "cell_type": "markdown",
   "id": "f79fe1e1",
   "metadata": {},
   "source": [
    "# Cyclone events"
   ]
  },
  {
   "cell_type": "code",
   "execution_count": 40,
   "id": "funny-division",
   "metadata": {},
   "outputs": [],
   "source": [
    "data = np.load('../cyclones_events.npz')\n",
    "list(data.keys())\n",
    "cyclone_events = data['cyclone_events_4']"
   ]
  },
  {
   "cell_type": "code",
   "execution_count": 41,
   "id": "faee6220",
   "metadata": {},
   "outputs": [],
   "source": [
    "cyclone_events = data['cyclone_events_2']"
   ]
  },
  {
   "cell_type": "code",
   "execution_count": 42,
   "id": "49eae77a",
   "metadata": {},
   "outputs": [],
   "source": [
    "cyclone_events = data['cyclone_events_6']"
   ]
  },
  {
   "cell_type": "code",
   "execution_count": 8,
   "id": "8bf6f535",
   "metadata": {},
   "outputs": [
    {
     "data": {
      "text/plain": [
       "(36, 69, 113960)"
      ]
     },
     "execution_count": 8,
     "metadata": {},
     "output_type": "execute_result"
    }
   ],
   "source": [
    "cyclone_events.shape"
   ]
  },
  {
   "cell_type": "code",
   "execution_count": 20,
   "id": "34571427",
   "metadata": {},
   "outputs": [
    {
     "name": "stdout",
     "output_type": "stream",
     "text": [
      "961\n"
     ]
    }
   ],
   "source": [
    "for i in range(100000):\n",
    "    if np.sum(cyclone_events[:, :, i]) > 0:\n",
    "        print(i)\n",
    "        break"
   ]
  },
  {
   "cell_type": "code",
   "execution_count": 39,
   "id": "22fe9691",
   "metadata": {},
   "outputs": [
    {
     "data": {
      "image/png": "[encoded data removed]",
      "text/plain": [
       "<Figure size 720x720 with 1 Axes>"
      ]
     },
     "metadata": {
      "needs_background": "light"
     },
     "output_type": "display_data"
    }
   ],
   "source": [
    "plt.figure(figsize=(10, 10))\n",
    "plt.imshow(cyclone_events[:, :, 974])\n",
    "plt.grid(0)"
   ]
  },
  {
   "cell_type": "code",
   "execution_count": 37,
   "id": "a03de9c4",
   "metadata": {},
   "outputs": [
    {
     "name": "stdout",
     "output_type": "stream",
     "text": [
      "1\n",
      "2\n",
      "3\n"
     ]
    },
    {
     "data": {
      "text/plain": [
       "3"
      ]
     },
     "execution_count": 37,
     "metadata": {},
     "output_type": "execute_result"
    }
   ],
   "source": [
    "d = {'a': 1}\n",
    "\n",
    "for d['a'] in [1, 2, 3]:\n",
    "    print(d['a'])\n",
    "d['a']    "
   ]
  },
  {
   "cell_type": "code",
   "execution_count": 46,
   "id": "f0d120cb",
   "metadata": {},
   "outputs": [],
   "source": [
    "from pathlib2 import Path"
   ]
  },
  {
   "cell_type": "code",
   "execution_count": 57,
   "id": "f1b926f3",
   "metadata": {},
   "outputs": [
    {
     "ename": "KeyError",
     "evalue": "'config'",
     "output_type": "error",
     "traceback": [
      "\u001b[1;31m---------------------------------------------------------------------------\u001b[0m",
      "\u001b[1;31mKeyError\u001b[0m                                  Traceback (most recent call last)",
      "\u001b[1;32mC:\\Users\\MIKE_L~1\\AppData\\Local\\Temp/ipykernel_9376/1371846770.py\u001b[0m in \u001b[0;36m<module>\u001b[1;34m\u001b[0m\n\u001b[0;32m      1\u001b[0m \u001b[0mp\u001b[0m \u001b[1;33m=\u001b[0m \u001b[0mPath\u001b[0m\u001b[1;33m(\u001b[0m\u001b[1;34m\"a{config.g_test_options['track_size']}\"\u001b[0m\u001b[1;33m)\u001b[0m \u001b[1;33m/\u001b[0m \u001b[1;34m'b'\u001b[0m\u001b[1;33m\u001b[0m\u001b[1;33m\u001b[0m\u001b[0m\n\u001b[0;32m      2\u001b[0m \u001b[0mstr\u001b[0m\u001b[1;33m(\u001b[0m\u001b[0mp\u001b[0m\u001b[1;33m)\u001b[0m\u001b[1;33m\u001b[0m\u001b[1;33m\u001b[0m\u001b[0m\n\u001b[1;32m----> 3\u001b[1;33m \u001b[0mPath\u001b[0m\u001b[1;33m(\u001b[0m\u001b[0mstr\u001b[0m\u001b[1;33m(\u001b[0m\u001b[0mp\u001b[0m\u001b[1;33m)\u001b[0m\u001b[1;33m.\u001b[0m\u001b[0mformat\u001b[0m\u001b[1;33m(\u001b[0m\u001b[1;33m**\u001b[0m\u001b[1;33m{\u001b[0m\u001b[1;34m\"config.g_test_options['track_size']\"\u001b[0m\u001b[1;33m:\u001b[0m \u001b[1;34m'xx'\u001b[0m\u001b[1;33m}\u001b[0m\u001b[1;33m)\u001b[0m\u001b[1;33m)\u001b[0m\u001b[1;33m\u001b[0m\u001b[1;33m\u001b[0m\u001b[0m\n\u001b[0m",
      "\u001b[1;31mKeyError\u001b[0m: 'config'"
     ]
    }
   ],
   "source": [
    "p = Path(\"a{config.g_test_options['track_size']}\") / 'b'\n",
    "str(p)\n",
    "Path(str(p).format(**{\"config.g_test_options['track_size']\": 'xx'}))"
   ]
  },
  {
   "cell_type": "code",
   "execution_count": 59,
   "id": "aea850db",
   "metadata": {},
   "outputs": [
    {
     "ename": "ValueError",
     "evalue": "not enough values to unpack (expected 2, got 0)",
     "output_type": "error",
     "traceback": [
      "\u001b[1;31m---------------------------------------------------------------------------\u001b[0m",
      "\u001b[1;31mValueError\u001b[0m                                Traceback (most recent call last)",
      "\u001b[1;32mC:\\Users\\MIKE_L~1\\AppData\\Local\\Temp/ipykernel_9376/3318133231.py\u001b[0m in \u001b[0;36m<module>\u001b[1;34m\u001b[0m\n\u001b[1;32m----> 1\u001b[1;33m \u001b[0mx\u001b[0m\u001b[1;33m,\u001b[0m \u001b[0my\u001b[0m \u001b[1;33m=\u001b[0m \u001b[0mpd\u001b[0m\u001b[1;33m.\u001b[0m\u001b[0mDataFrame\u001b[0m\u001b[1;33m(\u001b[0m\u001b[1;33m)\u001b[0m\u001b[1;33m\u001b[0m\u001b[1;33m\u001b[0m\u001b[0m\n\u001b[0m",
      "\u001b[1;31mValueError\u001b[0m: not enough values to unpack (expected 2, got 0)"
     ]
    }
   ],
   "source": [
    "x, y = pd.DataFrame()"
   ]
  },
  {
   "cell_type": "code",
   "execution_count": 6,
   "id": "759a94c3",
   "metadata": {},
   "outputs": [],
   "source": [
    "import os\n",
    "os.chdir('..')"
   ]
  },
  {
   "cell_type": "code",
   "execution_count": 7,
   "id": "12688c26",
   "metadata": {},
   "outputs": [],
   "source": [
    "from cyclone_metrics import get_cyclone_events\n",
    "import numpy as np\n",
    "#from cyclone_metrics import get_cyclone_events\n",
    "from plot_network_metrics.utils import get_times_lats_lots\n",
    "from cyclones_info.cyclones_info import get_cyclones_info, get_cyclones\n",
    "from tqdm import tqdm\n",
    "\n",
    "all_times, all_lats, all_lons = get_times_lats_lots(config)\n",
    "cyclones_frame = get_cyclones_info(config)\n",
    "cyclones_dict = get_cyclones(cyclones_frame, config.cyclone_metrics_options)\n",
    "\n",
    "track_size = config.g_test_options['track_size']\n"
   ]
  },
  {
   "cell_type": "code",
   "execution_count": 4,
   "id": "54148bbe",
   "metadata": {},
   "outputs": [],
   "source": [
    "import cyclones_info\n",
    "#from cyclones_info import get_cyclone_for_special_number, extension_df_for_cyclone, full_extended_df_for_cyclone, get_cyclone_area\n",
    "from datetime import datetime\n",
    "\n",
    "def get_cyclone_area(cur_lat, cur_lon, lats, lons, track_size=2):\n",
    "    indexes_lat = np.where(lats >= cur_lat)[0]  # lats sorted as >=\n",
    "    indexes_lon = np.where(lons <= cur_lon)[0]\n",
    "\n",
    "    message = ''\n",
    "\n",
    "    if len(indexes_lat) == 0:\n",
    "        ind_lat = 0\n",
    "    else:\n",
    "        ind_lat = indexes_lat[-1]\n",
    "\n",
    "    if len(indexes_lon) == 0:\n",
    "        ind_lon = 0\n",
    "    else:\n",
    "        ind_lon = indexes_lon[-1]\n",
    "\n",
    "    if ((ind_lat == 0) or (ind_lat == len(lats)-1)) and (np.abs(cur_lat - lats[ind_lat]) > 0.75):\n",
    "        message = 'Cyclone outside the grid'\n",
    "    if ((ind_lon == 0) or (ind_lon == len(lons)-1)) and (np.abs(cur_lon - lons[ind_lon]) > 0.75):\n",
    "        message = 'Cyclone outside the grid'\n",
    "\n",
    "    # область = 4 клеток (2 по широте и 2 по долготе)\n",
    "    window_half = (track_size - 2) // 2\n",
    "    start_ind_lat = max(0, ind_lat - window_half)\n",
    "    end_ind_lat = min(ind_lat + 2 + window_half, len(lats))\n",
    "    start_ind_lon = max(0, ind_lon - window_half)\n",
    "    end_ind_lon = min(ind_lon + 2 + window_half, len(lons))\n",
    "\n",
    "    return message, start_ind_lat, end_ind_lat, start_ind_lon, end_ind_lon\n",
    "\n",
    "def get_cyclone_events(cyclones_frame, cyclones_dict, times, lats, lons, track_size=2, need_shift=False, shift_lo=20 * 8, shift_hi=50 * 8):\n",
    "    shapes = (len(lats), len(lons), len(times))\n",
    "    cyclones_events = np.zeros(shapes, dtype='bool')\n",
    "    from tqdm import tqdm\n",
    "\n",
    "    for cyclone in tqdm(cyclones_dict):\n",
    "        curr_cyc_df = cyclones_info.get_cyclone_for_special_number(cyclones_frame, cyclone['number'])\n",
    "        # дополняем циклон точками каждые три часа (если в таблице нет данных за какое-то время,\n",
    "        # то берём lon lat как в предыдущей известной временной точке)\n",
    "        \n",
    "        curr_cyc_df = cyclones_info.extension_df_for_cyclone(curr_cyc_df)\n",
    "        \n",
    "        curr_cyc_df = cyclones_info.full_extended_df_for_cyclone(curr_cyc_df)\n",
    "        \n",
    "        if need_shift:\n",
    "            shift = np.random.randint(shift_lo, shift_hi)\n",
    "        else:\n",
    "            shift = 0\n",
    "        if not curr_cyc_df.empty:\n",
    "            for k in range(len(curr_cyc_df)):\n",
    "                d = datetime.strptime(curr_cyc_df['Date (DD/MM/YYYY)'][k] + ' ' + curr_cyc_df['Time (UTC)'][k],\n",
    "                                      '%d/%m/%Y %H%M')\n",
    "                ind_time = np.searchsorted(times, d.strftime('%Y.%m.%d %H:%M:%S'))\n",
    "                #ind_time = 0\n",
    "                ind_time = (ind_time + shift) % shapes[2]\n",
    "                message, start_ind_lat, end_ind_lat, \\\n",
    "                start_ind_lon, end_ind_lon = get_cyclone_area(float(curr_cyc_df['Latitude (lat.)'][k]),\n",
    "                                                              float(curr_cyc_df['Longitude (lon.)'][k]),\n",
    "                                                              lats, lons, track_size)\n",
    "                if message == '':\n",
    "                    cyclones_events[start_ind_lat:end_ind_lat, start_ind_lon:end_ind_lon, ind_time] = True\n",
    "\n",
    "    return cyclones_events"
   ]
  },
  {
   "cell_type": "code",
   "execution_count": 19,
   "id": "e30770eb",
   "metadata": {},
   "outputs": [
    {
     "name": "stderr",
     "output_type": "stream",
     "text": [
      "100%|██████████| 362/362 [00:31<00:00, 11.65it/s]\n"
     ]
    }
   ],
   "source": [
    "cyclones_events = get_cyclone_events(cyclones_frame, cyclones_dict, all_times, all_lats, all_lons, track_size, need_shift=True)\n"
   ]
  },
  {
   "cell_type": "code",
   "execution_count": 14,
   "id": "42b789e3",
   "metadata": {},
   "outputs": [
    {
     "data": {
      "text/plain": [
       "29218"
      ]
     },
     "execution_count": 14,
     "metadata": {},
     "output_type": "execute_result"
    }
   ],
   "source": [
    "np.searchsorted(all_times, '1992.01.01 04:00:00')"
   ]
  },
  {
   "cell_type": "code",
   "execution_count": 27,
   "id": "c8d325c2",
   "metadata": {},
   "outputs": [],
   "source": [
    "\n"
   ]
  },
  {
   "cell_type": "code",
   "execution_count": 182,
   "id": "d99cf24a",
   "metadata": {},
   "outputs": [
    {
     "ename": "ModuleNotFoundError",
     "evalue": "No module named 'pyfftw'",
     "output_type": "error",
     "traceback": [
      "\u001b[1;31m---------------------------------------------------------------------------\u001b[0m",
      "\u001b[1;31mModuleNotFoundError\u001b[0m                       Traceback (most recent call last)",
      "\u001b[1;32mC:\\Users\\MIKE_L~1\\AppData\\Local\\Temp/ipykernel_15672/4008681208.py\u001b[0m in \u001b[0;36m<module>\u001b[1;34m\u001b[0m\n\u001b[1;32m----> 1\u001b[1;33m \u001b[1;32mfrom\u001b[0m \u001b[0mpyfftw\u001b[0m \u001b[1;32mimport\u001b[0m \u001b[0mfft\u001b[0m\u001b[1;33m,\u001b[0m \u001b[0mifft\u001b[0m\u001b[1;33m\u001b[0m\u001b[1;33m\u001b[0m\u001b[0m\n\u001b[0m",
      "\u001b[1;31mModuleNotFoundError\u001b[0m: No module named 'pyfftw'"
     ]
    }
   ],
   "source": []
  },
  {
   "cell_type": "code",
   "execution_count": 23,
   "id": "6fb29c24",
   "metadata": {},
   "outputs": [
    {
     "data": {
      "text/plain": [
       "1"
      ]
     },
     "execution_count": 23,
     "metadata": {},
     "output_type": "execute_result"
    }
   ],
   "source": [
    "n = 100000\n",
    "x = np.random.randint(2, size=n)\n",
    "x.max()"
   ]
  },
  {
   "cell_type": "code",
   "execution_count": 29,
   "id": "08a30b90",
   "metadata": {},
   "outputs": [
    {
     "name": "stdout",
     "output_type": "stream",
     "text": [
      "17.318000555038452\n"
     ]
    }
   ],
   "source": [
    "be = time()\n",
    "xf = fft(cyclones_events, axis=2)\n",
    "xn = ifft(xf)\n",
    "en = time()\n",
    "print(en - be)"
   ]
  },
  {
   "cell_type": "code",
   "execution_count": 5,
   "id": "c56d7898",
   "metadata": {},
   "outputs": [],
   "source": [
    "\n",
    "def get_sign_for_metric(config, metric_name):\n",
    "    if metric_name in config.g_test_options['less']:\n",
    "        sign = '<'\n",
    "    elif metric_name in config.g_test_options['greater']:\n",
    "        sign = '>'\n",
    "    else:\n",
    "        print(\"There is no boxplot for probability of \", metric_name)\n",
    "        sign = -1\n",
    "    return sign\n",
    "\n",
    "\n",
    "def get_metric_indicators(config, metric_name, metric_prob, thr):\n",
    "    import warnings\n",
    "    sign = get_sign_for_metric(config, metric_name)\n",
    "    if sign == -1:\n",
    "        return np.array([])\n",
    "    else:\n",
    "        predicted_events = np.zeros(metric_prob.shape, dtype='bool')\n",
    "        with warnings.catch_warnings():\n",
    "            warnings.simplefilter(\"ignore\", category=RuntimeWarning)\n",
    "            if sign == '<':\n",
    "                predicted_events = metric_prob < thr\n",
    "            elif sign == '>':\n",
    "                predicted_events = metric_prob > thr\n",
    "        return predicted_events"
   ]
  },
  {
   "cell_type": "code",
   "execution_count": 55,
   "id": "e3cc4b20",
   "metadata": {},
   "outputs": [],
   "source": [
    "import pyfftw\n",
    "def fft(x):\n",
    "    a = pyfftw.empty_aligned(len(x), dtype='complex128', n=16)\n",
    "    a[:] = x\n",
    "    b = pyfftw.interfaces.numpy_fft.fft(a)\n",
    "    return b\n",
    "def ifft(x):\n",
    "    a = pyfftw.empty_aligned(len(x), dtype='complex128', n=16)\n",
    "    a[:] = x\n",
    "    b = pyfftw.interfaces.numpy_fft.ifft(a)\n",
    "    return b"
   ]
  },
  {
   "cell_type": "code",
   "execution_count": 61,
   "id": "3d337b83",
   "metadata": {},
   "outputs": [],
   "source": [
    "from numpy.fft import fft, ifft"
   ]
  },
  {
   "cell_type": "code",
   "execution_count": 59,
   "id": "4a69140b",
   "metadata": {},
   "outputs": [
    {
     "data": {
      "text/plain": [
       "'1.20.3'"
      ]
     },
     "execution_count": 59,
     "metadata": {},
     "output_type": "execute_result"
    }
   ],
   "source": [
    "np.__version__"
   ]
  },
  {
   "cell_type": "code",
   "execution_count": 52,
   "id": "e555fde4",
   "metadata": {},
   "outputs": [],
   "source": [
    "from scipy.fft import fft, ifft"
   ]
  },
  {
   "cell_type": "code",
   "execution_count": 62,
   "id": "1894c9f8",
   "metadata": {},
   "outputs": [],
   "source": [
    "def solve(x, y):\n",
    "    n = len(x)\n",
    "    x = x[::-1]\n",
    "    x = np.concatenate([x, np.zeros_like(x)])\n",
    "    y = np.concatenate([y, y])\n",
    "    xf = fft(x)\n",
    "    yf = fft(y)\n",
    "    zf = xf * yf\n",
    "    z = ifft(zf)\n",
    "    return np.rint(z.real).astype(np.int32)[n-1:-1]\n",
    "\n",
    "def solve1(x, y):\n",
    "    n = len(x)\n",
    "    x = x[::-1]\n",
    "    x = np.concatenate([x, np.zeros_like(x)])\n",
    "    y = np.concatenate([y, y])\n",
    "    q = x + 1j * y\n",
    "    qf = fft(q)\n",
    "    qfr = np.conjugate(np.roll(qf[::-1], 1))\n",
    "    xf = (qf + qfr) * 0.5\n",
    "    yf = (qf - qfr) * -0.5j\n",
    "    zf = xf * yf\n",
    "    z = ifft(zf)\n",
    "    return np.rint(z.real).astype(np.int32)[n-1:-1]\n",
    "\n",
    "from scipy.signal import fftconvolve\n",
    "def solve2(x, y):\n",
    "    n = len(x)\n",
    "    x = x[::-1]\n",
    "    y = np.concatenate([y, y])\n",
    "    z = fftconvolve(x, y, 'same')\n",
    "    return np.rint(z.real).astype(np.int32)\n",
    "\n",
    "def solve3(x, y):\n",
    "    n = len(x)\n",
    "    x = x[::-1]\n",
    "    x = np.concatenate([x, np.zeros_like(x)])\n",
    "    y = np.concatenate([y, y])\n",
    "    z = fftconvolve(x, y, 'same')[:n]\n",
    "    return np.rint(z.real).astype(np.int32)\n",
    "\n",
    "\n",
    "def solve0(x, y, m = 100):\n",
    "    res = np.zeros(m, dtype=np.int32)\n",
    "    for i in range(m):\n",
    "        res[i] = np.sum(x & y)\n",
    "        y = np.roll(y, -1)\n",
    "        \n",
    "    return res"
   ]
  },
  {
   "cell_type": "code",
   "execution_count": 63,
   "id": "48d1e727",
   "metadata": {},
   "outputs": [
    {
     "data": {
      "application/vnd.jupyter.widget-view+json": {
       "model_id": "1dd72e68f23c4bb7a5edda9b0ca0fbb4",
       "version_major": 2,
       "version_minor": 0
      },
      "text/plain": [
       "  0%|          | 0/36 [00:00<?, ?it/s]"
      ]
     },
     "metadata": {},
     "output_type": "display_data"
    },
    {
     "name": "stdout",
     "output_type": "stream",
     "text": [
      "79.5954487323761\n"
     ]
    }
   ],
   "source": [
    "from time import time\n",
    "from metric_store import get_metric_names, load_metric, save_metric\n",
    "metric_name = 'probability_for_metrics/network_metrics/LCC_w'\n",
    "main_metric_name = metric_name[metric_name.find(\"/\") + 1:]\n",
    "metric_prob = load_metric(config, metric_name)\n",
    "predicted_events = get_metric_indicators(config, main_metric_name, metric_prob, thr=0.05)    \n",
    "data = np.load('../cyclones_events.npz')\n",
    "list(data.keys())\n",
    "cyclones_events = data['cyclone_events_4']\n",
    "\n",
    "w_start = 40\n",
    "be = time()\n",
    "pbar = tqdm(range(cyclones_events.shape[0]))\n",
    "A = B = C = D = None\n",
    "for i in pbar:\n",
    "    for j in range(cyclones_events.shape[1]):\n",
    "        if np.any(np.isnan(metric_prob[i, j, w_start:])):\n",
    "            continue\n",
    "        x, y = cyclones_events[i, j, w_start:].flatten(), predicted_events[i, j, w_start:].flatten()\n",
    "        #m=1000\n",
    "        #x = np.random.randint(2, size=m)\n",
    "        #y = np.random.randint(2, size=m)\n",
    "        \n",
    "        res = solve(x, y)\n",
    "        #res1 = solve0(x.copy(), y.copy(), m)\n",
    "        #res1 = solve1(x, y)\n",
    "        #res2 = solve2(x, y)\n",
    "        #assert(np.all(d == d1))        \n",
    "\n",
    "        #res2 = solve2(x, y)\n",
    "        '''\n",
    "        if not np.all(res2 == res1):\n",
    "            print(res1.shape, res2.shape)\n",
    "            print(res1[:1000], res2[:1000])\n",
    "            sdf\n",
    "        '''\n",
    "        \n",
    "        '''x = x[:m]\n",
    "        y = y[:m]\n",
    "\n",
    "        x = np.random.randint(2, size=m)\n",
    "        y = np.random.randint(2, size=m)\n",
    "        #res0 = solve0(x, y, m)\n",
    "        '''\n",
    "        \n",
    "        '''if not np.all(res0 == res[:m]):\n",
    "            print(i, j)\n",
    "            print(res0, res[:m])\n",
    "            sdf\n",
    "        '''\n",
    "        '''\n",
    "\n",
    "        if not np.all(np.isfinite(res)):\n",
    "            print(i, j)\n",
    "        elif not np.all((res <= len(res)) & (res >= 0)):\n",
    "            print(i, j, res.max(), res.min())\n",
    "            break\n",
    "        '''\n",
    "        \n",
    "en = time()\n",
    "print(en - be)"
   ]
  },
  {
   "cell_type": "code",
   "execution_count": 60,
   "id": "8181da6c",
   "metadata": {},
   "outputs": [
    {
     "data": {
      "application/vnd.jupyter.widget-view+json": {
       "model_id": "ac594fead6834bd3a8f94e800886a4dd",
       "version_major": 2,
       "version_minor": 0
      },
      "text/plain": [
       "  0%|          | 0/36 [00:00<?, ?it/s]"
      ]
     },
     "metadata": {},
     "output_type": "display_data"
    },
    {
     "name": "stdout",
     "output_type": "stream",
     "text": [
      "35.436442136764526\n"
     ]
    }
   ],
   "source": [
    "from time import time\n",
    "from metric_store import get_metric_names, load_metric, save_metric\n",
    "metric_name = 'probability_for_metrics/network_metrics/LCC_w'\n",
    "main_metric_name = metric_name[metric_name.find(\"/\") + 1:]\n",
    "metric_prob = load_metric(config, metric_name)\n",
    "predicted_events = get_metric_indicators(config, main_metric_name, metric_prob, thr=0.05)    \n",
    "data = np.load('../cyclones_events.npz')\n",
    "list(data.keys())\n",
    "cyclones_events = data['cyclone_events_4']\n",
    "\n",
    "w_start = 40\n",
    "be = time()\n",
    "pbar = tqdm(range(cyclones_events.shape[0]))\n",
    "A = B = C = D = None\n",
    "for i in pbar:\n",
    "    for j in range(cyclones_events.shape[1]):\n",
    "        if np.any(np.isnan(metric_prob[i, j, w_start:])):\n",
    "            continue\n",
    "        x, y = cyclones_events[i, j, w_start:].flatten(), predicted_events[i, j, w_start:].flatten()\n",
    "\n",
    "        d = solve2(x, y)\n",
    "        b = x.sum() - d\n",
    "        c = y.sum() - d\n",
    "        a = (len(x) - x.sum()) - c\n",
    "        \n",
    "        if D is None:\n",
    "            D = d\n",
    "            B = b\n",
    "            C = c\n",
    "            A = a\n",
    "        else:\n",
    "            D += d\n",
    "            B += b\n",
    "            C += c\n",
    "            A += a\n",
    "\n",
    "for i in range(len(A)):\n",
    "    if ((A[i] == 0) and (B[i] == 0)) or ((C[i] == 0) and (D[i] == 0)):\n",
    "        print()\n",
    "        print('here', tn, fn, fp, tp)\n",
    "        print()\n",
    "        g_stat = p_val = tn = fn = fp = tp = np.nan\n",
    "    else:\n",
    "        CM = np.array([[A[i], B[i]], [C[i], D[i]])\n",
    "        g_stat, p_val, dof, expctd = chi2_contingency(CM, lambda_=\"log-likelihood\", correction=False)\n",
    "\n",
    "en = time()\n",
    "print(en - be)"
   ]
  },
  {
   "cell_type": "code",
   "execution_count": 14,
   "id": "672be386",
   "metadata": {},
   "outputs": [
    {
     "data": {
      "text/plain": [
       "(array([1319.,    0.,    0.,    0.,    0.,    0.,    0.,    0.,    0.,\n",
       "           0.,    0.,    0.,    0.,    0.,    0.,    0.,    0.,    0.,\n",
       "           0.,    0.,    0.,    0.,    0.,    0.,    0.,    0.,    0.,\n",
       "           0.,    0.,    0.,    0.,    0.,    0.,    0.,    0.,    0.,\n",
       "           0.,    0.,    0.,    0.,    0.,    0.,    0.,    0.,    0.,\n",
       "           0.,    0.,    0.,    0.,    0.,    0.,    0.,    0.,    0.,\n",
       "           0.,    0.,    0.,    0.,    0.,    0.,    0.,    0.,    0.,\n",
       "           0.,    0.,    0.,    0.,    0.,    0.,    0.,    0.,    0.,\n",
       "           0.,    0.,    0.,    0.,    0.,    0.,    0.,    0.,    0.,\n",
       "           0.,    0.,    0.,    0.,    0.,    0.,    0.,    0.,    0.,\n",
       "           0.,    0.,    0.,    0.,    0.,    0.,    0.,    0.,    0.]),\n",
       " array([ 0,  1,  2,  3,  4,  5,  6,  7,  8,  9, 10, 11, 12, 13, 14, 15, 16,\n",
       "        17, 18, 19, 20, 21, 22, 23, 24, 25, 26, 27, 28, 29, 30, 31, 32, 33,\n",
       "        34, 35, 36, 37, 38, 39, 40, 41, 42, 43, 44, 45, 46, 47, 48, 49, 50,\n",
       "        51, 52, 53, 54, 55, 56, 57, 58, 59, 60, 61, 62, 63, 64, 65, 66, 67,\n",
       "        68, 69, 70, 71, 72, 73, 74, 75, 76, 77, 78, 79, 80, 81, 82, 83, 84,\n",
       "        85, 86, 87, 88, 89, 90, 91, 92, 93, 94, 95, 96, 97, 98, 99]),\n",
       " <BarContainer object of 99 artists>)"
      ]
     },
     "execution_count": 14,
     "metadata": {},
     "output_type": "execute_result"
    },
    {
     "data": {
      "image/png": "[encoded data removed]",
      "text/plain": [
       "<Figure size 432x288 with 1 Axes>"
      ]
     },
     "metadata": {
      "needs_background": "light"
     },
     "output_type": "display_data"
    }
   ],
   "source": [
    "na = np.sum(np.isnan(metric_prob[:, :, 40:]), axis=2)\n",
    "plt.hist(na.flatten(), bins=np.arange(100))\n",
    "#plt.imshow(na)"
   ]
  },
  {
   "cell_type": "code",
   "execution_count": null,
   "id": "a49de40e",
   "metadata": {},
   "outputs": [],
   "source": []
  }
 ],
 "metadata": {
  "kernelspec": {
   "display_name": "Python 3",
   "language": "python",
   "name": "python3"
  },
  "language_info": {
   "codemirror_mode": {
    "name": "ipython",
    "version": 3
   },
   "file_extension": ".py",
   "mimetype": "text/x-python",
   "name": "python",
   "nbconvert_exporter": "python",
   "pygments_lexer": "ipython3",
   "version": "3.9.7"
  }
 },
 "nbformat": 4,
 "nbformat_minor": 5
}
