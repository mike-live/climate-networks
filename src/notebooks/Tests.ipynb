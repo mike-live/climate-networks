{
 "cells": [
  {
   "cell_type": "code",
   "execution_count": 1,
   "id": "narrow-graham",
   "metadata": {},
   "outputs": [
    {
     "name": "stdout",
     "output_type": "stream",
     "text": [
      "Using matplotlib backend: Qt5Agg\n"
     ]
    }
   ],
   "source": [
    "%load_ext autoreload\n",
    "%autoreload 2\n",
    "import numpy as np\n",
    "import re\n",
    "import time\n",
    "%matplotlib\n",
    "import matplotlib\n",
    "import matplotlib.pyplot as plt\n",
    "import matplotlib.mlab as mlab\n",
    "import textwrap\n",
    "import scipy.stats as stats\n",
    "\n",
    "from scipy import stats\n",
    "import scipy\n",
    "from functools import partial\n",
    "\n",
    "import matplotlib.pylab as pylab\n",
    "import seaborn as sns\n",
    "sns.set_style('whitegrid', {'legend.frameon':True})\n",
    "sns.set_palette(sns.color_palette(\"Set1\", 12))\n",
    "#sns.set_context(\"paper\")\n",
    "fontsize = 12\n",
    "params = {'legend.fontsize': fontsize,\n",
    "  'figure.figsize': (18, 15),\n",
    "  'axes.labelsize': fontsize,\n",
    "  'axes.titlesize':fontsize,\n",
    "  'axes.edgecolor':\"0.3\",\n",
    "  'xtick.labelsize':fontsize,\n",
    "  'ytick.labelsize':fontsize,\n",
    "  'legend.fontsize':10,\n",
    "  'font.size':fontsize,\n",
    "  'font.family':'serif'}\n",
    "pylab.rcParams.update(params)\n",
    "plt.rc('axes', labelsize=fontsize) \n",
    "\n",
    "#plt.style.use('ggplot')\n",
    "%matplotlib inline\n",
    "\n",
    "from tqdm.notebook import tqdm\n",
    "import pandas as pd\n",
    "from pathlib2 import Path\n",
    "import os"
   ]
  },
  {
   "cell_type": "code",
   "execution_count": 2,
   "id": "future-hamburg",
   "metadata": {},
   "outputs": [],
   "source": [
    "import sys\n",
    "sys.path.append('../')\n",
    "\n",
    "from metric_store import save_metrics, save_metric, load_metrics, get_metric_names, load_metric\n",
    "from network_metrics import prepare_metric\n",
    "from pipeline.pipeline import load_config"
   ]
  },
  {
   "cell_type": "code",
   "execution_count": 3,
   "id": "medieval-strike",
   "metadata": {},
   "outputs": [],
   "source": [
    "config_name = \"pipeline.config\"\n",
    "config = load_config(config_name)"
   ]
  },
  {
   "cell_type": "code",
   "execution_count": 4,
   "id": "everyday-worst",
   "metadata": {},
   "outputs": [],
   "source": [
    "from corr_network import load_data, get_available_mask\n",
    "data = load_data(config)\n",
    "available_mask = get_available_mask(data)"
   ]
  },
  {
   "cell_type": "code",
   "execution_count": null,
   "id": "1f47ca9b",
   "metadata": {},
   "outputs": [],
   "source": []
  },
  {
   "cell_type": "code",
   "execution_count": 45,
   "id": "sized-diana",
   "metadata": {},
   "outputs": [
    {
     "name": "stdout",
     "output_type": "stream",
     "text": [
      "input_data/MSLP (113960, 36, 69) 2D\n"
     ]
    }
   ],
   "source": [
    "metric_names = ['input_data/MSLP']\n",
    "for metric_name in metric_names:\n",
    "    config.metrics_plot_options['metric_name'] = metric_name\n",
    "    metric = load_metric(config, metric_name)\n",
    "    #metric = prepare_metric(metric_name, metric, available_mask)\n",
    "    print(metric_name, metric.shape, config.metric_dimension[metric_name])    "
   ]
  },
  {
   "cell_type": "code",
   "execution_count": 6,
   "id": "prime-canadian",
   "metadata": {},
   "outputs": [
    {
     "data": {
      "text/plain": [
       "['network_metrics/LCC',\n",
       " 'network_metrics/GCC',\n",
       " 'network_metrics/LCC_w',\n",
       " 'network_metrics/GCC_w',\n",
       " 'network_metrics/degree',\n",
       " 'network_metrics/degree_w',\n",
       " 'network_metrics/EVC',\n",
       " 'network_metrics/EVC_w',\n",
       " 'network_metrics/closeness',\n",
       " 'network_metrics/closeness_w',\n",
       " 'network_metrics/LCC_0.9',\n",
       " 'network_metrics/GCC_0.9',\n",
       " 'network_metrics/degree_0.9',\n",
       " 'network_metrics/EVC_0.9',\n",
       " 'network_metrics/closeness_0.9']"
      ]
     },
     "execution_count": 6,
     "metadata": {},
     "output_type": "execute_result"
    }
   ],
   "source": [
    "prefix = 'network_metrics'\n",
    "metric_names = list(get_metric_names(config, prefix = prefix).keys())\n",
    "metric_names"
   ]
  },
  {
   "cell_type": "markdown",
   "id": "f79fe1e1",
   "metadata": {},
   "source": [
    "# Cyclone events"
   ]
  },
  {
   "cell_type": "code",
   "execution_count": 40,
   "id": "funny-division",
   "metadata": {},
   "outputs": [],
   "source": [
    "data = np.load('../cyclones_events.npz')\n",
    "list(data.keys())\n",
    "cyclone_events = data['cyclone_events_4']"
   ]
  },
  {
   "cell_type": "code",
   "execution_count": 41,
   "id": "faee6220",
   "metadata": {},
   "outputs": [],
   "source": [
    "cyclone_events = data['cyclone_events_2']"
   ]
  },
  {
   "cell_type": "code",
   "execution_count": 42,
   "id": "49eae77a",
   "metadata": {},
   "outputs": [],
   "source": [
    "cyclone_events = data['cyclone_events_6']"
   ]
  },
  {
   "cell_type": "code",
   "execution_count": 8,
   "id": "8bf6f535",
   "metadata": {},
   "outputs": [
    {
     "data": {
      "text/plain": [
       "(36, 69, 113960)"
      ]
     },
     "execution_count": 8,
     "metadata": {},
     "output_type": "execute_result"
    }
   ],
   "source": [
    "cyclone_events.shape"
   ]
  },
  {
   "cell_type": "code",
   "execution_count": 20,
   "id": "34571427",
   "metadata": {},
   "outputs": [
    {
     "name": "stdout",
     "output_type": "stream",
     "text": [
      "961\n"
     ]
    }
   ],
   "source": [
    "for i in range(100000):\n",
    "    if np.sum(cyclone_events[:, :, i]) > 0:\n",
    "        print(i)\n",
    "        break"
   ]
  },
  {
   "cell_type": "code",
   "execution_count": 39,
   "id": "22fe9691",
   "metadata": {},
   "outputs": [
    {
     "data": {
      "image/png": "[encoded data removed]",
      "text/plain": [
       "<Figure size 720x720 with 1 Axes>"
      ]
     },
     "metadata": {
      "needs_background": "light"
     },
     "output_type": "display_data"
    }
   ],
   "source": [
    "plt.figure(figsize=(10, 10))\n",
    "plt.imshow(cyclone_events[:, :, 974])\n",
    "plt.grid(0)"
   ]
  },
  {
   "cell_type": "code",
   "execution_count": 37,
   "id": "a03de9c4",
   "metadata": {},
   "outputs": [
    {
     "name": "stdout",
     "output_type": "stream",
     "text": [
      "1\n",
      "2\n",
      "3\n"
     ]
    },
    {
     "data": {
      "text/plain": [
       "3"
      ]
     },
     "execution_count": 37,
     "metadata": {},
     "output_type": "execute_result"
    }
   ],
   "source": [
    "d = {'a': 1}\n",
    "\n",
    "for d['a'] in [1, 2, 3]:\n",
    "    print(d['a'])\n",
    "d['a']    "
   ]
  },
  {
   "cell_type": "code",
   "execution_count": 46,
   "id": "f0d120cb",
   "metadata": {},
   "outputs": [],
   "source": [
    "from pathlib2 import Path"
   ]
  },
  {
   "cell_type": "code",
   "execution_count": 57,
   "id": "f1b926f3",
   "metadata": {},
   "outputs": [
    {
     "ename": "KeyError",
     "evalue": "'config'",
     "output_type": "error",
     "traceback": [
      "\u001b[1;31m---------------------------------------------------------------------------\u001b[0m",
      "\u001b[1;31mKeyError\u001b[0m                                  Traceback (most recent call last)",
      "\u001b[1;32mC:\\Users\\MIKE_L~1\\AppData\\Local\\Temp/ipykernel_9376/1371846770.py\u001b[0m in \u001b[0;36m<module>\u001b[1;34m\u001b[0m\n\u001b[0;32m      1\u001b[0m \u001b[0mp\u001b[0m \u001b[1;33m=\u001b[0m \u001b[0mPath\u001b[0m\u001b[1;33m(\u001b[0m\u001b[1;34m\"a{config.g_test_options['track_size']}\"\u001b[0m\u001b[1;33m)\u001b[0m \u001b[1;33m/\u001b[0m \u001b[1;34m'b'\u001b[0m\u001b[1;33m\u001b[0m\u001b[1;33m\u001b[0m\u001b[0m\n\u001b[0;32m      2\u001b[0m \u001b[0mstr\u001b[0m\u001b[1;33m(\u001b[0m\u001b[0mp\u001b[0m\u001b[1;33m)\u001b[0m\u001b[1;33m\u001b[0m\u001b[1;33m\u001b[0m\u001b[0m\n\u001b[1;32m----> 3\u001b[1;33m \u001b[0mPath\u001b[0m\u001b[1;33m(\u001b[0m\u001b[0mstr\u001b[0m\u001b[1;33m(\u001b[0m\u001b[0mp\u001b[0m\u001b[1;33m)\u001b[0m\u001b[1;33m.\u001b[0m\u001b[0mformat\u001b[0m\u001b[1;33m(\u001b[0m\u001b[1;33m**\u001b[0m\u001b[1;33m{\u001b[0m\u001b[1;34m\"config.g_test_options['track_size']\"\u001b[0m\u001b[1;33m:\u001b[0m \u001b[1;34m'xx'\u001b[0m\u001b[1;33m}\u001b[0m\u001b[1;33m)\u001b[0m\u001b[1;33m)\u001b[0m\u001b[1;33m\u001b[0m\u001b[1;33m\u001b[0m\u001b[0m\n\u001b[0m",
      "\u001b[1;31mKeyError\u001b[0m: 'config'"
     ]
    }
   ],
   "source": [
    "p = Path(\"a{config.g_test_options['track_size']}\") / 'b'\n",
    "str(p)\n",
    "Path(str(p).format(**{\"config.g_test_options['track_size']\": 'xx'}))"
   ]
  },
  {
   "cell_type": "code",
   "execution_count": 59,
   "id": "aea850db",
   "metadata": {},
   "outputs": [
    {
     "ename": "ValueError",
     "evalue": "not enough values to unpack (expected 2, got 0)",
     "output_type": "error",
     "traceback": [
      "\u001b[1;31m---------------------------------------------------------------------------\u001b[0m",
      "\u001b[1;31mValueError\u001b[0m                                Traceback (most recent call last)",
      "\u001b[1;32mC:\\Users\\MIKE_L~1\\AppData\\Local\\Temp/ipykernel_9376/3318133231.py\u001b[0m in \u001b[0;36m<module>\u001b[1;34m\u001b[0m\n\u001b[1;32m----> 1\u001b[1;33m \u001b[0mx\u001b[0m\u001b[1;33m,\u001b[0m \u001b[0my\u001b[0m \u001b[1;33m=\u001b[0m \u001b[0mpd\u001b[0m\u001b[1;33m.\u001b[0m\u001b[0mDataFrame\u001b[0m\u001b[1;33m(\u001b[0m\u001b[1;33m)\u001b[0m\u001b[1;33m\u001b[0m\u001b[1;33m\u001b[0m\u001b[0m\n\u001b[0m",
      "\u001b[1;31mValueError\u001b[0m: not enough values to unpack (expected 2, got 0)"
     ]
    }
   ],
   "source": [
    "x, y = pd.DataFrame()"
   ]
  },
  {
   "cell_type": "code",
   "execution_count": 6,
   "id": "759a94c3",
   "metadata": {},
   "outputs": [],
   "source": [
    "import os\n",
    "os.chdir('..')"
   ]
  },
  {
   "cell_type": "code",
   "execution_count": 7,
   "id": "12688c26",
   "metadata": {},
   "outputs": [],
   "source": [
    "from cyclone_metrics import get_cyclone_events\n",
    "import numpy as np\n",
    "#from cyclone_metrics import get_cyclone_events\n",
    "from plot_network_metrics.utils import get_times_lats_lots\n",
    "from cyclones_info.cyclones_info import get_cyclones_info, get_cyclones\n",
    "from tqdm import tqdm\n",
    "\n",
    "all_times, all_lats, all_lons = get_times_lats_lots(config)\n",
    "cyclones_frame = get_cyclones_info(config)\n",
    "cyclones_dict = get_cyclones(cyclones_frame, config.cyclone_metrics_options)\n",
    "\n",
    "track_size = config.g_test_options['track_size']\n"
   ]
  },
  {
   "cell_type": "code",
   "execution_count": 9,
   "id": "54148bbe",
   "metadata": {},
   "outputs": [
    {
     "ename": "ImportError",
     "evalue": "cannot import name 'get_cyclone_for_special_number' from 'cyclones_info' (d:\\PC\\UNN\\Science\\Climate\\programs\\climate-networks\\src\\notebooks\\..\\cyclones_info\\__init__.py)",
     "output_type": "error",
     "traceback": [
      "\u001b[1;31m---------------------------------------------------------------------------\u001b[0m",
      "\u001b[1;31mImportError\u001b[0m                               Traceback (most recent call last)",
      "\u001b[1;32mC:\\Users\\MIKE_L~1\\AppData\\Local\\Temp/ipykernel_3352/351307363.py\u001b[0m in \u001b[0;36m<module>\u001b[1;34m\u001b[0m\n\u001b[1;32m----> 1\u001b[1;33m \u001b[1;32mfrom\u001b[0m \u001b[0mcyclones_info\u001b[0m \u001b[1;32mimport\u001b[0m \u001b[0mget_cyclone_for_special_number\u001b[0m\u001b[1;33m,\u001b[0m \u001b[0mextension_df_for_cyclone\u001b[0m\u001b[1;33m,\u001b[0m \u001b[0mfull_extended_df_for_cyclone\u001b[0m\u001b[1;33m,\u001b[0m \u001b[0mget_cyclone_area\u001b[0m\u001b[1;33m\u001b[0m\u001b[1;33m\u001b[0m\u001b[0m\n\u001b[0m\u001b[0;32m      2\u001b[0m \u001b[1;33m\u001b[0m\u001b[0m\n\u001b[0;32m      3\u001b[0m \u001b[1;32mdef\u001b[0m \u001b[0mget_cyclone_events\u001b[0m\u001b[1;33m(\u001b[0m\u001b[0mcyclones_frame\u001b[0m\u001b[1;33m,\u001b[0m \u001b[0mcyclones_dict\u001b[0m\u001b[1;33m,\u001b[0m \u001b[0mtimes\u001b[0m\u001b[1;33m,\u001b[0m \u001b[0mlats\u001b[0m\u001b[1;33m,\u001b[0m \u001b[0mlons\u001b[0m\u001b[1;33m,\u001b[0m \u001b[0mtrack_size\u001b[0m\u001b[1;33m=\u001b[0m\u001b[1;36m2\u001b[0m\u001b[1;33m,\u001b[0m \u001b[0mneed_shift\u001b[0m\u001b[1;33m=\u001b[0m\u001b[1;32mFalse\u001b[0m\u001b[1;33m,\u001b[0m \u001b[0mshift_lo\u001b[0m\u001b[1;33m=\u001b[0m\u001b[1;36m20\u001b[0m \u001b[1;33m*\u001b[0m \u001b[1;36m8\u001b[0m\u001b[1;33m,\u001b[0m \u001b[0mshift_hi\u001b[0m\u001b[1;33m=\u001b[0m\u001b[1;36m50\u001b[0m \u001b[1;33m*\u001b[0m \u001b[1;36m8\u001b[0m\u001b[1;33m)\u001b[0m\u001b[1;33m:\u001b[0m\u001b[1;33m\u001b[0m\u001b[1;33m\u001b[0m\u001b[0m\n\u001b[0;32m      4\u001b[0m     \u001b[0mshapes\u001b[0m \u001b[1;33m=\u001b[0m \u001b[1;33m(\u001b[0m\u001b[0mlen\u001b[0m\u001b[1;33m(\u001b[0m\u001b[0mlats\u001b[0m\u001b[1;33m)\u001b[0m\u001b[1;33m,\u001b[0m \u001b[0mlen\u001b[0m\u001b[1;33m(\u001b[0m\u001b[0mlons\u001b[0m\u001b[1;33m)\u001b[0m\u001b[1;33m,\u001b[0m \u001b[0mlen\u001b[0m\u001b[1;33m(\u001b[0m\u001b[0mtimes\u001b[0m\u001b[1;33m)\u001b[0m\u001b[1;33m)\u001b[0m\u001b[1;33m\u001b[0m\u001b[1;33m\u001b[0m\u001b[0m\n\u001b[0;32m      5\u001b[0m     \u001b[0mcyclones_events\u001b[0m \u001b[1;33m=\u001b[0m \u001b[0mnp\u001b[0m\u001b[1;33m.\u001b[0m\u001b[0mzeros\u001b[0m\u001b[1;33m(\u001b[0m\u001b[0mshapes\u001b[0m\u001b[1;33m,\u001b[0m \u001b[0mdtype\u001b[0m\u001b[1;33m=\u001b[0m\u001b[1;34m'bool'\u001b[0m\u001b[1;33m)\u001b[0m\u001b[1;33m\u001b[0m\u001b[1;33m\u001b[0m\u001b[0m\n",
      "\u001b[1;31mImportError\u001b[0m: cannot import name 'get_cyclone_for_special_number' from 'cyclones_info' (d:\\PC\\UNN\\Science\\Climate\\programs\\climate-networks\\src\\notebooks\\..\\cyclones_info\\__init__.py)"
     ]
    }
   ],
   "source": [
    "import cyclones_info\n",
    "#from cyclones_info import get_cyclone_for_special_number, extension_df_for_cyclone, full_extended_df_for_cyclone, get_cyclone_area\n",
    "\n",
    "def get_cyclone_events(cyclones_frame, cyclones_dict, times, lats, lons, track_size=2, need_shift=False, shift_lo=20 * 8, shift_hi=50 * 8):\n",
    "    shapes = (len(lats), len(lons), len(times))\n",
    "    cyclones_events = np.zeros(shapes, dtype='bool')\n",
    "    from tqdm import tqdm\n",
    "\n",
    "    for cyclone in tqdm(cyclones_dict):\n",
    "        curr_cyc_df = cyclones_info.get_cyclone_for_special_number(cyclones_frame, cyclone['number'])\n",
    "        # дополняем циклон точками каждые три часа (если в таблице нет данных за какое-то время,\n",
    "        # то берём lon lat как в предыдущей известной временной точке)\n",
    "        curr_cyc_df = cyclones_info.extension_df_for_cyclone(curr_cyc_df)\n",
    "        continue\n",
    "        curr_cyc_df = cyclones_info.full_extended_df_for_cyclone(curr_cyc_df)\n",
    "        if need_shift:\n",
    "            shift = np.random.random_integers(shift_lo, shift_hi)\n",
    "        else:\n",
    "            shift = 0\n",
    "        if not curr_cyc_df.empty:\n",
    "            for k in range(len(curr_cyc_df)):\n",
    "                d = datetime.strptime(curr_cyc_df['Date (DD/MM/YYYY)'][k] + ' ' + curr_cyc_df['Time (UTC)'][k],\n",
    "                                      '%d/%m/%Y %H%M')\n",
    "                ind_time = list(times).index(d.strftime('%Y.%m.%d %H:%M:%S'))\n",
    "                ind_time = (ind_time + shift) % shapes[2]\n",
    "                message, start_ind_lat, end_ind_lat, \\\n",
    "                start_ind_lon, end_ind_lon = get_cyclone_area(float(curr_cyc_df['Latitude (lat.)'][k]),\n",
    "                                                              float(curr_cyc_df['Longitude (lon.)'][k]),\n",
    "                                                              lats, lons, track_size)\n",
    "                if message == '':\n",
    "                    cyclones_events[start_ind_lat:end_ind_lat, start_ind_lon:end_ind_lon, ind_time] = True\n",
    "\n",
    "    return cyclones_events"
   ]
  },
  {
   "cell_type": "code",
   "execution_count": null,
   "id": "e30770eb",
   "metadata": {},
   "outputs": [],
   "source": [
    "cyclones_events = get_cyclone_events(cyclones_frame, cyclones_dict, all_times, all_lats, all_lons, track_size)\n"
   ]
  }
 ],
 "metadata": {
  "kernelspec": {
   "display_name": "Python 3",
   "language": "python",
   "name": "python3"
  },
  "language_info": {
   "codemirror_mode": {
    "name": "ipython",
    "version": 3
   },
   "file_extension": ".py",
   "mimetype": "text/x-python",
   "name": "python",
   "nbconvert_exporter": "python",
   "pygments_lexer": "ipython3",
   "version": "3.9.7"
  }
 },
 "nbformat": 4,
 "nbformat_minor": 5
}
