{
 "cells": [
  {
   "cell_type": "code",
   "execution_count": 1,
   "id": "narrow-graham",
   "metadata": {},
   "outputs": [
    {
     "name": "stdout",
     "output_type": "stream",
     "text": [
      "Using matplotlib backend: Qt5Agg\n"
     ]
    }
   ],
   "source": [
    "%load_ext autoreload\n",
    "%autoreload 2\n",
    "import numpy as np\n",
    "import re\n",
    "import time\n",
    "%matplotlib\n",
    "import matplotlib\n",
    "import matplotlib.pyplot as plt\n",
    "import matplotlib.mlab as mlab\n",
    "import textwrap\n",
    "import scipy.stats as stats\n",
    "\n",
    "from scipy import stats\n",
    "import scipy\n",
    "from functools import partial\n",
    "\n",
    "import matplotlib.pylab as pylab\n",
    "import seaborn as sns\n",
    "sns.set_style('whitegrid', {'legend.frameon':True})\n",
    "sns.set_palette(sns.color_palette(\"Set1\", 12))\n",
    "#sns.set_context(\"paper\")\n",
    "fontsize = 12\n",
    "params = {'legend.fontsize': fontsize,\n",
    "  'figure.figsize': (18, 15),\n",
    "  'axes.labelsize': fontsize,\n",
    "  'axes.titlesize':fontsize,\n",
    "  'axes.edgecolor':\"0.3\",\n",
    "  'xtick.labelsize':fontsize,\n",
    "  'ytick.labelsize':fontsize,\n",
    "  'legend.fontsize':10,\n",
    "  'font.size':fontsize,\n",
    "  'font.family':'serif'}\n",
    "pylab.rcParams.update(params)\n",
    "plt.rc('axes', labelsize=fontsize) \n",
    "\n",
    "#plt.style.use('ggplot')\n",
    "%matplotlib inline\n",
    "\n",
    "from tqdm.notebook import tqdm\n",
    "import pandas as pd\n",
    "from pathlib2 import Path\n",
    "import os\n",
    "from time import time"
   ]
  },
  {
   "cell_type": "code",
   "execution_count": 2,
   "id": "future-hamburg",
   "metadata": {},
   "outputs": [],
   "source": [
    "import sys\n",
    "sys.path.append('../')\n",
    "\n",
    "from metric_store import save_metrics, save_metric, load_metrics, get_metric_names, load_metric\n",
    "from network_metrics import prepare_metric\n",
    "from pipeline.pipeline import load_config"
   ]
  },
  {
   "cell_type": "code",
   "execution_count": 3,
   "id": "medieval-strike",
   "metadata": {},
   "outputs": [],
   "source": [
    "config_name = \"pipeline.config\"\n",
    "config = load_config(config_name)"
   ]
  },
  {
   "cell_type": "code",
   "execution_count": 4,
   "id": "759a94c3",
   "metadata": {},
   "outputs": [],
   "source": [
    "import os\n",
    "os.chdir('..')"
   ]
  },
  {
   "cell_type": "code",
   "execution_count": 4,
   "id": "c56d7898",
   "metadata": {},
   "outputs": [],
   "source": [
    "def get_sign_for_metric(config, metric_name):\n",
    "    if metric_name in config.g_test_options['less']:\n",
    "        sign = '<'\n",
    "    elif metric_name in config.g_test_options['greater']:\n",
    "        sign = '>'\n",
    "    else:\n",
    "        print(\"There is no boxplot for probability of \", metric_name)\n",
    "        sign = -1\n",
    "    return sign\n",
    "\n",
    "\n",
    "def get_metric_indicators(config, metric_name, metric_prob, thr):\n",
    "    import warnings\n",
    "    sign = get_sign_for_metric(config, metric_name)\n",
    "    if sign == -1:\n",
    "        return np.array([])\n",
    "    else:\n",
    "        predicted_events = np.zeros(metric_prob.shape, dtype='bool')\n",
    "        with warnings.catch_warnings():\n",
    "            warnings.simplefilter(\"ignore\", category=RuntimeWarning)\n",
    "            if sign == '<':\n",
    "                predicted_events = metric_prob < thr\n",
    "            elif sign == '>':\n",
    "                predicted_events = metric_prob > thr\n",
    "        return predicted_events"
   ]
  },
  {
   "cell_type": "code",
   "execution_count": 55,
   "id": "e3cc4b20",
   "metadata": {},
   "outputs": [],
   "source": [
    "import pyfftw\n",
    "def fft(x):\n",
    "    a = pyfftw.empty_aligned(len(x), dtype='complex128', n=16)\n",
    "    a[:] = x\n",
    "    b = pyfftw.interfaces.numpy_fft.fft(a)\n",
    "    return b\n",
    "def ifft(x):\n",
    "    a = pyfftw.empty_aligned(len(x), dtype='complex128', n=16)\n",
    "    a[:] = x\n",
    "    b = pyfftw.interfaces.numpy_fft.ifft(a)\n",
    "    return b"
   ]
  },
  {
   "cell_type": "code",
   "execution_count": 5,
   "id": "3d337b83",
   "metadata": {},
   "outputs": [],
   "source": [
    "from numpy.fft import fft, ifft"
   ]
  },
  {
   "cell_type": "code",
   "execution_count": 52,
   "id": "e555fde4",
   "metadata": {},
   "outputs": [],
   "source": [
    "from scipy.fft import fft, ifft"
   ]
  },
  {
   "cell_type": "code",
   "execution_count": 6,
   "id": "1894c9f8",
   "metadata": {},
   "outputs": [],
   "source": [
    "def solve(x, y):\n",
    "    n = len(x)\n",
    "    x = x[::-1]\n",
    "    x = np.concatenate([x, np.zeros_like(x)])\n",
    "    y = np.concatenate([y, y])\n",
    "    xf = fft(x)\n",
    "    yf = fft(y)\n",
    "    zf = xf * yf\n",
    "    z = ifft(zf)\n",
    "    return np.rint(z.real).astype(np.int32)[n-1:-1]\n",
    "\n",
    "def solve1(x, y):\n",
    "    n = len(x)\n",
    "    x = x[::-1]\n",
    "    x = np.concatenate([x, np.zeros_like(x)])\n",
    "    y = np.concatenate([y, y])\n",
    "    q = x + 1j * y\n",
    "    qf = fft(q)\n",
    "    qfr = np.conjugate(np.roll(qf[::-1], 1))\n",
    "    xf = (qf + qfr) * 0.5\n",
    "    yf = (qf - qfr) * -0.5j\n",
    "    zf = xf * yf\n",
    "    z = ifft(zf)\n",
    "    return np.rint(z.real).astype(np.int32)[n-1:-1]\n",
    "\n",
    "from scipy.signal import fftconvolve\n",
    "def solve2(x, y):\n",
    "    n = len(x)\n",
    "    x = x[::-1]\n",
    "    y = np.concatenate([y, y])\n",
    "    z = fftconvolve(x, y, 'same')\n",
    "    return np.rint(z.real).astype(np.int32)\n",
    "\n",
    "def solve3(x, y):\n",
    "    n = len(x)\n",
    "    x = x[::-1]\n",
    "    x = np.concatenate([x, np.zeros_like(x)])\n",
    "    y = np.concatenate([y, y])\n",
    "    z = fftconvolve(x, y, 'same')[:n]\n",
    "    return np.rint(z.real).astype(np.int32)\n",
    "\n",
    "\n",
    "def solve0(x, y, m = 100):\n",
    "    res = np.zeros(m, dtype=np.int32)\n",
    "    for i in range(m):\n",
    "        res[i] = np.sum(x & y)\n",
    "        y = np.roll(y, -1)\n",
    "        \n",
    "    return res"
   ]
  },
  {
   "cell_type": "markdown",
   "id": "0d8842c7",
   "metadata": {},
   "source": [
    "# Test different solve functions"
   ]
  },
  {
   "cell_type": "code",
   "execution_count": 7,
   "id": "48d1e727",
   "metadata": {},
   "outputs": [
    {
     "data": {
      "application/vnd.jupyter.widget-view+json": {
       "model_id": "4de5b4ff2e6b40e18817357c8b32bc8f",
       "version_major": 2,
       "version_minor": 0
      },
      "text/plain": [
       "  0%|          | 0/36 [00:00<?, ?it/s]"
      ]
     },
     "metadata": {},
     "output_type": "display_data"
    },
    {
     "name": "stdout",
     "output_type": "stream",
     "text": [
      "71.7266595363617\n"
     ]
    }
   ],
   "source": [
    "from time import time\n",
    "from metric_store import get_metric_names, load_metric, save_metric\n",
    "metric_name = 'probability_for_metrics/network_metrics/LCC_w'\n",
    "main_metric_name = metric_name[metric_name.find(\"/\") + 1:]\n",
    "metric_prob = load_metric(config, metric_name)\n",
    "predicted_events = get_metric_indicators(config, main_metric_name, metric_prob, thr=0.05)    \n",
    "data = np.load('../cyclones_events.npz')\n",
    "list(data.keys())\n",
    "cyclones_events = data['cyclone_events_4']\n",
    "\n",
    "w_start = 40\n",
    "be = time()\n",
    "pbar = tqdm(range(cyclones_events.shape[0]))\n",
    "A = B = C = D = None\n",
    "for i in pbar:\n",
    "    for j in range(cyclones_events.shape[1]):\n",
    "        if np.any(np.isnan(metric_prob[i, j, w_start:])):\n",
    "            continue\n",
    "        x, y = cyclones_events[i, j, w_start:].flatten(), predicted_events[i, j, w_start:].flatten()\n",
    "        #m=1000\n",
    "        #x = np.random.randint(2, size=m)\n",
    "        #y = np.random.randint(2, size=m)\n",
    "        \n",
    "        res = solve(x, y)\n",
    "        #res1 = solve0(x.copy(), y.copy(), m)\n",
    "        #res1 = solve1(x, y)\n",
    "        #res2 = solve2(x, y)\n",
    "        #assert(np.all(d == d1))        \n",
    "\n",
    "        #res2 = solve2(x, y)\n",
    "        '''\n",
    "        if not np.all(res2 == res1):\n",
    "            print(res1.shape, res2.shape)\n",
    "            print(res1[:1000], res2[:1000])\n",
    "            sdf\n",
    "        '''\n",
    "        \n",
    "        '''x = x[:m]\n",
    "        y = y[:m]\n",
    "\n",
    "        x = np.random.randint(2, size=m)\n",
    "        y = np.random.randint(2, size=m)\n",
    "        #res0 = solve0(x, y, m)\n",
    "        '''\n",
    "        \n",
    "        '''if not np.all(res0 == res[:m]):\n",
    "            print(i, j)\n",
    "            print(res0, res[:m])\n",
    "            sdf\n",
    "        '''\n",
    "        '''\n",
    "\n",
    "        if not np.all(np.isfinite(res)):\n",
    "            print(i, j)\n",
    "        elif not np.all((res <= len(res)) & (res >= 0)):\n",
    "            print(i, j, res.max(), res.min())\n",
    "            break\n",
    "        '''\n",
    "        \n",
    "en = time()\n",
    "print(en - be)"
   ]
  },
  {
   "cell_type": "markdown",
   "id": "c7783f30",
   "metadata": {},
   "source": [
    "# Compute contigency table for all shifts and corresponding g-statistics"
   ]
  },
  {
   "cell_type": "code",
   "execution_count": 8,
   "id": "8181da6c",
   "metadata": {},
   "outputs": [
    {
     "data": {
      "application/vnd.jupyter.widget-view+json": {
       "model_id": "4ab892a365884bba9a6db1f4e79b03ca",
       "version_major": 2,
       "version_minor": 0
      },
      "text/plain": [
       "  0%|          | 0/36 [00:00<?, ?it/s]"
      ]
     },
     "metadata": {},
     "output_type": "display_data"
    },
    {
     "name": "stdout",
     "output_type": "stream",
     "text": [
      "53.95409822463989\n"
     ]
    }
   ],
   "source": [
    "from time import time\n",
    "from metric_store import get_metric_names, load_metric, save_metric\n",
    "metric_name = 'probability_for_metrics/network_metrics/LCC_w'\n",
    "main_metric_name = metric_name[metric_name.find(\"/\") + 1:]\n",
    "metric_prob = load_metric(config, metric_name)\n",
    "predicted_events = get_metric_indicators(config, main_metric_name, metric_prob, thr=0.05)    \n",
    "data = np.load('../cyclones_events.npz')\n",
    "list(data.keys())\n",
    "cyclones_events = data['cyclone_events_6']\n",
    "\n",
    "w_start = 40\n",
    "be = time()\n",
    "pbar = tqdm(range(cyclones_events.shape[0]))\n",
    "A = B = C = D = None\n",
    "for i in pbar:\n",
    "    for j in range(cyclones_events.shape[1]):\n",
    "        if np.any(np.isnan(metric_prob[i, j, w_start:])):\n",
    "            continue\n",
    "        x, y = cyclones_events[i, j, w_start:].flatten(), predicted_events[i, j, w_start:].flatten()\n",
    "\n",
    "        d = solve2(x, y)\n",
    "        b = x.sum() - d\n",
    "        c = y.sum() - d\n",
    "        a = (len(x) - x.sum()) - c\n",
    "        \n",
    "        if D is None:\n",
    "            D = d\n",
    "            B = b\n",
    "            C = c\n",
    "            A = a\n",
    "        else:\n",
    "            D += d\n",
    "            B += b\n",
    "            C += c\n",
    "            A += a\n",
    "from scipy.stats import chi2_contingency\n",
    "g_stats = []\n",
    "for i in range(len(A)):\n",
    "    if ((A[i] == 0) and (B[i] == 0)) or ((C[i] == 0) and (D[i] == 0)):\n",
    "        print()\n",
    "        print('here', tn, fn, fp, tp)\n",
    "        print()\n",
    "        g_stat = p_val = tn = fn = fp = tp = np.nan\n",
    "    else:\n",
    "        CM = np.array([[A[i], B[i]], [C[i], D[i]]])\n",
    "        g_stat, p_val, dof, expctd = chi2_contingency(CM, lambda_=\"log-likelihood\", correction=False)\n",
    "    g_stats.append(g_stat)\n",
    "en = time()\n",
    "print(en - be)"
   ]
  },
  {
   "cell_type": "code",
   "execution_count": 9,
   "id": "eeb4ec83",
   "metadata": {},
   "outputs": [
    {
     "name": "stdout",
     "output_type": "stream",
     "text": [
      "227839\n"
     ]
    },
    {
     "data": {
      "image/png": "[encoded data removed]",
      "text/plain": [
       "<Figure size 432x288 with 1 Axes>"
      ]
     },
     "metadata": {
      "needs_background": "light"
     },
     "output_type": "display_data"
    }
   ],
   "source": [
    "g_stats = np.array(g_stats)\n",
    "t = np.arange(0, 100000, 3 / 24)\n",
    "t = t[:len(g_stats)]\n",
    "t = np.concatenate([-t[:0:-1], t])\n",
    "print(len(t))\n",
    "n = len(g_stats)\n",
    "g_stats_2 = np.concatenate([g_stats[1:], g_stats])\n",
    "plt.plot(t[n-100:n+100], g_stats_2[n-100:n+100])\n",
    "plt.vlines(2.5, 0, 250000, 'b', linestyle='--')\n",
    "id_max = np.argmax(g_stats_2)\n",
    "plt.plot(t[id_max + n], g_stats_2[id_max + n], 'go', markersize=7)\n",
    "plt.xlabel('Time shift, d')\n",
    "plt.ylabel('G-statistic')\n",
    "pass"
   ]
  },
  {
   "cell_type": "code",
   "execution_count": 10,
   "id": "0723a49d",
   "metadata": {},
   "outputs": [
    {
     "data": {
      "text/plain": [
       "0.0003335674157303371"
      ]
     },
     "execution_count": 10,
     "metadata": {},
     "output_type": "execute_result"
    }
   ],
   "source": [
    "np.mean(np.array(g_stats) > g_stats[0])"
   ]
  },
  {
   "cell_type": "code",
   "execution_count": 11,
   "id": "2befe383",
   "metadata": {},
   "outputs": [
    {
     "name": "stdout",
     "output_type": "stream",
     "text": [
      "227839 227839\n"
     ]
    },
    {
     "data": {
      "image/png": "[encoded data removed]",
      "text/plain": [
       "<Figure size 432x288 with 1 Axes>"
      ]
     },
     "metadata": {
      "needs_background": "light"
     },
     "output_type": "display_data"
    }
   ],
   "source": [
    "g_stats = np.array(g_stats)\n",
    "t = np.arange(0, 100000, 3 / 24)\n",
    "t = t[:len(g_stats)]\n",
    "t = np.concatenate([-t[:0:-1], t])\n",
    "n = len(g_stats)\n",
    "g_stats_2 = np.concatenate([g_stats[1:], g_stats])\n",
    "print(len(t), len(g_stats_2))\n",
    "\n",
    "plt.plot(t, g_stats_2)\n",
    "#plt.vlines(2.5, 0, 250000, 'b', linestyle='--')\n",
    "#id_max = np.argmax(g_stats_2)\n",
    "#plt.plot(t[id_max + n], g_stats_2[id_max + n], 'go', markersize=7)\n",
    "plt.xlabel('Time shift, d')\n",
    "plt.ylabel('G-statistic')\n",
    "pass"
   ]
  },
  {
   "cell_type": "code",
   "execution_count": null,
   "id": "a49de40e",
   "metadata": {},
   "outputs": [],
   "source": []
  }
 ],
 "metadata": {
  "kernelspec": {
   "display_name": "Python 3",
   "language": "python",
   "name": "python3"
  },
  "language_info": {
   "codemirror_mode": {
    "name": "ipython",
    "version": 3
   },
   "file_extension": ".py",
   "mimetype": "text/x-python",
   "name": "python",
   "nbconvert_exporter": "python",
   "pygments_lexer": "ipython3",
   "version": "3.9.7"
  }
 },
 "nbformat": 4,
 "nbformat_minor": 5
}
